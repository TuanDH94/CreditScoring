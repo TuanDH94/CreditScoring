{
 "cells": [
  {
   "cell_type": "code",
   "execution_count": 1,
   "metadata": {
    "pycharm": {
     "is_executing": false
    }
   },
   "outputs": [],
   "source": [
    "import pandas as pd\n",
    "import numpy as np\n",
    "from sklearn.model_selection import train_test_split\n",
    "from xgboost import XGBClassifier\n",
    "from sklearn import preprocessing\n",
    "from sklearn.model_selection import StratifiedKFold\n",
    "import lightgbm as lgb\n",
    "from sklearn.metrics import roc_auc_score\n",
    "import matplotlib.pyplot as plt\n",
    "import seaborn as sns"
   ]
  },
  {
   "cell_type": "code",
   "execution_count": 2,
   "metadata": {
    "pycharm": {
     "is_executing": false
    },
    "scrolled": true
   },
   "outputs": [
    {
     "name": "stderr",
     "output_type": "stream",
     "text": [
      "c:\\python3\\lib\\site-packages\\IPython\\core\\interactiveshell.py:3058: DtypeWarning: Columns (51) have mixed types. Specify dtype option on import or set low_memory=False.\n",
      "  interactivity=interactivity, compiler=compiler, result=result)\n",
      "c:\\python3\\lib\\site-packages\\IPython\\core\\interactiveshell.py:3058: DtypeWarning: Columns (50) have mixed types. Specify dtype option on import or set low_memory=False.\n",
      "  interactivity=interactivity, compiler=compiler, result=result)\n"
     ]
    }
   ],
   "source": [
    "train = pd.read_csv('input/train.csv')\n",
    "test = pd.read_csv('input/test.csv')"
   ]
  },
  {
   "cell_type": "code",
   "execution_count": 3,
   "metadata": {
    "pycharm": {
     "is_executing": false
    },
    "scrolled": true
   },
   "outputs": [
    {
     "name": "stdout",
     "output_type": "stream",
     "text": [
      "Index(['id', 'label', 'province', 'district', 'age_source1', 'age_source2',\n",
      "       'maCv', 'FIELD_1', 'FIELD_2', 'FIELD_3', 'FIELD_4', 'FIELD_5',\n",
      "       'FIELD_6', 'FIELD_7', 'FIELD_8', 'FIELD_9', 'FIELD_10', 'FIELD_11',\n",
      "       'FIELD_12', 'FIELD_13', 'FIELD_14', 'FIELD_15', 'FIELD_16', 'FIELD_17',\n",
      "       'FIELD_18', 'FIELD_19', 'FIELD_20', 'FIELD_21', 'FIELD_22', 'FIELD_23',\n",
      "       'FIELD_24', 'FIELD_25', 'FIELD_26', 'FIELD_27', 'FIELD_28', 'FIELD_29',\n",
      "       'FIELD_30', 'FIELD_31', 'FIELD_32', 'FIELD_33', 'FIELD_34', 'FIELD_35',\n",
      "       'FIELD_36', 'FIELD_37', 'FIELD_38', 'FIELD_39', 'FIELD_40', 'FIELD_41',\n",
      "       'FIELD_42', 'FIELD_43', 'FIELD_44', 'FIELD_45', 'FIELD_46', 'FIELD_47',\n",
      "       'FIELD_48', 'FIELD_49', 'FIELD_50', 'FIELD_51', 'FIELD_52', 'FIELD_53',\n",
      "       'FIELD_54', 'FIELD_55', 'FIELD_56', 'FIELD_57'],\n",
      "      dtype='object')\n",
      "\n",
      "   id  label               province               district  age_source1  \\\n",
      "0   0      0                    NaN                    NaN          NaN   \n",
      "1   1      0          Tỉnh Đồng Nai     Thành phố Biên Hòa         44.0   \n",
      "2   2      0          Tỉnh Đồng Nai       Huyện Long Thành         30.0   \n",
      "3   3      0       Tỉnh Tuyên Quang  Thành phố Tuyên Quang         43.0   \n",
      "4   4      0  Thành phố Hồ Chí Minh                 Quận 1         21.0   \n",
      "\n",
      "   age_source2       maCv  FIELD_1  FIELD_2  FIELD_3  ...  FIELD_48  FIELD_49  \\\n",
      "0          NaN        NaN        1      1.0   2547.0  ...      True      True   \n",
      "1         44.0       None        1      0.0     -1.0  ...     False      True   \n",
      "2         30.0  Công nhân        0      1.0   3273.0  ...      True      True   \n",
      "3          NaN        NaN        0      1.0   3991.0  ...      True     False   \n",
      "4         21.0       None        0      1.0   1450.0  ...      True      True   \n",
      "\n",
      "   FIELD_50 FIELD_51 FIELD_52 FIELD_53 FIELD_54 FIELD_55 FIELD_56 FIELD_57  \n",
      "0       NaN      NaN      NaN      NaN      NaN      NaN      NaN      NaN  \n",
      "1     29.77   17.561   30.955   31.171      0.0     0.04      0.0      0.0  \n",
      "2     29.77   56.512   30.955   31.171      0.0     0.16      0.0      0.0  \n",
      "3       NaN      NaN      NaN      NaN      NaN      NaN      NaN      NaN  \n",
      "4     29.77   13.789   30.955   31.171      0.0     0.03      0.0      0.0  \n",
      "\n",
      "[5 rows x 64 columns]\n"
     ]
    }
   ],
   "source": [
    "print(train.columns)\n",
    "print()\n",
    "print(train.head())"
   ]
  },
  {
   "cell_type": "code",
   "execution_count": 4,
   "metadata": {},
   "outputs": [],
   "source": [
    "train_cols = [col for col in train.columns if col not in ['id', 'maCv', 'province', 'district', 'label', 'FIELD_7']]\n",
    "# train_cols = [col for col in train.columns if col not in ['label']]"
   ]
  },
  {
   "cell_type": "code",
   "execution_count": 5,
   "metadata": {},
   "outputs": [
    {
     "name": "stdout",
     "output_type": "stream",
     "text": [
      "['FIELD_8', 'FIELD_9', 'FIELD_10', 'FIELD_11', 'FIELD_12', 'FIELD_13', 'FIELD_17', 'FIELD_18', 'FIELD_19', 'FIELD_20', 'FIELD_23', 'FIELD_24', 'FIELD_25', 'FIELD_26', 'FIELD_27', 'FIELD_28', 'FIELD_29', 'FIELD_30', 'FIELD_31', 'FIELD_35', 'FIELD_36', 'FIELD_37', 'FIELD_38', 'FIELD_39', 'FIELD_40', 'FIELD_41', 'FIELD_42', 'FIELD_43', 'FIELD_44', 'FIELD_45']\n",
      "30\n",
      "  FIELD_8 FIELD_9 FIELD_10 FIELD_11 FIELD_12 FIELD_13 FIELD_17 FIELD_18  \\\n",
      "0     NaN      na      NaN      NaN      NaN      NaN      NaN      NaN   \n",
      "1    MALE      GD       T1       12     None       BI       G8     True   \n",
      "2  FEMALE      DN       T1       12        0       YN     None    False   \n",
      "3     NaN      na      NaN      NaN      NaN      NaN      NaN      NaN   \n",
      "4    MALE      GD       T1       12     None       BI       G8     True   \n",
      "\n",
      "  FIELD_19 FIELD_20  ... FIELD_36 FIELD_37 FIELD_38 FIELD_39 FIELD_40  \\\n",
      "0      NaN      NaN  ...      NaN      NaN      NaN      NaN      NaN   \n",
      "1     True     True  ...    FALSE     True    False       VN     None   \n",
      "2    False    False  ...    FALSE     True    False     None     None   \n",
      "3      NaN      NaN  ...      NaN      NaN      NaN      NaN      NaN   \n",
      "4     True     True  ...    FALSE     True    False     None     None   \n",
      "\n",
      "  FIELD_41 FIELD_42 FIELD_43 FIELD_44 FIELD_45  \n",
      "0      NaN      NaN      NaN      NaN      NaN  \n",
      "1        V     Zezo     None      One        1  \n",
      "2        I     Zezo     None      Two        2  \n",
      "3      NaN      NaN      NaN      NaN      NaN  \n",
      "4        V     Zezo     None      One        1  \n",
      "\n",
      "[5 rows x 30 columns]\n"
     ]
    }
   ],
   "source": [
    "category_cols = [col for col in train_cols if str(train[col].dtypes) == 'object']\n",
    "print(category_cols)\n",
    "print(len(category_cols))\n",
    "print(train[category_cols].head())"
   ]
  },
  {
   "cell_type": "code",
   "execution_count": 6,
   "metadata": {},
   "outputs": [
    {
     "name": "stdout",
     "output_type": "stream",
     "text": [
      "['age_source1', 'age_source2', 'FIELD_2', 'FIELD_3', 'FIELD_4', 'FIELD_5', 'FIELD_6', 'FIELD_16', 'FIELD_21', 'FIELD_22', 'FIELD_50', 'FIELD_51', 'FIELD_52', 'FIELD_53', 'FIELD_54', 'FIELD_55', 'FIELD_56', 'FIELD_57']\n",
      "18\n",
      "   age_source1  age_source2  FIELD_2  FIELD_3  FIELD_4  FIELD_5  FIELD_6  \\\n",
      "0          NaN          NaN      1.0   2547.0      0.0      0.0      0.0   \n",
      "1         44.0         44.0      0.0     -1.0      1.0      1.0      1.0   \n",
      "2         30.0         30.0      1.0   3273.0      1.0      4.0      0.0   \n",
      "3         43.0          NaN      1.0   3991.0      1.0      1.0      0.0   \n",
      "4         21.0         21.0      1.0   1450.0      0.0      2.0      0.0   \n",
      "\n",
      "   FIELD_16  FIELD_21  FIELD_22  FIELD_50  FIELD_51  FIELD_52  FIELD_53  \\\n",
      "0       NaN       NaN       NaN       NaN       NaN       NaN       NaN   \n",
      "1       2.0       1.0       4.0     29.77    17.561    30.955    31.171   \n",
      "2       1.0       1.0      54.0     29.77    56.512    30.955    31.171   \n",
      "3       NaN       NaN       NaN       NaN       NaN       NaN       NaN   \n",
      "4       1.0       1.0      24.0     29.77    13.789    30.955    31.171   \n",
      "\n",
      "   FIELD_54  FIELD_55  FIELD_56  FIELD_57  \n",
      "0       NaN       NaN       NaN       NaN  \n",
      "1       0.0      0.04       0.0       0.0  \n",
      "2       0.0      0.16       0.0       0.0  \n",
      "3       NaN       NaN       NaN       NaN  \n",
      "4       0.0      0.03       0.0       0.0  \n"
     ]
    }
   ],
   "source": [
    "number_cols = [col for col in train_cols if str(train[col].dtypes) == 'float64']\n",
    "print(number_cols)\n",
    "print(len(number_cols))\n",
    "print(train[number_cols].head())"
   ]
  },
  {
   "cell_type": "code",
   "execution_count": 7,
   "metadata": {},
   "outputs": [],
   "source": [
    "# fill NA\n",
    "for col in category_cols:\n",
    "    train[col] = train[col].fillna('NaN')\n",
    "    train[col] = train[col].replace(['None', 'none', 'nan', 'na'])\n",
    "\n",
    "for col in number_cols:\n",
    "    train[col] = train[col].fillna(-2.0)\n"
   ]
  },
  {
   "cell_type": "code",
   "execution_count": 8,
   "metadata": {},
   "outputs": [],
   "source": [
    "# add bool feature to category feature\n",
    "# boolean from float64\n",
    "category_cols.append('FIELD_2')\n",
    "train['FIELD_2'] = train['FIELD_2'].map({-2.0: 'NaN', 0.0: 'False', 1.0: 'True'})\n",
    "# boolean from int64\n",
    "int64_cols = [col for col in train_cols if str(train[col].dtypes) == 'int64']\n",
    "category_cols += int64_cols\n",
    "for col in int64_cols:\n",
    "    train[col] = train[col].map({0 : 'False', 1: 'True'})\n"
   ]
  },
  {
   "cell_type": "code",
   "execution_count": 9,
   "metadata": {},
   "outputs": [
    {
     "data": {
      "text/plain": [
       "['FIELD_8',\n",
       " 'FIELD_9',\n",
       " 'FIELD_10',\n",
       " 'FIELD_11',\n",
       " 'FIELD_12',\n",
       " 'FIELD_13',\n",
       " 'FIELD_17',\n",
       " 'FIELD_18',\n",
       " 'FIELD_19',\n",
       " 'FIELD_20',\n",
       " 'FIELD_23',\n",
       " 'FIELD_24',\n",
       " 'FIELD_25',\n",
       " 'FIELD_26',\n",
       " 'FIELD_27',\n",
       " 'FIELD_28',\n",
       " 'FIELD_29',\n",
       " 'FIELD_30',\n",
       " 'FIELD_31',\n",
       " 'FIELD_35',\n",
       " 'FIELD_36',\n",
       " 'FIELD_37',\n",
       " 'FIELD_38',\n",
       " 'FIELD_39',\n",
       " 'FIELD_40',\n",
       " 'FIELD_41',\n",
       " 'FIELD_42',\n",
       " 'FIELD_43',\n",
       " 'FIELD_44',\n",
       " 'FIELD_45',\n",
       " 'FIELD_2',\n",
       " 'FIELD_1',\n",
       " 'FIELD_14',\n",
       " 'FIELD_15',\n",
       " 'FIELD_32',\n",
       " 'FIELD_33',\n",
       " 'FIELD_34',\n",
       " 'FIELD_46']"
      ]
     },
     "execution_count": 9,
     "metadata": {},
     "output_type": "execute_result"
    }
   ],
   "source": [
    "category_cols"
   ]
  },
  {
   "cell_type": "code",
   "execution_count": 10,
   "metadata": {},
   "outputs": [
    {
     "data": {
      "text/html": [
       "<div>\n",
       "<style scoped>\n",
       "    .dataframe tbody tr th:only-of-type {\n",
       "        vertical-align: middle;\n",
       "    }\n",
       "\n",
       "    .dataframe tbody tr th {\n",
       "        vertical-align: top;\n",
       "    }\n",
       "\n",
       "    .dataframe thead th {\n",
       "        text-align: right;\n",
       "    }\n",
       "</style>\n",
       "<table border=\"1\" class=\"dataframe\">\n",
       "  <thead>\n",
       "    <tr style=\"text-align: right;\">\n",
       "      <th></th>\n",
       "      <th>id</th>\n",
       "      <th>label</th>\n",
       "      <th>province</th>\n",
       "      <th>district</th>\n",
       "      <th>age_source1</th>\n",
       "      <th>age_source2</th>\n",
       "      <th>maCv</th>\n",
       "      <th>FIELD_1</th>\n",
       "      <th>FIELD_2</th>\n",
       "      <th>FIELD_3</th>\n",
       "      <th>...</th>\n",
       "      <th>FIELD_48</th>\n",
       "      <th>FIELD_49</th>\n",
       "      <th>FIELD_50</th>\n",
       "      <th>FIELD_51</th>\n",
       "      <th>FIELD_52</th>\n",
       "      <th>FIELD_53</th>\n",
       "      <th>FIELD_54</th>\n",
       "      <th>FIELD_55</th>\n",
       "      <th>FIELD_56</th>\n",
       "      <th>FIELD_57</th>\n",
       "    </tr>\n",
       "  </thead>\n",
       "  <tbody>\n",
       "    <tr>\n",
       "      <th>0</th>\n",
       "      <td>0</td>\n",
       "      <td>0</td>\n",
       "      <td>NaN</td>\n",
       "      <td>NaN</td>\n",
       "      <td>-2.0</td>\n",
       "      <td>-2.0</td>\n",
       "      <td>NaN</td>\n",
       "      <td>True</td>\n",
       "      <td>True</td>\n",
       "      <td>2547.0</td>\n",
       "      <td>...</td>\n",
       "      <td>True</td>\n",
       "      <td>True</td>\n",
       "      <td>-2.00</td>\n",
       "      <td>-2.000</td>\n",
       "      <td>-2.000</td>\n",
       "      <td>-2.000</td>\n",
       "      <td>-2.0</td>\n",
       "      <td>-2.00</td>\n",
       "      <td>-2.0</td>\n",
       "      <td>-2.0</td>\n",
       "    </tr>\n",
       "    <tr>\n",
       "      <th>1</th>\n",
       "      <td>1</td>\n",
       "      <td>0</td>\n",
       "      <td>Tỉnh Đồng Nai</td>\n",
       "      <td>Thành phố Biên Hòa</td>\n",
       "      <td>44.0</td>\n",
       "      <td>44.0</td>\n",
       "      <td>None</td>\n",
       "      <td>True</td>\n",
       "      <td>False</td>\n",
       "      <td>-1.0</td>\n",
       "      <td>...</td>\n",
       "      <td>False</td>\n",
       "      <td>True</td>\n",
       "      <td>29.77</td>\n",
       "      <td>17.561</td>\n",
       "      <td>30.955</td>\n",
       "      <td>31.171</td>\n",
       "      <td>0.0</td>\n",
       "      <td>0.04</td>\n",
       "      <td>0.0</td>\n",
       "      <td>0.0</td>\n",
       "    </tr>\n",
       "    <tr>\n",
       "      <th>2</th>\n",
       "      <td>2</td>\n",
       "      <td>0</td>\n",
       "      <td>Tỉnh Đồng Nai</td>\n",
       "      <td>Huyện Long Thành</td>\n",
       "      <td>30.0</td>\n",
       "      <td>30.0</td>\n",
       "      <td>Công nhân</td>\n",
       "      <td>False</td>\n",
       "      <td>True</td>\n",
       "      <td>3273.0</td>\n",
       "      <td>...</td>\n",
       "      <td>True</td>\n",
       "      <td>True</td>\n",
       "      <td>29.77</td>\n",
       "      <td>56.512</td>\n",
       "      <td>30.955</td>\n",
       "      <td>31.171</td>\n",
       "      <td>0.0</td>\n",
       "      <td>0.16</td>\n",
       "      <td>0.0</td>\n",
       "      <td>0.0</td>\n",
       "    </tr>\n",
       "    <tr>\n",
       "      <th>3</th>\n",
       "      <td>3</td>\n",
       "      <td>0</td>\n",
       "      <td>Tỉnh Tuyên Quang</td>\n",
       "      <td>Thành phố Tuyên Quang</td>\n",
       "      <td>43.0</td>\n",
       "      <td>-2.0</td>\n",
       "      <td>NaN</td>\n",
       "      <td>False</td>\n",
       "      <td>True</td>\n",
       "      <td>3991.0</td>\n",
       "      <td>...</td>\n",
       "      <td>True</td>\n",
       "      <td>False</td>\n",
       "      <td>-2.00</td>\n",
       "      <td>-2.000</td>\n",
       "      <td>-2.000</td>\n",
       "      <td>-2.000</td>\n",
       "      <td>-2.0</td>\n",
       "      <td>-2.00</td>\n",
       "      <td>-2.0</td>\n",
       "      <td>-2.0</td>\n",
       "    </tr>\n",
       "    <tr>\n",
       "      <th>4</th>\n",
       "      <td>4</td>\n",
       "      <td>0</td>\n",
       "      <td>Thành phố Hồ Chí Minh</td>\n",
       "      <td>Quận 1</td>\n",
       "      <td>21.0</td>\n",
       "      <td>21.0</td>\n",
       "      <td>None</td>\n",
       "      <td>False</td>\n",
       "      <td>True</td>\n",
       "      <td>1450.0</td>\n",
       "      <td>...</td>\n",
       "      <td>True</td>\n",
       "      <td>True</td>\n",
       "      <td>29.77</td>\n",
       "      <td>13.789</td>\n",
       "      <td>30.955</td>\n",
       "      <td>31.171</td>\n",
       "      <td>0.0</td>\n",
       "      <td>0.03</td>\n",
       "      <td>0.0</td>\n",
       "      <td>0.0</td>\n",
       "    </tr>\n",
       "  </tbody>\n",
       "</table>\n",
       "<p>5 rows × 64 columns</p>\n",
       "</div>"
      ],
      "text/plain": [
       "   id  label               province               district  age_source1  \\\n",
       "0   0      0                    NaN                    NaN         -2.0   \n",
       "1   1      0          Tỉnh Đồng Nai     Thành phố Biên Hòa         44.0   \n",
       "2   2      0          Tỉnh Đồng Nai       Huyện Long Thành         30.0   \n",
       "3   3      0       Tỉnh Tuyên Quang  Thành phố Tuyên Quang         43.0   \n",
       "4   4      0  Thành phố Hồ Chí Minh                 Quận 1         21.0   \n",
       "\n",
       "   age_source2       maCv FIELD_1 FIELD_2  FIELD_3  ...  FIELD_48  FIELD_49  \\\n",
       "0         -2.0        NaN    True    True   2547.0  ...      True      True   \n",
       "1         44.0       None    True   False     -1.0  ...     False      True   \n",
       "2         30.0  Công nhân   False    True   3273.0  ...      True      True   \n",
       "3         -2.0        NaN   False    True   3991.0  ...      True     False   \n",
       "4         21.0       None   False    True   1450.0  ...      True      True   \n",
       "\n",
       "   FIELD_50 FIELD_51 FIELD_52 FIELD_53 FIELD_54 FIELD_55 FIELD_56 FIELD_57  \n",
       "0     -2.00   -2.000   -2.000   -2.000     -2.0    -2.00     -2.0     -2.0  \n",
       "1     29.77   17.561   30.955   31.171      0.0     0.04      0.0      0.0  \n",
       "2     29.77   56.512   30.955   31.171      0.0     0.16      0.0      0.0  \n",
       "3     -2.00   -2.000   -2.000   -2.000     -2.0    -2.00     -2.0     -2.0  \n",
       "4     29.77   13.789   30.955   31.171      0.0     0.03      0.0      0.0  \n",
       "\n",
       "[5 rows x 64 columns]"
      ]
     },
     "execution_count": 10,
     "metadata": {},
     "output_type": "execute_result"
    }
   ],
   "source": [
    "train.head()"
   ]
  },
  {
   "cell_type": "code",
   "execution_count": 11,
   "metadata": {},
   "outputs": [
    {
     "name": "stdout",
     "output_type": "stream",
     "text": [
      "NaN      9678\n",
      "Zero     9210\n",
      "One      4472\n",
      "Four     4056\n",
      "Two      1366\n",
      "Three    1218\n",
      "Name: FIELD_35, dtype: int64\n",
      "I      12936\n",
      "NaN     9678\n",
      "V       4860\n",
      "II      1146\n",
      "III      737\n",
      "IV       643\n",
      "Name: FIELD_41, dtype: int64\n",
      "Zezo    20165\n",
      "NaN      9678\n",
      "One       157\n",
      "Name: FIELD_42, dtype: int64\n",
      "One    14867\n",
      "NaN     9687\n",
      "Two     5446\n",
      "Name: FIELD_44, dtype: int64\n"
     ]
    }
   ],
   "source": [
    "print(train['FIELD_35'].value_counts())\n",
    "print(train['FIELD_41'].value_counts())\n",
    "print(train['FIELD_42'].value_counts())\n",
    "print(train['FIELD_44'].value_counts())\n"
   ]
  },
  {
   "cell_type": "code",
   "execution_count": 12,
   "metadata": {},
   "outputs": [],
   "source": [
    "# mapping order feature\n",
    "dict_map = {'NaN': -1,\n",
    "           'Zero': 0,\n",
    "           'One':1,\n",
    "           'Two':2,\n",
    "           'Three':3,\n",
    "           'Four':4}\n",
    "train['FIELD_35_number'] = train['FIELD_35'].map(dict_map)\n",
    "\n",
    "dict_map = {'NaN': -1,\n",
    "           'I': 1,\n",
    "           'II':2,\n",
    "           'III':3,\n",
    "           'IV':4,\n",
    "           'V':4}\n",
    "train['FIELD_41_number'] = train['FIELD_41'].map(dict_map)\n",
    "\n",
    "dict_map = {'NaN': -1,\n",
    "           'Zezo': 0,\n",
    "           'One':1}\n",
    "train['FIELD_42_number'] = train['FIELD_42'].map(dict_map)\n",
    "\n",
    "dict_map = {'NaN': -1,\n",
    "           'One':1,\n",
    "           'Two':2}\n",
    "train['FIELD_44_number'] = train['FIELD_44'].map(dict_map)\n",
    "\n",
    "# remove order cate feature from category feature"
   ]
  },
  {
   "cell_type": "code",
   "execution_count": 13,
   "metadata": {},
   "outputs": [],
   "source": [
    "train_cols += ['FIELD_35_number', 'FIELD_41_number', 'FIELD_42_number', 'FIELD_44_number']"
   ]
  },
  {
   "cell_type": "code",
   "execution_count": 14,
   "metadata": {},
   "outputs": [],
   "source": [
    "for col in category_cols:\n",
    "    try:\n",
    "        dict_map = dict(train[col].value_counts())\n",
    "    except:\n",
    "        continue\n",
    "#     train[col+'_FREQ'] = train[col].map(dict_map)\n",
    "#     if str(col+'_FREQ') not in train_cols:\n",
    "#         train_cols.append(col+'_FREQ')"
   ]
  },
  {
   "cell_type": "code",
   "execution_count": 15,
   "metadata": {},
   "outputs": [],
   "source": [
    "train['FILED_3_by_day'] = train['FIELD_3'].apply(lambda x : x % 365)\n",
    "train_cols.append('FILED_3_by_day')\n"
   ]
  },
  {
   "cell_type": "code",
   "execution_count": 16,
   "metadata": {},
   "outputs": [],
   "source": [
    "# train['FIELD5052'] = abs(train['FIELD_50']-train['FIELD_52'])\n",
    "# train['FIELD5053'] = abs(train['FIELD_50']-train['FIELD_52'])\n",
    "# train['FIELD5253'] = abs(train['FIELD_52']-train['FIELD_52'])\n",
    "# train_cols += ['FIELD5253', 'FIELD5053', 'FIELD5052']"
   ]
  },
  {
   "cell_type": "code",
   "execution_count": 17,
   "metadata": {},
   "outputs": [],
   "source": [
    "# train['FIELD_8_FREQ']"
   ]
  },
  {
   "cell_type": "code",
   "execution_count": 18,
   "metadata": {},
   "outputs": [],
   "source": [
    "from sklearn.preprocessing import LabelEncoder"
   ]
  },
  {
   "cell_type": "code",
   "execution_count": 19,
   "metadata": {},
   "outputs": [],
   "source": [
    "le = LabelEncoder()\n",
    "for column in category_cols:\n",
    "    train[column] = train[column].astype('category')"
   ]
  },
  {
   "cell_type": "code",
   "execution_count": 20,
   "metadata": {},
   "outputs": [],
   "source": [
    "# for column in category_cols:\n",
    "#     train[column] = train[column].astype(str)"
   ]
  },
  {
   "cell_type": "code",
   "execution_count": 21,
   "metadata": {},
   "outputs": [],
   "source": [
    "# train = train.fillna(-1)"
   ]
  },
  {
   "cell_type": "code",
   "execution_count": 22,
   "metadata": {},
   "outputs": [
    {
     "name": "stdout",
     "output_type": "stream",
     "text": [
      "<class 'pandas.core.frame.DataFrame'>\n",
      "RangeIndex: 30000 entries, 0 to 29999\n",
      "Data columns (total 63 columns):\n",
      "age_source1        30000 non-null float64\n",
      "age_source2        30000 non-null float64\n",
      "FIELD_1            30000 non-null category\n",
      "FIELD_2            30000 non-null category\n",
      "FIELD_3            30000 non-null float64\n",
      "FIELD_4            30000 non-null float64\n",
      "FIELD_5            30000 non-null float64\n",
      "FIELD_6            30000 non-null float64\n",
      "FIELD_8            30000 non-null category\n",
      "FIELD_9            30000 non-null category\n",
      "FIELD_10           30000 non-null category\n",
      "FIELD_11           30000 non-null category\n",
      "FIELD_12           30000 non-null category\n",
      "FIELD_13           30000 non-null category\n",
      "FIELD_14           30000 non-null category\n",
      "FIELD_15           30000 non-null category\n",
      "FIELD_16           30000 non-null float64\n",
      "FIELD_17           30000 non-null category\n",
      "FIELD_18           30000 non-null category\n",
      "FIELD_19           30000 non-null category\n",
      "FIELD_20           30000 non-null category\n",
      "FIELD_21           30000 non-null float64\n",
      "FIELD_22           30000 non-null float64\n",
      "FIELD_23           30000 non-null category\n",
      "FIELD_24           30000 non-null category\n",
      "FIELD_25           30000 non-null category\n",
      "FIELD_26           30000 non-null category\n",
      "FIELD_27           30000 non-null category\n",
      "FIELD_28           30000 non-null category\n",
      "FIELD_29           30000 non-null category\n",
      "FIELD_30           30000 non-null category\n",
      "FIELD_31           30000 non-null category\n",
      "FIELD_32           30000 non-null category\n",
      "FIELD_33           30000 non-null category\n",
      "FIELD_34           30000 non-null category\n",
      "FIELD_35           30000 non-null category\n",
      "FIELD_36           30000 non-null category\n",
      "FIELD_37           30000 non-null category\n",
      "FIELD_38           30000 non-null category\n",
      "FIELD_39           30000 non-null category\n",
      "FIELD_40           30000 non-null category\n",
      "FIELD_41           30000 non-null category\n",
      "FIELD_42           30000 non-null category\n",
      "FIELD_43           30000 non-null category\n",
      "FIELD_44           30000 non-null category\n",
      "FIELD_45           30000 non-null category\n",
      "FIELD_46           30000 non-null category\n",
      "FIELD_47           30000 non-null bool\n",
      "FIELD_48           30000 non-null bool\n",
      "FIELD_49           30000 non-null bool\n",
      "FIELD_50           30000 non-null float64\n",
      "FIELD_51           30000 non-null float64\n",
      "FIELD_52           30000 non-null float64\n",
      "FIELD_53           30000 non-null float64\n",
      "FIELD_54           30000 non-null float64\n",
      "FIELD_55           30000 non-null float64\n",
      "FIELD_56           30000 non-null float64\n",
      "FIELD_57           30000 non-null float64\n",
      "FIELD_35_number    30000 non-null int64\n",
      "FIELD_41_number    30000 non-null int64\n",
      "FIELD_42_number    30000 non-null int64\n",
      "FIELD_44_number    30000 non-null int64\n",
      "FILED_3_by_day     30000 non-null float64\n",
      "dtypes: bool(3), category(38), float64(18), int64(4)\n",
      "memory usage: 6.3 MB\n",
      "None\n",
      "['age_source1', 'age_source2', 'FIELD_1', 'FIELD_2', 'FIELD_3', 'FIELD_4', 'FIELD_5', 'FIELD_6', 'FIELD_8', 'FIELD_9', 'FIELD_10', 'FIELD_11', 'FIELD_12', 'FIELD_13', 'FIELD_14', 'FIELD_15', 'FIELD_16', 'FIELD_17', 'FIELD_18', 'FIELD_19', 'FIELD_20', 'FIELD_21', 'FIELD_22', 'FIELD_23', 'FIELD_24', 'FIELD_25', 'FIELD_26', 'FIELD_27', 'FIELD_28', 'FIELD_29', 'FIELD_30', 'FIELD_31', 'FIELD_32', 'FIELD_33', 'FIELD_34', 'FIELD_35', 'FIELD_36', 'FIELD_37', 'FIELD_38', 'FIELD_39', 'FIELD_40', 'FIELD_41', 'FIELD_42', 'FIELD_43', 'FIELD_44', 'FIELD_45', 'FIELD_46', 'FIELD_47', 'FIELD_48', 'FIELD_49', 'FIELD_50', 'FIELD_51', 'FIELD_52', 'FIELD_53', 'FIELD_54', 'FIELD_55', 'FIELD_56', 'FIELD_57', 'FIELD_35_number', 'FIELD_41_number', 'FIELD_42_number', 'FIELD_44_number', 'FILED_3_by_day']\n",
      "\n",
      "['FIELD_8', 'FIELD_9', 'FIELD_10', 'FIELD_11', 'FIELD_12', 'FIELD_13', 'FIELD_17', 'FIELD_18', 'FIELD_19', 'FIELD_20', 'FIELD_23', 'FIELD_24', 'FIELD_25', 'FIELD_26', 'FIELD_27', 'FIELD_28', 'FIELD_29', 'FIELD_30', 'FIELD_31', 'FIELD_35', 'FIELD_36', 'FIELD_37', 'FIELD_38', 'FIELD_39', 'FIELD_40', 'FIELD_41', 'FIELD_42', 'FIELD_43', 'FIELD_44', 'FIELD_45', 'FIELD_2', 'FIELD_1', 'FIELD_14', 'FIELD_15', 'FIELD_32', 'FIELD_33', 'FIELD_34', 'FIELD_46']\n"
     ]
    }
   ],
   "source": [
    "print(train[train_cols].info())\n",
    "print(train_cols)\n",
    "print()\n",
    "print(category_cols)"
   ]
  },
  {
   "cell_type": "code",
   "execution_count": 23,
   "metadata": {},
   "outputs": [],
   "source": [
    "# # one hot encoding\n",
    "# for col in category_cols:\n",
    "#     one_hot = pd.get_dummies(train[col], prefix=col)\n",
    "#     # Drop column B as it is now encoded\n",
    "#     train = train.drop(col,axis = 1)\n",
    "#     # Join the encoded df\n",
    "#     train = train.join(one_hot)\n",
    "#     one_hot = pd.get_dummies(train[col], prefix=col)\n",
    "#     # Drop column B as it is now encoded\n",
    "#     train = train.drop(col,axis = 1)\n",
    "#     # Join the encoded df\n",
    "#     train = train.join(one_hot)\n",
    "# #     le = preprocessing.LabelEncoder()\n",
    "# #     le.fit(train[col].astype(str))\n",
    "# #     train[col] = le.transform(train[col].astype(str))\n",
    "# print(train.columns)\n",
    "# print()\n",
    "# print(train.head())"
   ]
  },
  {
   "cell_type": "code",
   "execution_count": 24,
   "metadata": {},
   "outputs": [],
   "source": [
    "train_cols.remove('FIELD_13')\n",
    "category_cols.remove('FIELD_13')"
   ]
  },
  {
   "cell_type": "code",
   "execution_count": 25,
   "metadata": {},
   "outputs": [],
   "source": [
    "train_y = train.label\n",
    "train.drop(columns=['label'])\n",
    "train_X = train[train_cols]"
   ]
  },
  {
   "cell_type": "code",
   "execution_count": 26,
   "metadata": {},
   "outputs": [
    {
     "data": {
      "text/plain": [
       "62"
      ]
     },
     "execution_count": 26,
     "metadata": {},
     "output_type": "execute_result"
    }
   ],
   "source": [
    "len(train_cols)"
   ]
  },
  {
   "cell_type": "code",
   "execution_count": 27,
   "metadata": {},
   "outputs": [],
   "source": [
    "# train_X, val_X, train_y, val_y = train_test_split(train_X, train_y,test_size=0.4, random_state=0)"
   ]
  },
  {
   "cell_type": "code",
   "execution_count": 28,
   "metadata": {
    "scrolled": true
   },
   "outputs": [],
   "source": [
    "# # training model\n",
    "# params={\n",
    "#     'seed': 0,\n",
    "#     'colsample_bytree': 0.7,\n",
    "#     'silent': 1,\n",
    "#     'subsample': 0.7,\n",
    "#     'learning_rate': 0.075,\n",
    "#     'objective': 'binary:logistic',\n",
    "#     'max_depth': 4,\n",
    "#     'num_parallel_tree': 1,\n",
    "#     'min_child_weight': 1,\n",
    "#     'nrounds': 200\n",
    "#     }\n",
    "\n",
    "# clf = XGBClassifier(**params)\n",
    "# clf.fit(train_X, train_y, \\\n",
    "#         eval_set=[(train_X, train_y), (val_X, val_y)], \\\n",
    "#                   eval_metric='auc', early_stopping_rounds = 50)"
   ]
  },
  {
   "cell_type": "code",
   "execution_count": 29,
   "metadata": {},
   "outputs": [],
   "source": [
    "num_round = 10000\n",
    "kfold = 5\n",
    "folds = StratifiedKFold(n_splits=kfold, shuffle=False, random_state=44000)\n",
    "oof = np.zeros(len(train_X))\n",
    "# predictions = np.zeros(len(test_df))"
   ]
  },
  {
   "cell_type": "code",
   "execution_count": 38,
   "metadata": {},
   "outputs": [
    {
     "name": "stdout",
     "output_type": "stream",
     "text": [
      "Fold 0\n",
      "Training until validation scores don't improve for 500 rounds\n",
      "[100]\ttraining's auc: 0.761312\tvalid_1's auc: 0.613986\n",
      "[200]\ttraining's auc: 0.796193\tvalid_1's auc: 0.62372\n",
      "[300]\ttraining's auc: 0.816322\tvalid_1's auc: 0.621583\n",
      "[400]\ttraining's auc: 0.836565\tvalid_1's auc: 0.621985\n",
      "[500]\ttraining's auc: 0.853657\tvalid_1's auc: 0.624315\n",
      "[600]\ttraining's auc: 0.863845\tvalid_1's auc: 0.62459\n",
      "[700]\ttraining's auc: 0.871378\tvalid_1's auc: 0.623892\n",
      "Early stopping, best iteration is:\n",
      "[211]\ttraining's auc: 0.799254\tvalid_1's auc: 0.626586\n",
      "Fold 1\n",
      "Training until validation scores don't improve for 500 rounds\n",
      "[100]\ttraining's auc: 0.772753\tvalid_1's auc: 0.572239\n",
      "[200]\ttraining's auc: 0.806351\tvalid_1's auc: 0.592563\n",
      "[300]\ttraining's auc: 0.836993\tvalid_1's auc: 0.591469\n",
      "[400]\ttraining's auc: 0.856601\tvalid_1's auc: 0.589383\n",
      "[500]\ttraining's auc: 0.870323\tvalid_1's auc: 0.58879\n",
      "[600]\ttraining's auc: 0.880861\tvalid_1's auc: 0.594086\n",
      "[700]\ttraining's auc: 0.889275\tvalid_1's auc: 0.595588\n",
      "[800]\ttraining's auc: 0.895833\tvalid_1's auc: 0.596599\n",
      "[900]\ttraining's auc: 0.90042\tvalid_1's auc: 0.595861\n",
      "[1000]\ttraining's auc: 0.904667\tvalid_1's auc: 0.592148\n",
      "[1100]\ttraining's auc: 0.909161\tvalid_1's auc: 0.59051\n",
      "[1200]\ttraining's auc: 0.912171\tvalid_1's auc: 0.590861\n",
      "Early stopping, best iteration is:\n",
      "[775]\ttraining's auc: 0.894782\tvalid_1's auc: 0.597253\n",
      "Fold 2\n",
      "Training until validation scores don't improve for 500 rounds\n",
      "[100]\ttraining's auc: 0.778789\tvalid_1's auc: 0.602506\n",
      "[200]\ttraining's auc: 0.805709\tvalid_1's auc: 0.603388\n",
      "[300]\ttraining's auc: 0.829227\tvalid_1's auc: 0.613238\n",
      "[400]\ttraining's auc: 0.846415\tvalid_1's auc: 0.610578\n",
      "[500]\ttraining's auc: 0.85428\tvalid_1's auc: 0.610328\n",
      "[600]\ttraining's auc: 0.8612\tvalid_1's auc: 0.609265\n",
      "[700]\ttraining's auc: 0.86798\tvalid_1's auc: 0.607269\n",
      "[800]\ttraining's auc: 0.875571\tvalid_1's auc: 0.605278\n",
      "Early stopping, best iteration is:\n",
      "[333]\ttraining's auc: 0.834149\tvalid_1's auc: 0.616629\n",
      "Fold 3\n",
      "Training until validation scores don't improve for 500 rounds\n",
      "[100]\ttraining's auc: 0.754622\tvalid_1's auc: 0.649927\n",
      "[200]\ttraining's auc: 0.802966\tvalid_1's auc: 0.648528\n",
      "[300]\ttraining's auc: 0.83296\tvalid_1's auc: 0.641602\n",
      "[400]\ttraining's auc: 0.849052\tvalid_1's auc: 0.636857\n",
      "[500]\ttraining's auc: 0.86033\tvalid_1's auc: 0.637597\n",
      "[600]\ttraining's auc: 0.871441\tvalid_1's auc: 0.638335\n",
      "Early stopping, best iteration is:\n",
      "[120]\ttraining's auc: 0.766633\tvalid_1's auc: 0.651145\n",
      "Fold 4\n",
      "Training until validation scores don't improve for 500 rounds\n",
      "[100]\ttraining's auc: 0.772732\tvalid_1's auc: 0.591393\n",
      "[200]\ttraining's auc: 0.806105\tvalid_1's auc: 0.590494\n",
      "[300]\ttraining's auc: 0.838464\tvalid_1's auc: 0.596181\n",
      "[400]\ttraining's auc: 0.859315\tvalid_1's auc: 0.596616\n",
      "[500]\ttraining's auc: 0.873252\tvalid_1's auc: 0.594378\n",
      "Early stopping, best iteration is:\n",
      "[24]\ttraining's auc: 0.730324\tvalid_1's auc: 0.604828\n",
      "CV score: 0.61929 \n"
     ]
    }
   ],
   "source": [
    "param = {'boosting': 'gbdt',\n",
    "          'metric': 'auc',\n",
    "          'objective': 'binary',\n",
    "          'num_leaves': 30,\n",
    "          'min_data_in_leaf': 299,\n",
    "          'max_depth': 7,\n",
    "          'learning_rate': 0.005,\n",
    "          'verbosity': -1,\n",
    "          'data_random_seed': 17\n",
    "          }\n",
    "score_arr = np.zeros(kfold)\n",
    "feature_importance_df = pd.DataFrame()\n",
    "for fold_, (trn_idx, val_idx) in enumerate(folds.split(train_X.values, train_y.values)):\n",
    "    print(\"Fold {}\".format(fold_))\n",
    "    trn_data = lgb.Dataset(train_X.iloc[trn_idx][train_cols], label=train_y.iloc[trn_idx], categorical_feature=category_cols)\n",
    "    val_data = lgb.Dataset(train_X.iloc[val_idx][train_cols], label=train_y.iloc[val_idx], categorical_feature=category_cols)\n",
    "    clf = lgb.train(param, trn_data, num_round, valid_sets = [trn_data, val_data], verbose_eval=100, early_stopping_rounds=500, categorical_feature=category_cols)\n",
    "    oof[val_idx] = clf.predict(train_X.iloc[val_idx][train_cols], num_iteration=clf.best_iteration)\n",
    "    score_arr[fold_] = roc_auc_score(train_y.iloc[val_idx], oof[val_idx])\n",
    "    fold_importance_df = pd.DataFrame()\n",
    "    fold_importance_df[\"feature\"] = train_cols\n",
    "    fold_importance_df[\"importance\"] = clf.feature_importance()\n",
    "    fold_importance_df[\"fold\"] = fold_ + 1\n",
    "    feature_importance_df = pd.concat([feature_importance_df, fold_importance_df], axis=0)\n",
    "#     predictions += clf.predict(test_df[features], num_iteration=clf.best_iteration) / folds.n_splits\n",
    "print(\"CV score: {:<8.5f}\".format(np.mean(score_arr)))"
   ]
  },
  {
   "cell_type": "code",
   "execution_count": 31,
   "metadata": {},
   "outputs": [
    {
     "data": {
      "image/png": "[encoded data removed]",
      "text/plain": [
       "<Figure size 1008x1872 with 1 Axes>"
      ]
     },
     "metadata": {
      "needs_background": "light"
     },
     "output_type": "display_data"
    }
   ],
   "source": [
    "\n",
    "cols = (feature_importance_df[[\"feature\", \"importance\"]]\n",
    "        .groupby(\"feature\")\n",
    "        .mean()\n",
    "        .sort_values(by=\"importance\", ascending=False)[:1000].index)\n",
    "best_features = feature_importance_df.loc[feature_importance_df.feature.isin(cols)]\n",
    "\n",
    "plt.figure(figsize=(14,26))\n",
    "sns.barplot(x=\"importance\", y=\"feature\", data=best_features.sort_values(by=\"importance\",ascending=False))\n",
    "plt.title('LightGBM Features (averaged over folds)')\n",
    "plt.tight_layout()\n",
    "plt.savefig('lgbm_importances.png')"
   ]
  },
  {
   "cell_type": "code",
   "execution_count": 51,
   "metadata": {},
   "outputs": [
    {
     "name": "stdout",
     "output_type": "stream",
     "text": [
      "|   iter    |  target   | baggin... | featur... | lambda_l1 | learni... | max_depth | min_da... | num_le... |\n",
      "-------------------------------------------------------------------------------------------------------------\n",
      "fold n°0\n"
     ]
    },
    {
     "name": "stderr",
     "output_type": "stream",
     "text": [
      "c:\\python3\\lib\\site-packages\\lightgbm\\engine.py:148: UserWarning: Found `n_estimators` in params. Will use it instead of argument\n",
      "  warnings.warn(\"Found `{}` in params. Will use it instead of argument\".format(alias))\n"
     ]
    },
    {
     "name": "stdout",
     "output_type": "stream",
     "text": [
      "Training until validation scores don't improve for 500 rounds\n",
      "[100]\ttraining's auc: 0.804747\tvalid_1's auc: 0.60665\n",
      "[200]\ttraining's auc: 0.862105\tvalid_1's auc: 0.594532\n",
      "[300]\ttraining's auc: 0.890547\tvalid_1's auc: 0.583915\n",
      "[400]\ttraining's auc: 0.909324\tvalid_1's auc: 0.569984\n",
      "[500]\ttraining's auc: 0.91731\tvalid_1's auc: 0.567324\n",
      "Early stopping, best iteration is:\n",
      "[4]\ttraining's auc: 0.6892\tvalid_1's auc: 0.629585\n",
      "fold n°1\n"
     ]
    },
    {
     "name": "stderr",
     "output_type": "stream",
     "text": [
      "c:\\python3\\lib\\site-packages\\lightgbm\\engine.py:148: UserWarning: Found `n_estimators` in params. Will use it instead of argument\n",
      "  warnings.warn(\"Found `{}` in params. Will use it instead of argument\".format(alias))\n"
     ]
    },
    {
     "name": "stdout",
     "output_type": "stream",
     "text": [
      "Training until validation scores don't improve for 500 rounds\n",
      "[100]\ttraining's auc: 0.819834\tvalid_1's auc: 0.576797\n",
      "[200]\ttraining's auc: 0.866684\tvalid_1's auc: 0.572463\n",
      "[300]\ttraining's auc: 0.890453\tvalid_1's auc: 0.564865\n",
      "[400]\ttraining's auc: 0.906386\tvalid_1's auc: 0.560195\n",
      "[500]\ttraining's auc: 0.915713\tvalid_1's auc: 0.556148\n",
      "Early stopping, best iteration is:\n",
      "[9]\ttraining's auc: 0.699724\tvalid_1's auc: 0.589712\n",
      "fold n°2\n"
     ]
    },
    {
     "name": "stderr",
     "output_type": "stream",
     "text": [
      "c:\\python3\\lib\\site-packages\\lightgbm\\engine.py:148: UserWarning: Found `n_estimators` in params. Will use it instead of argument\n",
      "  warnings.warn(\"Found `{}` in params. Will use it instead of argument\".format(alias))\n"
     ]
    },
    {
     "name": "stdout",
     "output_type": "stream",
     "text": [
      "Training until validation scores don't improve for 500 rounds\n",
      "[100]\ttraining's auc: 0.807097\tvalid_1's auc: 0.608625\n",
      "[200]\ttraining's auc: 0.851855\tvalid_1's auc: 0.609787\n",
      "[300]\ttraining's auc: 0.878307\tvalid_1's auc: 0.611867\n",
      "[400]\ttraining's auc: 0.894573\tvalid_1's auc: 0.610677\n",
      "[500]\ttraining's auc: 0.906877\tvalid_1's auc: 0.609856\n",
      "[600]\ttraining's auc: 0.916823\tvalid_1's auc: 0.610846\n",
      "[700]\ttraining's auc: 0.922464\tvalid_1's auc: 0.614061\n",
      "[800]\ttraining's auc: 0.927897\tvalid_1's auc: 0.610808\n",
      "Early stopping, best iteration is:\n",
      "[338]\ttraining's auc: 0.885372\tvalid_1's auc: 0.61554\n",
      "fold n°3\n"
     ]
    },
    {
     "name": "stderr",
     "output_type": "stream",
     "text": [
      "c:\\python3\\lib\\site-packages\\lightgbm\\engine.py:148: UserWarning: Found `n_estimators` in params. Will use it instead of argument\n",
      "  warnings.warn(\"Found `{}` in params. Will use it instead of argument\".format(alias))\n"
     ]
    },
    {
     "name": "stdout",
     "output_type": "stream",
     "text": [
      "Training until validation scores don't improve for 500 rounds\n",
      "[100]\ttraining's auc: 0.816099\tvalid_1's auc: 0.658863\n",
      "[200]\ttraining's auc: 0.868115\tvalid_1's auc: 0.640534\n",
      "[300]\ttraining's auc: 0.893716\tvalid_1's auc: 0.634407\n",
      "[400]\ttraining's auc: 0.906637\tvalid_1's auc: 0.632995\n",
      "[500]\ttraining's auc: 0.917752\tvalid_1's auc: 0.624152\n",
      "[600]\ttraining's auc: 0.926061\tvalid_1's auc: 0.621756\n",
      "Early stopping, best iteration is:\n",
      "[104]\ttraining's auc: 0.820585\tvalid_1's auc: 0.660051\n",
      "fold n°4\n"
     ]
    },
    {
     "name": "stderr",
     "output_type": "stream",
     "text": [
      "c:\\python3\\lib\\site-packages\\lightgbm\\engine.py:148: UserWarning: Found `n_estimators` in params. Will use it instead of argument\n",
      "  warnings.warn(\"Found `{}` in params. Will use it instead of argument\".format(alias))\n"
     ]
    },
    {
     "name": "stdout",
     "output_type": "stream",
     "text": [
      "Training until validation scores don't improve for 500 rounds\n",
      "[100]\ttraining's auc: 0.822034\tvalid_1's auc: 0.609911\n",
      "[200]\ttraining's auc: 0.867416\tvalid_1's auc: 0.603864\n",
      "[300]\ttraining's auc: 0.892467\tvalid_1's auc: 0.600243\n",
      "[400]\ttraining's auc: 0.907577\tvalid_1's auc: 0.596363\n",
      "[500]\ttraining's auc: 0.917323\tvalid_1's auc: 0.587712\n",
      "Early stopping, best iteration is:\n",
      "[98]\ttraining's auc: 0.820249\tvalid_1's auc: 0.611001\n",
      "| \u001b[0m 1       \u001b[0m | \u001b[0m 0.6109  \u001b[0m | \u001b[0m 0.8355  \u001b[0m | \u001b[0m 0.8396  \u001b[0m | \u001b[0m 4.882   \u001b[0m | \u001b[0m 0.03584 \u001b[0m | \u001b[0m 5.837   \u001b[0m | \u001b[0m 67.76   \u001b[0m | \u001b[0m 121.2   \u001b[0m |\n",
      "fold n°0\n"
     ]
    },
    {
     "name": "stderr",
     "output_type": "stream",
     "text": [
      "c:\\python3\\lib\\site-packages\\lightgbm\\engine.py:148: UserWarning: Found `n_estimators` in params. Will use it instead of argument\n",
      "  warnings.warn(\"Found `{}` in params. Will use it instead of argument\".format(alias))\n"
     ]
    },
    {
     "name": "stdout",
     "output_type": "stream",
     "text": [
      "Training until validation scores don't improve for 500 rounds\n",
      "[100]\ttraining's auc: 0.810888\tvalid_1's auc: 0.609464\n",
      "[200]\ttraining's auc: 0.852679\tvalid_1's auc: 0.617861\n",
      "[300]\ttraining's auc: 0.883963\tvalid_1's auc: 0.610872\n",
      "[400]\ttraining's auc: 0.90501\tvalid_1's auc: 0.604937\n",
      "[500]\ttraining's auc: 0.915931\tvalid_1's auc: 0.604249\n",
      "Early stopping, best iteration is:\n",
      "[8]\ttraining's auc: 0.731644\tvalid_1's auc: 0.629326\n",
      "fold n°1\n"
     ]
    },
    {
     "name": "stderr",
     "output_type": "stream",
     "text": [
      "c:\\python3\\lib\\site-packages\\lightgbm\\engine.py:148: UserWarning: Found `n_estimators` in params. Will use it instead of argument\n",
      "  warnings.warn(\"Found `{}` in params. Will use it instead of argument\".format(alias))\n"
     ]
    },
    {
     "name": "stdout",
     "output_type": "stream",
     "text": [
      "Training until validation scores don't improve for 500 rounds\n",
      "[100]\ttraining's auc: 0.816469\tvalid_1's auc: 0.587361\n",
      "[200]\ttraining's auc: 0.862982\tvalid_1's auc: 0.586486\n",
      "[300]\ttraining's auc: 0.885879\tvalid_1's auc: 0.585754\n",
      "[400]\ttraining's auc: 0.901968\tvalid_1's auc: 0.582308\n",
      "[500]\ttraining's auc: 0.914089\tvalid_1's auc: 0.578272\n",
      "Early stopping, best iteration is:\n",
      "[9]\ttraining's auc: 0.745468\tvalid_1's auc: 0.599755\n",
      "fold n°2\n"
     ]
    },
    {
     "name": "stderr",
     "output_type": "stream",
     "text": [
      "c:\\python3\\lib\\site-packages\\lightgbm\\engine.py:148: UserWarning: Found `n_estimators` in params. Will use it instead of argument\n",
      "  warnings.warn(\"Found `{}` in params. Will use it instead of argument\".format(alias))\n"
     ]
    },
    {
     "name": "stdout",
     "output_type": "stream",
     "text": [
      "Training until validation scores don't improve for 500 rounds\n",
      "[100]\ttraining's auc: 0.806621\tvalid_1's auc: 0.60826\n",
      "[200]\ttraining's auc: 0.853994\tvalid_1's auc: 0.612467\n",
      "[300]\ttraining's auc: 0.879311\tvalid_1's auc: 0.613736\n",
      "[400]\ttraining's auc: 0.897335\tvalid_1's auc: 0.612996\n",
      "[500]\ttraining's auc: 0.909844\tvalid_1's auc: 0.611714\n",
      "[600]\ttraining's auc: 0.919151\tvalid_1's auc: 0.611686\n",
      "Early stopping, best iteration is:\n",
      "[132]\ttraining's auc: 0.823229\tvalid_1's auc: 0.614847\n",
      "fold n°3\n"
     ]
    },
    {
     "name": "stderr",
     "output_type": "stream",
     "text": [
      "c:\\python3\\lib\\site-packages\\lightgbm\\engine.py:148: UserWarning: Found `n_estimators` in params. Will use it instead of argument\n",
      "  warnings.warn(\"Found `{}` in params. Will use it instead of argument\".format(alias))\n"
     ]
    },
    {
     "name": "stdout",
     "output_type": "stream",
     "text": [
      "Training until validation scores don't improve for 500 rounds\n",
      "[100]\ttraining's auc: 0.817356\tvalid_1's auc: 0.655521\n",
      "[200]\ttraining's auc: 0.861984\tvalid_1's auc: 0.654929\n",
      "[300]\ttraining's auc: 0.889428\tvalid_1's auc: 0.653343\n",
      "[400]\ttraining's auc: 0.904545\tvalid_1's auc: 0.648539\n",
      "[500]\ttraining's auc: 0.917243\tvalid_1's auc: 0.640042\n",
      "[600]\ttraining's auc: 0.923651\tvalid_1's auc: 0.636968\n",
      "Early stopping, best iteration is:\n",
      "[119]\ttraining's auc: 0.82841\tvalid_1's auc: 0.659971\n",
      "fold n°4\n"
     ]
    },
    {
     "name": "stderr",
     "output_type": "stream",
     "text": [
      "c:\\python3\\lib\\site-packages\\lightgbm\\engine.py:148: UserWarning: Found `n_estimators` in params. Will use it instead of argument\n",
      "  warnings.warn(\"Found `{}` in params. Will use it instead of argument\".format(alias))\n"
     ]
    },
    {
     "name": "stdout",
     "output_type": "stream",
     "text": [
      "Training until validation scores don't improve for 500 rounds\n",
      "[100]\ttraining's auc: 0.828222\tvalid_1's auc: 0.603735\n",
      "[200]\ttraining's auc: 0.871884\tvalid_1's auc: 0.600688\n",
      "[300]\ttraining's auc: 0.893287\tvalid_1's auc: 0.599973\n",
      "[400]\ttraining's auc: 0.90812\tvalid_1's auc: 0.600306\n",
      "[500]\ttraining's auc: 0.920403\tvalid_1's auc: 0.590499\n",
      "Early stopping, best iteration is:\n",
      "[2]\ttraining's auc: 0.690793\tvalid_1's auc: 0.613676\n",
      "| \u001b[95m 2       \u001b[0m | \u001b[95m 0.6113  \u001b[0m | \u001b[95m 0.8031  \u001b[0m | \u001b[95m 0.7058  \u001b[0m | \u001b[95m 1.352   \u001b[0m | \u001b[95m 0.01249 \u001b[0m | \u001b[95m 5.204   \u001b[0m | \u001b[95m 53.19   \u001b[0m | \u001b[95m 74.41   \u001b[0m |\n",
      "fold n°0\n"
     ]
    },
    {
     "name": "stderr",
     "output_type": "stream",
     "text": [
      "c:\\python3\\lib\\site-packages\\lightgbm\\engine.py:148: UserWarning: Found `n_estimators` in params. Will use it instead of argument\n",
      "  warnings.warn(\"Found `{}` in params. Will use it instead of argument\".format(alias))\n"
     ]
    },
    {
     "name": "stdout",
     "output_type": "stream",
     "text": [
      "Training until validation scores don't improve for 500 rounds\n",
      "[100]\ttraining's auc: 0.747137\tvalid_1's auc: 0.620017\n",
      "[200]\ttraining's auc: 0.806772\tvalid_1's auc: 0.618765\n",
      "[300]\ttraining's auc: 0.843393\tvalid_1's auc: 0.617665\n",
      "[400]\ttraining's auc: 0.865566\tvalid_1's auc: 0.611993\n",
      "[500]\ttraining's auc: 0.880643\tvalid_1's auc: 0.604573\n",
      "Early stopping, best iteration is:\n",
      "[22]\ttraining's auc: 0.689821\tvalid_1's auc: 0.636933\n",
      "fold n°1\n"
     ]
    },
    {
     "name": "stderr",
     "output_type": "stream",
     "text": [
      "c:\\python3\\lib\\site-packages\\lightgbm\\engine.py:148: UserWarning: Found `n_estimators` in params. Will use it instead of argument\n",
      "  warnings.warn(\"Found `{}` in params. Will use it instead of argument\".format(alias))\n"
     ]
    },
    {
     "name": "stdout",
     "output_type": "stream",
     "text": [
      "Training until validation scores don't improve for 500 rounds\n",
      "[100]\ttraining's auc: 0.760689\tvalid_1's auc: 0.589316\n",
      "[200]\ttraining's auc: 0.814756\tvalid_1's auc: 0.581528\n",
      "[300]\ttraining's auc: 0.844574\tvalid_1's auc: 0.583641\n",
      "[400]\ttraining's auc: 0.868025\tvalid_1's auc: 0.577195\n",
      "[500]\ttraining's auc: 0.884274\tvalid_1's auc: 0.573623\n",
      "[600]\ttraining's auc: 0.89525\tvalid_1's auc: 0.570826\n",
      "Early stopping, best iteration is:\n",
      "[149]\ttraining's auc: 0.791689\tvalid_1's auc: 0.591206\n",
      "fold n°2\n"
     ]
    },
    {
     "name": "stderr",
     "output_type": "stream",
     "text": [
      "c:\\python3\\lib\\site-packages\\lightgbm\\engine.py:148: UserWarning: Found `n_estimators` in params. Will use it instead of argument\n",
      "  warnings.warn(\"Found `{}` in params. Will use it instead of argument\".format(alias))\n"
     ]
    },
    {
     "name": "stdout",
     "output_type": "stream",
     "text": [
      "Training until validation scores don't improve for 500 rounds\n",
      "[100]\ttraining's auc: 0.752892\tvalid_1's auc: 0.610952\n",
      "[200]\ttraining's auc: 0.805038\tvalid_1's auc: 0.606215\n",
      "[300]\ttraining's auc: 0.836248\tvalid_1's auc: 0.596458\n",
      "[400]\ttraining's auc: 0.856702\tvalid_1's auc: 0.596469\n",
      "[500]\ttraining's auc: 0.875026\tvalid_1's auc: 0.597164\n",
      "Early stopping, best iteration is:\n",
      "[45]\ttraining's auc: 0.715294\tvalid_1's auc: 0.620305\n",
      "fold n°3\n"
     ]
    },
    {
     "name": "stderr",
     "output_type": "stream",
     "text": [
      "c:\\python3\\lib\\site-packages\\lightgbm\\engine.py:148: UserWarning: Found `n_estimators` in params. Will use it instead of argument\n",
      "  warnings.warn(\"Found `{}` in params. Will use it instead of argument\".format(alias))\n"
     ]
    },
    {
     "name": "stdout",
     "output_type": "stream",
     "text": [
      "Training until validation scores don't improve for 500 rounds\n",
      "[100]\ttraining's auc: 0.74725\tvalid_1's auc: 0.665215\n",
      "[200]\ttraining's auc: 0.805856\tvalid_1's auc: 0.670666\n",
      "[300]\ttraining's auc: 0.842501\tvalid_1's auc: 0.660886\n",
      "[400]\ttraining's auc: 0.865109\tvalid_1's auc: 0.643596\n",
      "[500]\ttraining's auc: 0.882563\tvalid_1's auc: 0.635684\n",
      "[600]\ttraining's auc: 0.893112\tvalid_1's auc: 0.631765\n",
      "Early stopping, best iteration is:\n",
      "[198]\ttraining's auc: 0.805092\tvalid_1's auc: 0.672304\n",
      "fold n°4\n"
     ]
    },
    {
     "name": "stderr",
     "output_type": "stream",
     "text": [
      "c:\\python3\\lib\\site-packages\\lightgbm\\engine.py:148: UserWarning: Found `n_estimators` in params. Will use it instead of argument\n",
      "  warnings.warn(\"Found `{}` in params. Will use it instead of argument\".format(alias))\n"
     ]
    },
    {
     "name": "stdout",
     "output_type": "stream",
     "text": [
      "Training until validation scores don't improve for 500 rounds\n",
      "[100]\ttraining's auc: 0.765121\tvalid_1's auc: 0.601212\n",
      "[200]\ttraining's auc: 0.816226\tvalid_1's auc: 0.602102\n",
      "[300]\ttraining's auc: 0.846965\tvalid_1's auc: 0.596742\n",
      "[400]\ttraining's auc: 0.868594\tvalid_1's auc: 0.592242\n",
      "[500]\ttraining's auc: 0.882942\tvalid_1's auc: 0.587255\n",
      "Early stopping, best iteration is:\n",
      "[5]\ttraining's auc: 0.651935\tvalid_1's auc: 0.610406\n",
      "| \u001b[95m 3       \u001b[0m | \u001b[95m 0.617   \u001b[0m | \u001b[95m 0.8089  \u001b[0m | \u001b[95m 0.8538  \u001b[0m | \u001b[95m 0.5292  \u001b[0m | \u001b[95m 0.03406 \u001b[0m | \u001b[95m 8.528   \u001b[0m | \u001b[95m 149.9   \u001b[0m | \u001b[95m 6.533   \u001b[0m |\n",
      "fold n°0\n"
     ]
    },
    {
     "name": "stderr",
     "output_type": "stream",
     "text": [
      "c:\\python3\\lib\\site-packages\\lightgbm\\engine.py:148: UserWarning: Found `n_estimators` in params. Will use it instead of argument\n",
      "  warnings.warn(\"Found `{}` in params. Will use it instead of argument\".format(alias))\n"
     ]
    },
    {
     "name": "stdout",
     "output_type": "stream",
     "text": [
      "Training until validation scores don't improve for 500 rounds\n",
      "[100]\ttraining's auc: 0.720395\tvalid_1's auc: 0.601881\n",
      "[200]\ttraining's auc: 0.755746\tvalid_1's auc: 0.600865\n",
      "[300]\ttraining's auc: 0.783508\tvalid_1's auc: 0.602515\n",
      "[400]\ttraining's auc: 0.803178\tvalid_1's auc: 0.600911\n",
      "[500]\ttraining's auc: 0.818226\tvalid_1's auc: 0.595893\n",
      "Early stopping, best iteration is:\n",
      "[4]\ttraining's auc: 0.639818\tvalid_1's auc: 0.636049\n",
      "fold n°1\n"
     ]
    },
    {
     "name": "stderr",
     "output_type": "stream",
     "text": [
      "c:\\python3\\lib\\site-packages\\lightgbm\\engine.py:148: UserWarning: Found `n_estimators` in params. Will use it instead of argument\n",
      "  warnings.warn(\"Found `{}` in params. Will use it instead of argument\".format(alias))\n"
     ]
    },
    {
     "name": "stdout",
     "output_type": "stream",
     "text": [
      "Training until validation scores don't improve for 500 rounds\n",
      "[100]\ttraining's auc: 0.727051\tvalid_1's auc: 0.580531\n",
      "[200]\ttraining's auc: 0.764192\tvalid_1's auc: 0.571335\n",
      "[300]\ttraining's auc: 0.792588\tvalid_1's auc: 0.571004\n",
      "[400]\ttraining's auc: 0.810978\tvalid_1's auc: 0.568549\n",
      "[500]\ttraining's auc: 0.826899\tvalid_1's auc: 0.5689\n",
      "[600]\ttraining's auc: 0.838608\tvalid_1's auc: 0.570814\n",
      "Early stopping, best iteration is:\n",
      "[113]\ttraining's auc: 0.731809\tvalid_1's auc: 0.582134\n",
      "fold n°2\n"
     ]
    },
    {
     "name": "stderr",
     "output_type": "stream",
     "text": [
      "c:\\python3\\lib\\site-packages\\lightgbm\\engine.py:148: UserWarning: Found `n_estimators` in params. Will use it instead of argument\n",
      "  warnings.warn(\"Found `{}` in params. Will use it instead of argument\".format(alias))\n"
     ]
    },
    {
     "name": "stdout",
     "output_type": "stream",
     "text": [
      "Training until validation scores don't improve for 500 rounds\n",
      "[100]\ttraining's auc: 0.721398\tvalid_1's auc: 0.588753\n",
      "[200]\ttraining's auc: 0.755087\tvalid_1's auc: 0.588656\n",
      "[300]\ttraining's auc: 0.780487\tvalid_1's auc: 0.590651\n",
      "[400]\ttraining's auc: 0.79889\tvalid_1's auc: 0.590549\n",
      "[500]\ttraining's auc: 0.813175\tvalid_1's auc: 0.592391\n",
      "[600]\ttraining's auc: 0.827817\tvalid_1's auc: 0.597605\n",
      "[700]\ttraining's auc: 0.836351\tvalid_1's auc: 0.598639\n",
      "[800]\ttraining's auc: 0.844619\tvalid_1's auc: 0.602352\n",
      "[900]\ttraining's auc: 0.854294\tvalid_1's auc: 0.600452\n",
      "[1000]\ttraining's auc: 0.862119\tvalid_1's auc: 0.601144\n",
      "[1100]\ttraining's auc: 0.86915\tvalid_1's auc: 0.601535\n",
      "[1200]\ttraining's auc: 0.873848\tvalid_1's auc: 0.603376\n",
      "[1300]\ttraining's auc: 0.879613\tvalid_1's auc: 0.602228\n",
      "[1400]\ttraining's auc: 0.883654\tvalid_1's auc: 0.601027\n",
      "[1500]\ttraining's auc: 0.888109\tvalid_1's auc: 0.605063\n",
      "Did not meet early stopping. Best iteration is:\n",
      "[1500]\ttraining's auc: 0.888109\tvalid_1's auc: 0.605063\n",
      "fold n°3\n"
     ]
    },
    {
     "name": "stderr",
     "output_type": "stream",
     "text": [
      "c:\\python3\\lib\\site-packages\\lightgbm\\engine.py:148: UserWarning: Found `n_estimators` in params. Will use it instead of argument\n",
      "  warnings.warn(\"Found `{}` in params. Will use it instead of argument\".format(alias))\n"
     ]
    },
    {
     "name": "stdout",
     "output_type": "stream",
     "text": [
      "Training until validation scores don't improve for 500 rounds\n",
      "[100]\ttraining's auc: 0.713261\tvalid_1's auc: 0.645997\n",
      "[200]\ttraining's auc: 0.75816\tvalid_1's auc: 0.641625\n",
      "[300]\ttraining's auc: 0.784992\tvalid_1's auc: 0.638944\n",
      "[400]\ttraining's auc: 0.808046\tvalid_1's auc: 0.63571\n",
      "[500]\ttraining's auc: 0.824066\tvalid_1's auc: 0.634221\n",
      "Early stopping, best iteration is:\n",
      "[81]\ttraining's auc: 0.702969\tvalid_1's auc: 0.650994\n",
      "fold n°4\n"
     ]
    },
    {
     "name": "stderr",
     "output_type": "stream",
     "text": [
      "c:\\python3\\lib\\site-packages\\lightgbm\\engine.py:148: UserWarning: Found `n_estimators` in params. Will use it instead of argument\n",
      "  warnings.warn(\"Found `{}` in params. Will use it instead of argument\".format(alias))\n"
     ]
    },
    {
     "name": "stdout",
     "output_type": "stream",
     "text": [
      "Training until validation scores don't improve for 500 rounds\n",
      "[100]\ttraining's auc: 0.728441\tvalid_1's auc: 0.608173\n",
      "[200]\ttraining's auc: 0.764921\tvalid_1's auc: 0.608376\n",
      "[300]\ttraining's auc: 0.787995\tvalid_1's auc: 0.60855\n",
      "[400]\ttraining's auc: 0.807667\tvalid_1's auc: 0.604994\n",
      "[500]\ttraining's auc: 0.824685\tvalid_1's auc: 0.599043\n",
      "Early stopping, best iteration is:\n",
      "[77]\ttraining's auc: 0.717174\tvalid_1's auc: 0.613199\n",
      "| \u001b[0m 4       \u001b[0m | \u001b[0m 0.6017  \u001b[0m | \u001b[0m 0.8518  \u001b[0m | \u001b[0m 0.9694  \u001b[0m | \u001b[0m 3.771   \u001b[0m | \u001b[0m 0.03749 \u001b[0m | \u001b[0m 5.504   \u001b[0m | \u001b[0m 148.3   \u001b[0m | \u001b[0m 5.199   \u001b[0m |\n",
      "fold n°0\n"
     ]
    },
    {
     "name": "stderr",
     "output_type": "stream",
     "text": [
      "c:\\python3\\lib\\site-packages\\lightgbm\\engine.py:148: UserWarning: Found `n_estimators` in params. Will use it instead of argument\n",
      "  warnings.warn(\"Found `{}` in params. Will use it instead of argument\".format(alias))\n"
     ]
    },
    {
     "name": "stdout",
     "output_type": "stream",
     "text": [
      "Training until validation scores don't improve for 500 rounds\n",
      "[100]\ttraining's auc: 0.884915\tvalid_1's auc: 0.614904\n",
      "[200]\ttraining's auc: 0.921213\tvalid_1's auc: 0.613505\n",
      "[300]\ttraining's auc: 0.933553\tvalid_1's auc: 0.608409\n",
      "[400]\ttraining's auc: 0.94358\tvalid_1's auc: 0.597621\n",
      "[500]\ttraining's auc: 0.948681\tvalid_1's auc: 0.590022\n",
      "Early stopping, best iteration is:\n",
      "[66]\ttraining's auc: 0.86204\tvalid_1's auc: 0.625841\n",
      "fold n°1\n"
     ]
    },
    {
     "name": "stderr",
     "output_type": "stream",
     "text": [
      "c:\\python3\\lib\\site-packages\\lightgbm\\engine.py:148: UserWarning: Found `n_estimators` in params. Will use it instead of argument\n",
      "  warnings.warn(\"Found `{}` in params. Will use it instead of argument\".format(alias))\n"
     ]
    },
    {
     "name": "stdout",
     "output_type": "stream",
     "text": [
      "Training until validation scores don't improve for 500 rounds\n",
      "[100]\ttraining's auc: 0.886843\tvalid_1's auc: 0.599389\n",
      "[200]\ttraining's auc: 0.921588\tvalid_1's auc: 0.589713\n",
      "[300]\ttraining's auc: 0.935599\tvalid_1's auc: 0.589015\n",
      "[400]\ttraining's auc: 0.942905\tvalid_1's auc: 0.590932\n",
      "[500]\ttraining's auc: 0.947547\tvalid_1's auc: 0.58573\n",
      "Early stopping, best iteration is:\n",
      "[8]\ttraining's auc: 0.798002\tvalid_1's auc: 0.611632\n",
      "fold n°2\n"
     ]
    },
    {
     "name": "stderr",
     "output_type": "stream",
     "text": [
      "c:\\python3\\lib\\site-packages\\lightgbm\\engine.py:148: UserWarning: Found `n_estimators` in params. Will use it instead of argument\n",
      "  warnings.warn(\"Found `{}` in params. Will use it instead of argument\".format(alias))\n"
     ]
    },
    {
     "name": "stdout",
     "output_type": "stream",
     "text": [
      "Training until validation scores don't improve for 500 rounds\n",
      "[100]\ttraining's auc: 0.883894\tvalid_1's auc: 0.613993\n",
      "[200]\ttraining's auc: 0.916536\tvalid_1's auc: 0.610052\n",
      "[300]\ttraining's auc: 0.930914\tvalid_1's auc: 0.610128\n",
      "[400]\ttraining's auc: 0.939898\tvalid_1's auc: 0.610134\n",
      "[500]\ttraining's auc: 0.946297\tvalid_1's auc: 0.611927\n",
      "Early stopping, best iteration is:\n",
      "[18]\ttraining's auc: 0.835898\tvalid_1's auc: 0.62382\n",
      "fold n°3\n"
     ]
    },
    {
     "name": "stderr",
     "output_type": "stream",
     "text": [
      "c:\\python3\\lib\\site-packages\\lightgbm\\engine.py:148: UserWarning: Found `n_estimators` in params. Will use it instead of argument\n",
      "  warnings.warn(\"Found `{}` in params. Will use it instead of argument\".format(alias))\n"
     ]
    },
    {
     "name": "stdout",
     "output_type": "stream",
     "text": [
      "Training until validation scores don't improve for 500 rounds\n",
      "[100]\ttraining's auc: 0.891975\tvalid_1's auc: 0.642789\n",
      "[200]\ttraining's auc: 0.92475\tvalid_1's auc: 0.652078\n",
      "[300]\ttraining's auc: 0.936651\tvalid_1's auc: 0.646096\n",
      "[400]\ttraining's auc: 0.943412\tvalid_1's auc: 0.640668\n",
      "[500]\ttraining's auc: 0.948561\tvalid_1's auc: 0.633436\n",
      "[600]\ttraining's auc: 0.953075\tvalid_1's auc: 0.626224\n",
      "[700]\ttraining's auc: 0.956823\tvalid_1's auc: 0.622811\n",
      "Early stopping, best iteration is:\n",
      "[202]\ttraining's auc: 0.925088\tvalid_1's auc: 0.652969\n",
      "fold n°4\n"
     ]
    },
    {
     "name": "stderr",
     "output_type": "stream",
     "text": [
      "c:\\python3\\lib\\site-packages\\lightgbm\\engine.py:148: UserWarning: Found `n_estimators` in params. Will use it instead of argument\n",
      "  warnings.warn(\"Found `{}` in params. Will use it instead of argument\".format(alias))\n"
     ]
    },
    {
     "name": "stdout",
     "output_type": "stream",
     "text": [
      "Training until validation scores don't improve for 500 rounds\n",
      "[100]\ttraining's auc: 0.895146\tvalid_1's auc: 0.601291\n",
      "[200]\ttraining's auc: 0.926085\tvalid_1's auc: 0.590722\n",
      "[300]\ttraining's auc: 0.938636\tvalid_1's auc: 0.59229\n",
      "[400]\ttraining's auc: 0.946092\tvalid_1's auc: 0.58552\n",
      "[500]\ttraining's auc: 0.950587\tvalid_1's auc: 0.581656\n",
      "[600]\ttraining's auc: 0.955265\tvalid_1's auc: 0.57923\n",
      "Early stopping, best iteration is:\n",
      "[108]\ttraining's auc: 0.899209\tvalid_1's auc: 0.602361\n",
      "| \u001b[0m 5       \u001b[0m | \u001b[0m 0.6167  \u001b[0m | \u001b[0m 0.751   \u001b[0m | \u001b[0m 0.7466  \u001b[0m | \u001b[0m 0.3083  \u001b[0m | \u001b[0m 0.01002 \u001b[0m | \u001b[0m 9.673   \u001b[0m | \u001b[0m 149.7   \u001b[0m | \u001b[0m 118.5   \u001b[0m |\n",
      "fold n°0\n"
     ]
    },
    {
     "name": "stderr",
     "output_type": "stream",
     "text": [
      "c:\\python3\\lib\\site-packages\\lightgbm\\engine.py:148: UserWarning: Found `n_estimators` in params. Will use it instead of argument\n",
      "  warnings.warn(\"Found `{}` in params. Will use it instead of argument\".format(alias))\n"
     ]
    },
    {
     "name": "stdout",
     "output_type": "stream",
     "text": [
      "Training until validation scores don't improve for 500 rounds\n",
      "[100]\ttraining's auc: 0.774404\tvalid_1's auc: 0.612892\n",
      "[200]\ttraining's auc: 0.829483\tvalid_1's auc: 0.620353\n",
      "[300]\ttraining's auc: 0.863763\tvalid_1's auc: 0.611382\n",
      "[400]\ttraining's auc: 0.887972\tvalid_1's auc: 0.603175\n",
      "[500]\ttraining's auc: 0.900133\tvalid_1's auc: 0.59123\n",
      "Early stopping, best iteration is:\n",
      "[9]\ttraining's auc: 0.6908\tvalid_1's auc: 0.627981\n",
      "fold n°1\n"
     ]
    },
    {
     "name": "stderr",
     "output_type": "stream",
     "text": [
      "c:\\python3\\lib\\site-packages\\lightgbm\\engine.py:148: UserWarning: Found `n_estimators` in params. Will use it instead of argument\n",
      "  warnings.warn(\"Found `{}` in params. Will use it instead of argument\".format(alias))\n"
     ]
    },
    {
     "name": "stdout",
     "output_type": "stream",
     "text": [
      "Training until validation scores don't improve for 500 rounds\n",
      "[100]\ttraining's auc: 0.782398\tvalid_1's auc: 0.600386\n",
      "[200]\ttraining's auc: 0.840549\tvalid_1's auc: 0.596482\n",
      "[300]\ttraining's auc: 0.871346\tvalid_1's auc: 0.592401\n",
      "[400]\ttraining's auc: 0.891459\tvalid_1's auc: 0.586448\n",
      "[500]\ttraining's auc: 0.90493\tvalid_1's auc: 0.584436\n",
      "Early stopping, best iteration is:\n",
      "[37]\ttraining's auc: 0.726996\tvalid_1's auc: 0.605224\n",
      "fold n°2\n"
     ]
    },
    {
     "name": "stderr",
     "output_type": "stream",
     "text": [
      "c:\\python3\\lib\\site-packages\\lightgbm\\engine.py:148: UserWarning: Found `n_estimators` in params. Will use it instead of argument\n",
      "  warnings.warn(\"Found `{}` in params. Will use it instead of argument\".format(alias))\n"
     ]
    },
    {
     "name": "stdout",
     "output_type": "stream",
     "text": [
      "Training until validation scores don't improve for 500 rounds\n",
      "[100]\ttraining's auc: 0.773123\tvalid_1's auc: 0.608712\n",
      "[200]\ttraining's auc: 0.828801\tvalid_1's auc: 0.601649\n",
      "[300]\ttraining's auc: 0.862009\tvalid_1's auc: 0.600512\n",
      "[400]\ttraining's auc: 0.882111\tvalid_1's auc: 0.595726\n",
      "[500]\ttraining's auc: 0.896893\tvalid_1's auc: 0.599901\n",
      "Early stopping, best iteration is:\n",
      "[68]\ttraining's auc: 0.748313\tvalid_1's auc: 0.612085\n",
      "fold n°3\n"
     ]
    },
    {
     "name": "stderr",
     "output_type": "stream",
     "text": [
      "c:\\python3\\lib\\site-packages\\lightgbm\\engine.py:148: UserWarning: Found `n_estimators` in params. Will use it instead of argument\n",
      "  warnings.warn(\"Found `{}` in params. Will use it instead of argument\".format(alias))\n"
     ]
    },
    {
     "name": "stdout",
     "output_type": "stream",
     "text": [
      "Training until validation scores don't improve for 500 rounds\n",
      "[100]\ttraining's auc: 0.772243\tvalid_1's auc: 0.665113\n",
      "[200]\ttraining's auc: 0.837426\tvalid_1's auc: 0.666742\n",
      "[300]\ttraining's auc: 0.87123\tvalid_1's auc: 0.656325\n",
      "[400]\ttraining's auc: 0.89051\tvalid_1's auc: 0.651876\n",
      "[500]\ttraining's auc: 0.905965\tvalid_1's auc: 0.647828\n",
      "[600]\ttraining's auc: 0.915196\tvalid_1's auc: 0.640624\n",
      "Early stopping, best iteration is:\n",
      "[132]\ttraining's auc: 0.797921\tvalid_1's auc: 0.672566\n",
      "fold n°4\n"
     ]
    },
    {
     "name": "stderr",
     "output_type": "stream",
     "text": [
      "c:\\python3\\lib\\site-packages\\lightgbm\\engine.py:148: UserWarning: Found `n_estimators` in params. Will use it instead of argument\n",
      "  warnings.warn(\"Found `{}` in params. Will use it instead of argument\".format(alias))\n"
     ]
    },
    {
     "name": "stdout",
     "output_type": "stream",
     "text": [
      "Training until validation scores don't improve for 500 rounds\n",
      "[100]\ttraining's auc: 0.784182\tvalid_1's auc: 0.61987\n",
      "[200]\ttraining's auc: 0.836671\tvalid_1's auc: 0.619014\n",
      "[300]\ttraining's auc: 0.870246\tvalid_1's auc: 0.614569\n",
      "[400]\ttraining's auc: 0.89015\tvalid_1's auc: 0.610721\n",
      "[500]\ttraining's auc: 0.902569\tvalid_1's auc: 0.607218\n",
      "Early stopping, best iteration is:\n",
      "[31]\ttraining's auc: 0.729381\tvalid_1's auc: 0.626456\n",
      "| \u001b[95m 6       \u001b[0m | \u001b[95m 0.6205  \u001b[0m | \u001b[95m 0.7373  \u001b[0m | \u001b[95m 0.8684  \u001b[0m | \u001b[95m 0.2979  \u001b[0m | \u001b[95m 0.01924 \u001b[0m | \u001b[95m 7.725   \u001b[0m | \u001b[95m 150.0   \u001b[0m | \u001b[95m 10.47   \u001b[0m |\n",
      "fold n°0\n"
     ]
    },
    {
     "name": "stderr",
     "output_type": "stream",
     "text": [
      "c:\\python3\\lib\\site-packages\\lightgbm\\engine.py:148: UserWarning: Found `n_estimators` in params. Will use it instead of argument\n",
      "  warnings.warn(\"Found `{}` in params. Will use it instead of argument\".format(alias))\n"
     ]
    },
    {
     "name": "stdout",
     "output_type": "stream",
     "text": [
      "Training until validation scores don't improve for 500 rounds\n",
      "[100]\ttraining's auc: 0.969118\tvalid_1's auc: 0.579786\n",
      "[200]\ttraining's auc: 0.979731\tvalid_1's auc: 0.580841\n",
      "[300]\ttraining's auc: 0.982648\tvalid_1's auc: 0.571658\n",
      "[400]\ttraining's auc: 0.984767\tvalid_1's auc: 0.570144\n",
      "[500]\ttraining's auc: 0.985801\tvalid_1's auc: 0.567999\n",
      "Early stopping, best iteration is:\n",
      "[4]\ttraining's auc: 0.855207\tvalid_1's auc: 0.603698\n",
      "fold n°1\n"
     ]
    },
    {
     "name": "stderr",
     "output_type": "stream",
     "text": [
      "c:\\python3\\lib\\site-packages\\lightgbm\\engine.py:148: UserWarning: Found `n_estimators` in params. Will use it instead of argument\n",
      "  warnings.warn(\"Found `{}` in params. Will use it instead of argument\".format(alias))\n"
     ]
    },
    {
     "name": "stdout",
     "output_type": "stream",
     "text": [
      "Training until validation scores don't improve for 500 rounds\n",
      "[100]\ttraining's auc: 0.969136\tvalid_1's auc: 0.573194\n",
      "[200]\ttraining's auc: 0.977804\tvalid_1's auc: 0.564236\n",
      "[300]\ttraining's auc: 0.981973\tvalid_1's auc: 0.559807\n",
      "[400]\ttraining's auc: 0.983781\tvalid_1's auc: 0.556148\n",
      "[500]\ttraining's auc: 0.984966\tvalid_1's auc: 0.547502\n",
      "Early stopping, best iteration is:\n",
      "[3]\ttraining's auc: 0.825806\tvalid_1's auc: 0.588597\n",
      "fold n°2\n"
     ]
    },
    {
     "name": "stderr",
     "output_type": "stream",
     "text": [
      "c:\\python3\\lib\\site-packages\\lightgbm\\engine.py:148: UserWarning: Found `n_estimators` in params. Will use it instead of argument\n",
      "  warnings.warn(\"Found `{}` in params. Will use it instead of argument\".format(alias))\n"
     ]
    },
    {
     "name": "stdout",
     "output_type": "stream",
     "text": [
      "Training until validation scores don't improve for 500 rounds\n",
      "[100]\ttraining's auc: 0.968472\tvalid_1's auc: 0.623595\n",
      "[200]\ttraining's auc: 0.979641\tvalid_1's auc: 0.621817\n",
      "[300]\ttraining's auc: 0.983377\tvalid_1's auc: 0.626033\n",
      "[400]\ttraining's auc: 0.98522\tvalid_1's auc: 0.622415\n",
      "[500]\ttraining's auc: 0.986566\tvalid_1's auc: 0.622813\n",
      "[600]\ttraining's auc: 0.987229\tvalid_1's auc: 0.620583\n",
      "[700]\ttraining's auc: 0.987896\tvalid_1's auc: 0.619386\n",
      "Early stopping, best iteration is:\n",
      "[296]\ttraining's auc: 0.9833\tvalid_1's auc: 0.626573\n",
      "fold n°3\n"
     ]
    },
    {
     "name": "stderr",
     "output_type": "stream",
     "text": [
      "c:\\python3\\lib\\site-packages\\lightgbm\\engine.py:148: UserWarning: Found `n_estimators` in params. Will use it instead of argument\n",
      "  warnings.warn(\"Found `{}` in params. Will use it instead of argument\".format(alias))\n"
     ]
    },
    {
     "name": "stdout",
     "output_type": "stream",
     "text": [
      "Training until validation scores don't improve for 500 rounds\n",
      "[100]\ttraining's auc: 0.969024\tvalid_1's auc: 0.629289\n",
      "[200]\ttraining's auc: 0.978688\tvalid_1's auc: 0.628475\n",
      "[300]\ttraining's auc: 0.983389\tvalid_1's auc: 0.620991\n",
      "[400]\ttraining's auc: 0.985136\tvalid_1's auc: 0.618946\n",
      "[500]\ttraining's auc: 0.986476\tvalid_1's auc: 0.614531\n",
      "Early stopping, best iteration is:\n",
      "[31]\ttraining's auc: 0.948679\tvalid_1's auc: 0.653213\n",
      "fold n°4\n"
     ]
    },
    {
     "name": "stderr",
     "output_type": "stream",
     "text": [
      "c:\\python3\\lib\\site-packages\\lightgbm\\engine.py:148: UserWarning: Found `n_estimators` in params. Will use it instead of argument\n",
      "  warnings.warn(\"Found `{}` in params. Will use it instead of argument\".format(alias))\n"
     ]
    },
    {
     "name": "stdout",
     "output_type": "stream",
     "text": [
      "Training until validation scores don't improve for 500 rounds\n",
      "[100]\ttraining's auc: 0.969714\tvalid_1's auc: 0.575104\n",
      "[200]\ttraining's auc: 0.979184\tvalid_1's auc: 0.565809\n",
      "[300]\ttraining's auc: 0.982694\tvalid_1's auc: 0.56285\n",
      "[400]\ttraining's auc: 0.984029\tvalid_1's auc: 0.566992\n",
      "[500]\ttraining's auc: 0.985011\tvalid_1's auc: 0.562433\n",
      "Early stopping, best iteration is:\n",
      "[36]\ttraining's auc: 0.954616\tvalid_1's auc: 0.592237\n",
      "| \u001b[0m 7       \u001b[0m | \u001b[0m 0.5955  \u001b[0m | \u001b[0m 0.7     \u001b[0m | \u001b[0m 0.843   \u001b[0m | \u001b[0m 0.9755  \u001b[0m | \u001b[0m 0.04674 \u001b[0m | \u001b[0m 9.731   \u001b[0m | \u001b[0m 12.24   \u001b[0m | \u001b[0m 126.5   \u001b[0m |\n",
      "fold n°0\n"
     ]
    },
    {
     "name": "stderr",
     "output_type": "stream",
     "text": [
      "c:\\python3\\lib\\site-packages\\lightgbm\\engine.py:148: UserWarning: Found `n_estimators` in params. Will use it instead of argument\n",
      "  warnings.warn(\"Found `{}` in params. Will use it instead of argument\".format(alias))\n"
     ]
    },
    {
     "name": "stdout",
     "output_type": "stream",
     "text": [
      "Training until validation scores don't improve for 500 rounds\n",
      "[100]\ttraining's auc: 0.937221\tvalid_1's auc: 0.610805\n",
      "[200]\ttraining's auc: 0.956615\tvalid_1's auc: 0.595856\n",
      "[300]\ttraining's auc: 0.96693\tvalid_1's auc: 0.587621\n",
      "[400]\ttraining's auc: 0.975509\tvalid_1's auc: 0.584768\n",
      "[500]\ttraining's auc: 0.980197\tvalid_1's auc: 0.58258\n",
      "Early stopping, best iteration is:\n",
      "[2]\ttraining's auc: 0.757043\tvalid_1's auc: 0.6303\n",
      "fold n°1\n"
     ]
    },
    {
     "name": "stderr",
     "output_type": "stream",
     "text": [
      "c:\\python3\\lib\\site-packages\\lightgbm\\engine.py:148: UserWarning: Found `n_estimators` in params. Will use it instead of argument\n",
      "  warnings.warn(\"Found `{}` in params. Will use it instead of argument\".format(alias))\n"
     ]
    },
    {
     "name": "stdout",
     "output_type": "stream",
     "text": [
      "Training until validation scores don't improve for 500 rounds\n",
      "[100]\ttraining's auc: 0.937549\tvalid_1's auc: 0.588745\n",
      "[200]\ttraining's auc: 0.955087\tvalid_1's auc: 0.588817\n",
      "[300]\ttraining's auc: 0.966772\tvalid_1's auc: 0.58706\n",
      "[400]\ttraining's auc: 0.974023\tvalid_1's auc: 0.583513\n",
      "[500]\ttraining's auc: 0.978893\tvalid_1's auc: 0.58034\n",
      "Early stopping, best iteration is:\n",
      "[1]\ttraining's auc: 0.72037\tvalid_1's auc: 0.606931\n",
      "fold n°2\n"
     ]
    },
    {
     "name": "stderr",
     "output_type": "stream",
     "text": [
      "c:\\python3\\lib\\site-packages\\lightgbm\\engine.py:148: UserWarning: Found `n_estimators` in params. Will use it instead of argument\n",
      "  warnings.warn(\"Found `{}` in params. Will use it instead of argument\".format(alias))\n"
     ]
    },
    {
     "name": "stdout",
     "output_type": "stream",
     "text": [
      "Training until validation scores don't improve for 500 rounds\n",
      "[100]\ttraining's auc: 0.93539\tvalid_1's auc: 0.615096\n",
      "[200]\ttraining's auc: 0.954254\tvalid_1's auc: 0.615039\n",
      "[300]\ttraining's auc: 0.966885\tvalid_1's auc: 0.626257\n",
      "[400]\ttraining's auc: 0.97523\tvalid_1's auc: 0.631026\n",
      "[500]\ttraining's auc: 0.980237\tvalid_1's auc: 0.631934\n",
      "[600]\ttraining's auc: 0.983393\tvalid_1's auc: 0.63005\n",
      "[700]\ttraining's auc: 0.985418\tvalid_1's auc: 0.626362\n",
      "[800]\ttraining's auc: 0.986884\tvalid_1's auc: 0.623056\n",
      "Early stopping, best iteration is:\n",
      "[347]\ttraining's auc: 0.97176\tvalid_1's auc: 0.632546\n",
      "fold n°3\n"
     ]
    },
    {
     "name": "stderr",
     "output_type": "stream",
     "text": [
      "c:\\python3\\lib\\site-packages\\lightgbm\\engine.py:148: UserWarning: Found `n_estimators` in params. Will use it instead of argument\n",
      "  warnings.warn(\"Found `{}` in params. Will use it instead of argument\".format(alias))\n"
     ]
    },
    {
     "name": "stdout",
     "output_type": "stream",
     "text": [
      "Training until validation scores don't improve for 500 rounds\n",
      "[100]\ttraining's auc: 0.940027\tvalid_1's auc: 0.628726\n",
      "[200]\ttraining's auc: 0.955808\tvalid_1's auc: 0.626214\n",
      "[300]\ttraining's auc: 0.96679\tvalid_1's auc: 0.615062\n",
      "[400]\ttraining's auc: 0.974155\tvalid_1's auc: 0.614472\n",
      "[500]\ttraining's auc: 0.979272\tvalid_1's auc: 0.613143\n",
      "Early stopping, best iteration is:\n",
      "[25]\ttraining's auc: 0.887157\tvalid_1's auc: 0.639791\n",
      "fold n°4\n"
     ]
    },
    {
     "name": "stderr",
     "output_type": "stream",
     "text": [
      "c:\\python3\\lib\\site-packages\\lightgbm\\engine.py:148: UserWarning: Found `n_estimators` in params. Will use it instead of argument\n",
      "  warnings.warn(\"Found `{}` in params. Will use it instead of argument\".format(alias))\n"
     ]
    },
    {
     "name": "stdout",
     "output_type": "stream",
     "text": [
      "Training until validation scores don't improve for 500 rounds\n",
      "[100]\ttraining's auc: 0.941958\tvalid_1's auc: 0.592253\n",
      "[200]\ttraining's auc: 0.957431\tvalid_1's auc: 0.588668\n",
      "[300]\ttraining's auc: 0.967855\tvalid_1's auc: 0.580847\n",
      "[400]\ttraining's auc: 0.974264\tvalid_1's auc: 0.573319\n",
      "[500]\ttraining's auc: 0.977873\tvalid_1's auc: 0.569285\n",
      "Early stopping, best iteration is:\n",
      "[55]\ttraining's auc: 0.925594\tvalid_1's auc: 0.600715\n",
      "| \u001b[0m 8       \u001b[0m | \u001b[0m 0.5986  \u001b[0m | \u001b[0m 0.8811  \u001b[0m | \u001b[0m 0.8039  \u001b[0m | \u001b[0m 0.1954  \u001b[0m | \u001b[0m 0.03075 \u001b[0m | \u001b[0m 9.642   \u001b[0m | \u001b[0m 126.1   \u001b[0m | \u001b[0m 74.68   \u001b[0m |\n",
      "fold n°0\n"
     ]
    },
    {
     "name": "stderr",
     "output_type": "stream",
     "text": [
      "c:\\python3\\lib\\site-packages\\lightgbm\\engine.py:148: UserWarning: Found `n_estimators` in params. Will use it instead of argument\n",
      "  warnings.warn(\"Found `{}` in params. Will use it instead of argument\".format(alias))\n"
     ]
    },
    {
     "name": "stdout",
     "output_type": "stream",
     "text": [
      "Training until validation scores don't improve for 500 rounds\n",
      "[100]\ttraining's auc: 0.769645\tvalid_1's auc: 0.600382\n",
      "[200]\ttraining's auc: 0.825051\tvalid_1's auc: 0.620766\n",
      "[300]\ttraining's auc: 0.854066\tvalid_1's auc: 0.611382\n",
      "[400]\ttraining's auc: 0.877044\tvalid_1's auc: 0.600605\n",
      "[500]\ttraining's auc: 0.891635\tvalid_1's auc: 0.597343\n",
      "[600]\ttraining's auc: 0.903905\tvalid_1's auc: 0.595106\n",
      "[700]\ttraining's auc: 0.915264\tvalid_1's auc: 0.59006\n",
      "Early stopping, best iteration is:\n",
      "[207]\ttraining's auc: 0.828467\tvalid_1's auc: 0.622761\n",
      "fold n°1\n"
     ]
    },
    {
     "name": "stderr",
     "output_type": "stream",
     "text": [
      "c:\\python3\\lib\\site-packages\\lightgbm\\engine.py:148: UserWarning: Found `n_estimators` in params. Will use it instead of argument\n",
      "  warnings.warn(\"Found `{}` in params. Will use it instead of argument\".format(alias))\n"
     ]
    },
    {
     "name": "stdout",
     "output_type": "stream",
     "text": [
      "Training until validation scores don't improve for 500 rounds\n",
      "[100]\ttraining's auc: 0.776799\tvalid_1's auc: 0.590511\n",
      "[200]\ttraining's auc: 0.830579\tvalid_1's auc: 0.592917\n",
      "[300]\ttraining's auc: 0.853377\tvalid_1's auc: 0.591654\n",
      "[400]\ttraining's auc: 0.876372\tvalid_1's auc: 0.588741\n",
      "[500]\ttraining's auc: 0.890786\tvalid_1's auc: 0.587608\n",
      "[600]\ttraining's auc: 0.902572\tvalid_1's auc: 0.581756\n",
      "[700]\ttraining's auc: 0.915537\tvalid_1's auc: 0.582634\n",
      "Early stopping, best iteration is:\n",
      "[263]\ttraining's auc: 0.847823\tvalid_1's auc: 0.596898\n",
      "fold n°2\n"
     ]
    },
    {
     "name": "stderr",
     "output_type": "stream",
     "text": [
      "c:\\python3\\lib\\site-packages\\lightgbm\\engine.py:148: UserWarning: Found `n_estimators` in params. Will use it instead of argument\n",
      "  warnings.warn(\"Found `{}` in params. Will use it instead of argument\".format(alias))\n"
     ]
    },
    {
     "name": "stdout",
     "output_type": "stream",
     "text": [
      "Training until validation scores don't improve for 500 rounds\n",
      "[100]\ttraining's auc: 0.766093\tvalid_1's auc: 0.605168\n",
      "[200]\ttraining's auc: 0.822574\tvalid_1's auc: 0.595098\n",
      "[300]\ttraining's auc: 0.850416\tvalid_1's auc: 0.586102\n",
      "[400]\ttraining's auc: 0.877455\tvalid_1's auc: 0.578841\n",
      "[500]\ttraining's auc: 0.891686\tvalid_1's auc: 0.584008\n",
      "Early stopping, best iteration is:\n",
      "[85]\ttraining's auc: 0.760639\tvalid_1's auc: 0.611671\n",
      "fold n°3\n"
     ]
    },
    {
     "name": "stderr",
     "output_type": "stream",
     "text": [
      "c:\\python3\\lib\\site-packages\\lightgbm\\engine.py:148: UserWarning: Found `n_estimators` in params. Will use it instead of argument\n",
      "  warnings.warn(\"Found `{}` in params. Will use it instead of argument\".format(alias))\n"
     ]
    },
    {
     "name": "stdout",
     "output_type": "stream",
     "text": [
      "Training until validation scores don't improve for 500 rounds\n",
      "[100]\ttraining's auc: 0.754368\tvalid_1's auc: 0.6486\n",
      "[200]\ttraining's auc: 0.820342\tvalid_1's auc: 0.650001\n",
      "[300]\ttraining's auc: 0.852483\tvalid_1's auc: 0.646801\n",
      "[400]\ttraining's auc: 0.873034\tvalid_1's auc: 0.63566\n",
      "[500]\ttraining's auc: 0.887219\tvalid_1's auc: 0.627753\n",
      "[600]\ttraining's auc: 0.899348\tvalid_1's auc: 0.62037\n",
      "[700]\ttraining's auc: 0.911217\tvalid_1's auc: 0.609927\n",
      "Early stopping, best iteration is:\n",
      "[226]\ttraining's auc: 0.832471\tvalid_1's auc: 0.657224\n",
      "fold n°4\n"
     ]
    },
    {
     "name": "stderr",
     "output_type": "stream",
     "text": [
      "c:\\python3\\lib\\site-packages\\lightgbm\\engine.py:148: UserWarning: Found `n_estimators` in params. Will use it instead of argument\n",
      "  warnings.warn(\"Found `{}` in params. Will use it instead of argument\".format(alias))\n"
     ]
    },
    {
     "name": "stdout",
     "output_type": "stream",
     "text": [
      "Training until validation scores don't improve for 500 rounds\n",
      "[100]\ttraining's auc: 0.772738\tvalid_1's auc: 0.603174\n",
      "[200]\ttraining's auc: 0.826249\tvalid_1's auc: 0.607321\n",
      "[300]\ttraining's auc: 0.859617\tvalid_1's auc: 0.604373\n",
      "[400]\ttraining's auc: 0.878502\tvalid_1's auc: 0.60101\n",
      "[500]\ttraining's auc: 0.892884\tvalid_1's auc: 0.603013\n",
      "[600]\ttraining's auc: 0.903205\tvalid_1's auc: 0.602037\n",
      "Early stopping, best iteration is:\n",
      "[149]\ttraining's auc: 0.804132\tvalid_1's auc: 0.616787\n",
      "| \u001b[0m 9       \u001b[0m | \u001b[0m 0.6154  \u001b[0m | \u001b[0m 0.9171  \u001b[0m | \u001b[0m 0.8571  \u001b[0m | \u001b[0m 0.2203  \u001b[0m | \u001b[0m 0.04424 \u001b[0m | \u001b[0m 6.459   \u001b[0m | \u001b[0m 17.33   \u001b[0m | \u001b[0m 5.01    \u001b[0m |\n",
      "fold n°0\n"
     ]
    },
    {
     "name": "stderr",
     "output_type": "stream",
     "text": [
      "c:\\python3\\lib\\site-packages\\lightgbm\\engine.py:148: UserWarning: Found `n_estimators` in params. Will use it instead of argument\n",
      "  warnings.warn(\"Found `{}` in params. Will use it instead of argument\".format(alias))\n"
     ]
    },
    {
     "name": "stdout",
     "output_type": "stream",
     "text": [
      "Training until validation scores don't improve for 500 rounds\n",
      "[100]\ttraining's auc: 0.889846\tvalid_1's auc: 0.600885\n",
      "[200]\ttraining's auc: 0.925853\tvalid_1's auc: 0.59221\n",
      "[300]\ttraining's auc: 0.941005\tvalid_1's auc: 0.581839\n",
      "[400]\ttraining's auc: 0.952691\tvalid_1's auc: 0.581181\n",
      "[500]\ttraining's auc: 0.959854\tvalid_1's auc: 0.576245\n",
      "Early stopping, best iteration is:\n",
      "[34]\ttraining's auc: 0.825537\tvalid_1's auc: 0.625806\n",
      "fold n°1\n"
     ]
    },
    {
     "name": "stderr",
     "output_type": "stream",
     "text": [
      "c:\\python3\\lib\\site-packages\\lightgbm\\engine.py:148: UserWarning: Found `n_estimators` in params. Will use it instead of argument\n",
      "  warnings.warn(\"Found `{}` in params. Will use it instead of argument\".format(alias))\n"
     ]
    },
    {
     "name": "stdout",
     "output_type": "stream",
     "text": [
      "Training until validation scores don't improve for 500 rounds\n",
      "[100]\ttraining's auc: 0.888205\tvalid_1's auc: 0.587016\n",
      "[200]\ttraining's auc: 0.925211\tvalid_1's auc: 0.582226\n",
      "[300]\ttraining's auc: 0.94086\tvalid_1's auc: 0.577575\n",
      "[400]\ttraining's auc: 0.950842\tvalid_1's auc: 0.578133\n",
      "[500]\ttraining's auc: 0.958461\tvalid_1's auc: 0.575153\n",
      "Early stopping, best iteration is:\n",
      "[80]\ttraining's auc: 0.876965\tvalid_1's auc: 0.592891\n",
      "fold n°2\n"
     ]
    },
    {
     "name": "stderr",
     "output_type": "stream",
     "text": [
      "c:\\python3\\lib\\site-packages\\lightgbm\\engine.py:148: UserWarning: Found `n_estimators` in params. Will use it instead of argument\n",
      "  warnings.warn(\"Found `{}` in params. Will use it instead of argument\".format(alias))\n"
     ]
    },
    {
     "name": "stdout",
     "output_type": "stream",
     "text": [
      "Training until validation scores don't improve for 500 rounds\n",
      "[100]\ttraining's auc: 0.887444\tvalid_1's auc: 0.609041\n",
      "[200]\ttraining's auc: 0.919951\tvalid_1's auc: 0.609251\n",
      "[300]\ttraining's auc: 0.937539\tvalid_1's auc: 0.609096\n",
      "[400]\ttraining's auc: 0.950736\tvalid_1's auc: 0.613649\n",
      "[500]\ttraining's auc: 0.959383\tvalid_1's auc: 0.616709\n",
      "[600]\ttraining's auc: 0.965318\tvalid_1's auc: 0.620097\n",
      "[700]\ttraining's auc: 0.970854\tvalid_1's auc: 0.624004\n",
      "[800]\ttraining's auc: 0.975045\tvalid_1's auc: 0.627102\n",
      "[900]\ttraining's auc: 0.978258\tvalid_1's auc: 0.627907\n",
      "[1000]\ttraining's auc: 0.980288\tvalid_1's auc: 0.632556\n",
      "[1100]\ttraining's auc: 0.982067\tvalid_1's auc: 0.630661\n",
      "[1200]\ttraining's auc: 0.983266\tvalid_1's auc: 0.629882\n",
      "[1300]\ttraining's auc: 0.984479\tvalid_1's auc: 0.630829\n",
      "[1400]\ttraining's auc: 0.985457\tvalid_1's auc: 0.630417\n",
      "Early stopping, best iteration is:\n",
      "[989]\ttraining's auc: 0.980032\tvalid_1's auc: 0.633641\n",
      "fold n°3\n"
     ]
    },
    {
     "name": "stderr",
     "output_type": "stream",
     "text": [
      "c:\\python3\\lib\\site-packages\\lightgbm\\engine.py:148: UserWarning: Found `n_estimators` in params. Will use it instead of argument\n",
      "  warnings.warn(\"Found `{}` in params. Will use it instead of argument\".format(alias))\n"
     ]
    },
    {
     "name": "stdout",
     "output_type": "stream",
     "text": [
      "Training until validation scores don't improve for 500 rounds\n",
      "[100]\ttraining's auc: 0.88702\tvalid_1's auc: 0.640641\n",
      "[200]\ttraining's auc: 0.924858\tvalid_1's auc: 0.618956\n",
      "[300]\ttraining's auc: 0.943091\tvalid_1's auc: 0.615982\n",
      "[400]\ttraining's auc: 0.952881\tvalid_1's auc: 0.604073\n",
      "[500]\ttraining's auc: 0.960925\tvalid_1's auc: 0.605512\n",
      "Early stopping, best iteration is:\n",
      "[29]\ttraining's auc: 0.822553\tvalid_1's auc: 0.644679\n",
      "fold n°4\n"
     ]
    },
    {
     "name": "stderr",
     "output_type": "stream",
     "text": [
      "c:\\python3\\lib\\site-packages\\lightgbm\\engine.py:148: UserWarning: Found `n_estimators` in params. Will use it instead of argument\n",
      "  warnings.warn(\"Found `{}` in params. Will use it instead of argument\".format(alias))\n"
     ]
    },
    {
     "name": "stdout",
     "output_type": "stream",
     "text": [
      "Training until validation scores don't improve for 500 rounds\n",
      "[100]\ttraining's auc: 0.893157\tvalid_1's auc: 0.591913\n",
      "[200]\ttraining's auc: 0.926664\tvalid_1's auc: 0.585762\n",
      "[300]\ttraining's auc: 0.943951\tvalid_1's auc: 0.57028\n",
      "[400]\ttraining's auc: 0.953933\tvalid_1's auc: 0.560363\n",
      "[500]\ttraining's auc: 0.960088\tvalid_1's auc: 0.547201\n",
      "Early stopping, best iteration is:\n",
      "[98]\ttraining's auc: 0.89324\tvalid_1's auc: 0.593471\n",
      "| \u001b[0m 10      \u001b[0m | \u001b[0m 0.6025  \u001b[0m | \u001b[0m 0.8627  \u001b[0m | \u001b[0m 0.7096  \u001b[0m | \u001b[0m 0.1063  \u001b[0m | \u001b[0m 0.04363 \u001b[0m | \u001b[0m 5.292   \u001b[0m | \u001b[0m 74.79   \u001b[0m | \u001b[0m 129.9   \u001b[0m |\n",
      "fold n°0\n"
     ]
    },
    {
     "name": "stderr",
     "output_type": "stream",
     "text": [
      "c:\\python3\\lib\\site-packages\\lightgbm\\engine.py:148: UserWarning: Found `n_estimators` in params. Will use it instead of argument\n",
      "  warnings.warn(\"Found `{}` in params. Will use it instead of argument\".format(alias))\n"
     ]
    },
    {
     "name": "stdout",
     "output_type": "stream",
     "text": [
      "Training until validation scores don't improve for 500 rounds\n",
      "[100]\ttraining's auc: 0.892304\tvalid_1's auc: 0.590055\n",
      "[200]\ttraining's auc: 0.931091\tvalid_1's auc: 0.577447\n",
      "[300]\ttraining's auc: 0.941365\tvalid_1's auc: 0.567381\n",
      "[400]\ttraining's auc: 0.949628\tvalid_1's auc: 0.563267\n",
      "[500]\ttraining's auc: 0.952509\tvalid_1's auc: 0.560643\n",
      "Early stopping, best iteration is:\n",
      "[3]\ttraining's auc: 0.712691\tvalid_1's auc: 0.632335\n",
      "fold n°1\n"
     ]
    },
    {
     "name": "stderr",
     "output_type": "stream",
     "text": [
      "c:\\python3\\lib\\site-packages\\lightgbm\\engine.py:148: UserWarning: Found `n_estimators` in params. Will use it instead of argument\n",
      "  warnings.warn(\"Found `{}` in params. Will use it instead of argument\".format(alias))\n"
     ]
    },
    {
     "name": "stdout",
     "output_type": "stream",
     "text": [
      "Training until validation scores don't improve for 500 rounds\n",
      "[100]\ttraining's auc: 0.892654\tvalid_1's auc: 0.558418\n",
      "[200]\ttraining's auc: 0.925801\tvalid_1's auc: 0.546455\n",
      "[300]\ttraining's auc: 0.937931\tvalid_1's auc: 0.54535\n",
      "[400]\ttraining's auc: 0.944661\tvalid_1's auc: 0.543672\n",
      "[500]\ttraining's auc: 0.948419\tvalid_1's auc: 0.542027\n",
      "Early stopping, best iteration is:\n",
      "[8]\ttraining's auc: 0.73881\tvalid_1's auc: 0.575357\n",
      "fold n°2\n"
     ]
    },
    {
     "name": "stderr",
     "output_type": "stream",
     "text": [
      "c:\\python3\\lib\\site-packages\\lightgbm\\engine.py:148: UserWarning: Found `n_estimators` in params. Will use it instead of argument\n",
      "  warnings.warn(\"Found `{}` in params. Will use it instead of argument\".format(alias))\n"
     ]
    },
    {
     "name": "stdout",
     "output_type": "stream",
     "text": [
      "Training until validation scores don't improve for 500 rounds\n",
      "[100]\ttraining's auc: 0.886444\tvalid_1's auc: 0.603909\n",
      "[200]\ttraining's auc: 0.921023\tvalid_1's auc: 0.61097\n",
      "[300]\ttraining's auc: 0.936106\tvalid_1's auc: 0.610039\n",
      "[400]\ttraining's auc: 0.943245\tvalid_1's auc: 0.605186\n",
      "[500]\ttraining's auc: 0.948151\tvalid_1's auc: 0.608839\n",
      "Early stopping, best iteration is:\n",
      "[1]\ttraining's auc: 0.68371\tvalid_1's auc: 0.614343\n",
      "fold n°3\n"
     ]
    },
    {
     "name": "stderr",
     "output_type": "stream",
     "text": [
      "c:\\python3\\lib\\site-packages\\lightgbm\\engine.py:148: UserWarning: Found `n_estimators` in params. Will use it instead of argument\n",
      "  warnings.warn(\"Found `{}` in params. Will use it instead of argument\".format(alias))\n"
     ]
    },
    {
     "name": "stdout",
     "output_type": "stream",
     "text": [
      "Training until validation scores don't improve for 500 rounds\n",
      "[100]\ttraining's auc: 0.896238\tvalid_1's auc: 0.643486\n",
      "[200]\ttraining's auc: 0.928563\tvalid_1's auc: 0.631696\n",
      "[300]\ttraining's auc: 0.940508\tvalid_1's auc: 0.629792\n",
      "[400]\ttraining's auc: 0.947544\tvalid_1's auc: 0.624318\n",
      "[500]\ttraining's auc: 0.951588\tvalid_1's auc: 0.620481\n",
      "Early stopping, best iteration is:\n",
      "[11]\ttraining's auc: 0.739494\tvalid_1's auc: 0.660788\n",
      "fold n°4\n"
     ]
    },
    {
     "name": "stderr",
     "output_type": "stream",
     "text": [
      "c:\\python3\\lib\\site-packages\\lightgbm\\engine.py:148: UserWarning: Found `n_estimators` in params. Will use it instead of argument\n",
      "  warnings.warn(\"Found `{}` in params. Will use it instead of argument\".format(alias))\n"
     ]
    },
    {
     "name": "stdout",
     "output_type": "stream",
     "text": [
      "Training until validation scores don't improve for 500 rounds\n",
      "[100]\ttraining's auc: 0.896671\tvalid_1's auc: 0.599735\n",
      "[200]\ttraining's auc: 0.930626\tvalid_1's auc: 0.585038\n",
      "[300]\ttraining's auc: 0.943487\tvalid_1's auc: 0.579261\n",
      "[400]\ttraining's auc: 0.949665\tvalid_1's auc: 0.574348\n",
      "[500]\ttraining's auc: 0.952655\tvalid_1's auc: 0.570318\n",
      "Early stopping, best iteration is:\n",
      "[46]\ttraining's auc: 0.844126\tvalid_1's auc: 0.606054\n",
      "| \u001b[0m 11      \u001b[0m | \u001b[0m 0.6098  \u001b[0m | \u001b[0m 0.8567  \u001b[0m | \u001b[0m 0.991   \u001b[0m | \u001b[0m 5.07    \u001b[0m | \u001b[0m 0.04477 \u001b[0m | \u001b[0m 8.336   \u001b[0m | \u001b[0m 10.06   \u001b[0m | \u001b[0m 49.45   \u001b[0m |\n",
      "fold n°0\n"
     ]
    },
    {
     "name": "stderr",
     "output_type": "stream",
     "text": [
      "c:\\python3\\lib\\site-packages\\lightgbm\\engine.py:148: UserWarning: Found `n_estimators` in params. Will use it instead of argument\n",
      "  warnings.warn(\"Found `{}` in params. Will use it instead of argument\".format(alias))\n"
     ]
    },
    {
     "name": "stdout",
     "output_type": "stream",
     "text": [
      "Training until validation scores don't improve for 500 rounds\n",
      "[100]\ttraining's auc: 0.870416\tvalid_1's auc: 0.620394\n",
      "[200]\ttraining's auc: 0.917323\tvalid_1's auc: 0.612107\n",
      "[300]\ttraining's auc: 0.934253\tvalid_1's auc: 0.597224\n",
      "[400]\ttraining's auc: 0.942723\tvalid_1's auc: 0.591433\n",
      "[500]\ttraining's auc: 0.949719\tvalid_1's auc: 0.586768\n",
      "Early stopping, best iteration is:\n",
      "[25]\ttraining's auc: 0.78982\tvalid_1's auc: 0.627791\n",
      "fold n°1\n"
     ]
    },
    {
     "name": "stderr",
     "output_type": "stream",
     "text": [
      "c:\\python3\\lib\\site-packages\\lightgbm\\engine.py:148: UserWarning: Found `n_estimators` in params. Will use it instead of argument\n",
      "  warnings.warn(\"Found `{}` in params. Will use it instead of argument\".format(alias))\n"
     ]
    },
    {
     "name": "stdout",
     "output_type": "stream",
     "text": [
      "Training until validation scores don't improve for 500 rounds\n",
      "[100]\ttraining's auc: 0.869913\tvalid_1's auc: 0.589484\n",
      "[200]\ttraining's auc: 0.917209\tvalid_1's auc: 0.592344\n",
      "[300]\ttraining's auc: 0.931994\tvalid_1's auc: 0.595884\n",
      "[400]\ttraining's auc: 0.941536\tvalid_1's auc: 0.595094\n",
      "[500]\ttraining's auc: 0.946886\tvalid_1's auc: 0.592361\n",
      "[600]\ttraining's auc: 0.953109\tvalid_1's auc: 0.588264\n",
      "[700]\ttraining's auc: 0.957399\tvalid_1's auc: 0.585242\n",
      "Early stopping, best iteration is:\n",
      "[287]\ttraining's auc: 0.93062\tvalid_1's auc: 0.597502\n",
      "fold n°2\n"
     ]
    },
    {
     "name": "stderr",
     "output_type": "stream",
     "text": [
      "c:\\python3\\lib\\site-packages\\lightgbm\\engine.py:148: UserWarning: Found `n_estimators` in params. Will use it instead of argument\n",
      "  warnings.warn(\"Found `{}` in params. Will use it instead of argument\".format(alias))\n"
     ]
    },
    {
     "name": "stdout",
     "output_type": "stream",
     "text": [
      "Training until validation scores don't improve for 500 rounds\n",
      "[100]\ttraining's auc: 0.864853\tvalid_1's auc: 0.609362\n",
      "[200]\ttraining's auc: 0.912245\tvalid_1's auc: 0.615259\n",
      "[300]\ttraining's auc: 0.92918\tvalid_1's auc: 0.613213\n",
      "[400]\ttraining's auc: 0.939559\tvalid_1's auc: 0.613082\n",
      "[500]\ttraining's auc: 0.94642\tvalid_1's auc: 0.615321\n",
      "[600]\ttraining's auc: 0.952411\tvalid_1's auc: 0.616782\n",
      "Early stopping, best iteration is:\n",
      "[132]\ttraining's auc: 0.886687\tvalid_1's auc: 0.618018\n",
      "fold n°3\n"
     ]
    },
    {
     "name": "stderr",
     "output_type": "stream",
     "text": [
      "c:\\python3\\lib\\site-packages\\lightgbm\\engine.py:148: UserWarning: Found `n_estimators` in params. Will use it instead of argument\n",
      "  warnings.warn(\"Found `{}` in params. Will use it instead of argument\".format(alias))\n"
     ]
    },
    {
     "name": "stdout",
     "output_type": "stream",
     "text": [
      "Training until validation scores don't improve for 500 rounds\n",
      "[100]\ttraining's auc: 0.885441\tvalid_1's auc: 0.658866\n",
      "[200]\ttraining's auc: 0.920326\tvalid_1's auc: 0.660929\n",
      "[300]\ttraining's auc: 0.934605\tvalid_1's auc: 0.653444\n",
      "[400]\ttraining's auc: 0.942985\tvalid_1's auc: 0.649764\n",
      "[500]\ttraining's auc: 0.949\tvalid_1's auc: 0.639732\n",
      "[600]\ttraining's auc: 0.953598\tvalid_1's auc: 0.63595\n",
      "Early stopping, best iteration is:\n",
      "[128]\ttraining's auc: 0.900234\tvalid_1's auc: 0.662658\n",
      "fold n°4\n"
     ]
    },
    {
     "name": "stderr",
     "output_type": "stream",
     "text": [
      "c:\\python3\\lib\\site-packages\\lightgbm\\engine.py:148: UserWarning: Found `n_estimators` in params. Will use it instead of argument\n",
      "  warnings.warn(\"Found `{}` in params. Will use it instead of argument\".format(alias))\n"
     ]
    },
    {
     "name": "stdout",
     "output_type": "stream",
     "text": [
      "Training until validation scores don't improve for 500 rounds\n",
      "[100]\ttraining's auc: 0.882526\tvalid_1's auc: 0.594441\n",
      "[200]\ttraining's auc: 0.926514\tvalid_1's auc: 0.592488\n",
      "[300]\ttraining's auc: 0.937267\tvalid_1's auc: 0.588467\n",
      "[400]\ttraining's auc: 0.945587\tvalid_1's auc: 0.585693\n",
      "[500]\ttraining's auc: 0.951332\tvalid_1's auc: 0.58057\n",
      "Early stopping, best iteration is:\n",
      "[12]\ttraining's auc: 0.778869\tvalid_1's auc: 0.614006\n",
      "| \u001b[0m 12      \u001b[0m | \u001b[0m 0.6127  \u001b[0m | \u001b[0m 0.9526  \u001b[0m | \u001b[0m 0.8874  \u001b[0m | \u001b[0m 0.8153  \u001b[0m | \u001b[0m 0.0145  \u001b[0m | \u001b[0m 9.682   \u001b[0m | \u001b[0m 149.7   \u001b[0m | \u001b[0m 34.92   \u001b[0m |\n",
      "fold n°0\n"
     ]
    },
    {
     "name": "stderr",
     "output_type": "stream",
     "text": [
      "c:\\python3\\lib\\site-packages\\lightgbm\\engine.py:148: UserWarning: Found `n_estimators` in params. Will use it instead of argument\n",
      "  warnings.warn(\"Found `{}` in params. Will use it instead of argument\".format(alias))\n"
     ]
    },
    {
     "name": "stdout",
     "output_type": "stream",
     "text": [
      "Training until validation scores don't improve for 500 rounds\n",
      "[100]\ttraining's auc: 0.823669\tvalid_1's auc: 0.630691\n",
      "[200]\ttraining's auc: 0.868684\tvalid_1's auc: 0.620204\n",
      "[300]\ttraining's auc: 0.895832\tvalid_1's auc: 0.605965\n",
      "[400]\ttraining's auc: 0.910637\tvalid_1's auc: 0.601377\n",
      "[500]\ttraining's auc: 0.920239\tvalid_1's auc: 0.593097\n",
      "Early stopping, best iteration is:\n",
      "[4]\ttraining's auc: 0.677526\tvalid_1's auc: 0.640566\n",
      "fold n°1\n"
     ]
    },
    {
     "name": "stderr",
     "output_type": "stream",
     "text": [
      "c:\\python3\\lib\\site-packages\\lightgbm\\engine.py:148: UserWarning: Found `n_estimators` in params. Will use it instead of argument\n",
      "  warnings.warn(\"Found `{}` in params. Will use it instead of argument\".format(alias))\n"
     ]
    },
    {
     "name": "stdout",
     "output_type": "stream",
     "text": [
      "Training until validation scores don't improve for 500 rounds\n",
      "[100]\ttraining's auc: 0.826329\tvalid_1's auc: 0.597302\n",
      "[200]\ttraining's auc: 0.873176\tvalid_1's auc: 0.588412\n",
      "[300]\ttraining's auc: 0.89802\tvalid_1's auc: 0.591384\n",
      "[400]\ttraining's auc: 0.911066\tvalid_1's auc: 0.590814\n",
      "[500]\ttraining's auc: 0.92168\tvalid_1's auc: 0.585294\n",
      "Early stopping, best iteration is:\n",
      "[86]\ttraining's auc: 0.818588\tvalid_1's auc: 0.598397\n",
      "fold n°2\n"
     ]
    },
    {
     "name": "stderr",
     "output_type": "stream",
     "text": [
      "c:\\python3\\lib\\site-packages\\lightgbm\\engine.py:148: UserWarning: Found `n_estimators` in params. Will use it instead of argument\n",
      "  warnings.warn(\"Found `{}` in params. Will use it instead of argument\".format(alias))\n"
     ]
    },
    {
     "name": "stdout",
     "output_type": "stream",
     "text": [
      "Training until validation scores don't improve for 500 rounds\n",
      "[100]\ttraining's auc: 0.807045\tvalid_1's auc: 0.599941\n",
      "[200]\ttraining's auc: 0.857466\tvalid_1's auc: 0.587766\n",
      "[300]\ttraining's auc: 0.88508\tvalid_1's auc: 0.586285\n",
      "[400]\ttraining's auc: 0.903489\tvalid_1's auc: 0.585054\n",
      "[500]\ttraining's auc: 0.915011\tvalid_1's auc: 0.585692\n",
      "Early stopping, best iteration is:\n",
      "[4]\ttraining's auc: 0.689881\tvalid_1's auc: 0.61399\n",
      "fold n°3\n"
     ]
    },
    {
     "name": "stderr",
     "output_type": "stream",
     "text": [
      "c:\\python3\\lib\\site-packages\\lightgbm\\engine.py:148: UserWarning: Found `n_estimators` in params. Will use it instead of argument\n",
      "  warnings.warn(\"Found `{}` in params. Will use it instead of argument\".format(alias))\n"
     ]
    },
    {
     "name": "stdout",
     "output_type": "stream",
     "text": [
      "Training until validation scores don't improve for 500 rounds\n",
      "[100]\ttraining's auc: 0.818435\tvalid_1's auc: 0.662421\n",
      "[200]\ttraining's auc: 0.865674\tvalid_1's auc: 0.640674\n",
      "[300]\ttraining's auc: 0.893934\tvalid_1's auc: 0.627933\n",
      "[400]\ttraining's auc: 0.912569\tvalid_1's auc: 0.617175\n",
      "[500]\ttraining's auc: 0.921381\tvalid_1's auc: 0.612979\n",
      "Early stopping, best iteration is:\n",
      "[92]\ttraining's auc: 0.813049\tvalid_1's auc: 0.66835\n",
      "fold n°4\n"
     ]
    },
    {
     "name": "stderr",
     "output_type": "stream",
     "text": [
      "c:\\python3\\lib\\site-packages\\lightgbm\\engine.py:148: UserWarning: Found `n_estimators` in params. Will use it instead of argument\n",
      "  warnings.warn(\"Found `{}` in params. Will use it instead of argument\".format(alias))\n"
     ]
    },
    {
     "name": "stdout",
     "output_type": "stream",
     "text": [
      "Training until validation scores don't improve for 500 rounds\n",
      "[100]\ttraining's auc: 0.816372\tvalid_1's auc: 0.602435\n",
      "[200]\ttraining's auc: 0.87014\tvalid_1's auc: 0.597452\n",
      "[300]\ttraining's auc: 0.898831\tvalid_1's auc: 0.604026\n",
      "[400]\ttraining's auc: 0.91451\tvalid_1's auc: 0.593315\n",
      "[500]\ttraining's auc: 0.924761\tvalid_1's auc: 0.587433\n",
      "Early stopping, best iteration is:\n",
      "[30]\ttraining's auc: 0.755687\tvalid_1's auc: 0.612985\n",
      "| \u001b[0m 13      \u001b[0m | \u001b[0m 0.6142  \u001b[0m | \u001b[0m 0.9502  \u001b[0m | \u001b[0m 0.7884  \u001b[0m | \u001b[0m 0.2184  \u001b[0m | \u001b[0m 0.03803 \u001b[0m | \u001b[0m 4.844   \u001b[0m | \u001b[0m 149.0   \u001b[0m | \u001b[0m 94.55   \u001b[0m |\n",
      "fold n°0\n"
     ]
    },
    {
     "name": "stderr",
     "output_type": "stream",
     "text": [
      "c:\\python3\\lib\\site-packages\\lightgbm\\engine.py:148: UserWarning: Found `n_estimators` in params. Will use it instead of argument\n",
      "  warnings.warn(\"Found `{}` in params. Will use it instead of argument\".format(alias))\n"
     ]
    },
    {
     "name": "stdout",
     "output_type": "stream",
     "text": [
      "Training until validation scores don't improve for 500 rounds\n",
      "[100]\ttraining's auc: 0.765884\tvalid_1's auc: 0.620246\n",
      "[200]\ttraining's auc: 0.816805\tvalid_1's auc: 0.623529\n",
      "[300]\ttraining's auc: 0.852202\tvalid_1's auc: 0.611563\n",
      "[400]\ttraining's auc: 0.877174\tvalid_1's auc: 0.605793\n",
      "[500]\ttraining's auc: 0.890899\tvalid_1's auc: 0.601605\n",
      "Early stopping, best iteration is:\n",
      "[3]\ttraining's auc: 0.668949\tvalid_1's auc: 0.629674\n",
      "fold n°1\n"
     ]
    },
    {
     "name": "stderr",
     "output_type": "stream",
     "text": [
      "c:\\python3\\lib\\site-packages\\lightgbm\\engine.py:148: UserWarning: Found `n_estimators` in params. Will use it instead of argument\n",
      "  warnings.warn(\"Found `{}` in params. Will use it instead of argument\".format(alias))\n"
     ]
    },
    {
     "name": "stdout",
     "output_type": "stream",
     "text": [
      "Training until validation scores don't improve for 500 rounds\n",
      "[100]\ttraining's auc: 0.776116\tvalid_1's auc: 0.590986\n",
      "[200]\ttraining's auc: 0.829837\tvalid_1's auc: 0.586485\n",
      "[300]\ttraining's auc: 0.857538\tvalid_1's auc: 0.583491\n",
      "[400]\ttraining's auc: 0.874466\tvalid_1's auc: 0.577883\n",
      "[500]\ttraining's auc: 0.889007\tvalid_1's auc: 0.579114\n",
      "Early stopping, best iteration is:\n",
      "[48]\ttraining's auc: 0.745182\tvalid_1's auc: 0.603016\n",
      "fold n°2\n"
     ]
    },
    {
     "name": "stderr",
     "output_type": "stream",
     "text": [
      "c:\\python3\\lib\\site-packages\\lightgbm\\engine.py:148: UserWarning: Found `n_estimators` in params. Will use it instead of argument\n",
      "  warnings.warn(\"Found `{}` in params. Will use it instead of argument\".format(alias))\n"
     ]
    },
    {
     "name": "stdout",
     "output_type": "stream",
     "text": [
      "Training until validation scores don't improve for 500 rounds\n",
      "[100]\ttraining's auc: 0.7683\tvalid_1's auc: 0.620438\n",
      "[200]\ttraining's auc: 0.813349\tvalid_1's auc: 0.607084\n",
      "[300]\ttraining's auc: 0.841686\tvalid_1's auc: 0.608139\n",
      "[400]\ttraining's auc: 0.86168\tvalid_1's auc: 0.606725\n",
      "[500]\ttraining's auc: 0.877989\tvalid_1's auc: 0.60685\n",
      "Early stopping, best iteration is:\n",
      "[89]\ttraining's auc: 0.761117\tvalid_1's auc: 0.620902\n",
      "fold n°3\n"
     ]
    },
    {
     "name": "stderr",
     "output_type": "stream",
     "text": [
      "c:\\python3\\lib\\site-packages\\lightgbm\\engine.py:148: UserWarning: Found `n_estimators` in params. Will use it instead of argument\n",
      "  warnings.warn(\"Found `{}` in params. Will use it instead of argument\".format(alias))\n"
     ]
    },
    {
     "name": "stdout",
     "output_type": "stream",
     "text": [
      "Training until validation scores don't improve for 500 rounds\n",
      "[100]\ttraining's auc: 0.768166\tvalid_1's auc: 0.655462\n",
      "[200]\ttraining's auc: 0.82829\tvalid_1's auc: 0.660035\n",
      "[300]\ttraining's auc: 0.855505\tvalid_1's auc: 0.653121\n",
      "[400]\ttraining's auc: 0.875438\tvalid_1's auc: 0.643531\n",
      "[500]\ttraining's auc: 0.891667\tvalid_1's auc: 0.636377\n",
      "Early stopping, best iteration is:\n",
      "[43]\ttraining's auc: 0.727077\tvalid_1's auc: 0.662273\n",
      "fold n°4\n"
     ]
    },
    {
     "name": "stderr",
     "output_type": "stream",
     "text": [
      "c:\\python3\\lib\\site-packages\\lightgbm\\engine.py:148: UserWarning: Found `n_estimators` in params. Will use it instead of argument\n",
      "  warnings.warn(\"Found `{}` in params. Will use it instead of argument\".format(alias))\n"
     ]
    },
    {
     "name": "stdout",
     "output_type": "stream",
     "text": [
      "Training until validation scores don't improve for 500 rounds\n",
      "[100]\ttraining's auc: 0.779382\tvalid_1's auc: 0.622809\n",
      "[200]\ttraining's auc: 0.820807\tvalid_1's auc: 0.624052\n",
      "[300]\ttraining's auc: 0.857044\tvalid_1's auc: 0.622373\n",
      "[400]\ttraining's auc: 0.878086\tvalid_1's auc: 0.617221\n",
      "[500]\ttraining's auc: 0.893099\tvalid_1's auc: 0.611244\n",
      "Early stopping, best iteration is:\n",
      "[55]\ttraining's auc: 0.75324\tvalid_1's auc: 0.630353\n",
      "| \u001b[0m 14      \u001b[0m | \u001b[0m 0.6143  \u001b[0m | \u001b[0m 0.7058  \u001b[0m | \u001b[0m 0.8472  \u001b[0m | \u001b[0m 0.3714  \u001b[0m | \u001b[0m 0.01709 \u001b[0m | \u001b[0m 4.075   \u001b[0m | \u001b[0m 148.3   \u001b[0m | \u001b[0m 127.9   \u001b[0m |\n",
      "fold n°0\n"
     ]
    },
    {
     "name": "stderr",
     "output_type": "stream",
     "text": [
      "c:\\python3\\lib\\site-packages\\lightgbm\\engine.py:148: UserWarning: Found `n_estimators` in params. Will use it instead of argument\n",
      "  warnings.warn(\"Found `{}` in params. Will use it instead of argument\".format(alias))\n"
     ]
    },
    {
     "name": "stdout",
     "output_type": "stream",
     "text": [
      "Training until validation scores don't improve for 500 rounds\n",
      "[100]\ttraining's auc: 0.742337\tvalid_1's auc: 0.603859\n",
      "[200]\ttraining's auc: 0.781523\tvalid_1's auc: 0.611235\n",
      "[300]\ttraining's auc: 0.80603\tvalid_1's auc: 0.604559\n",
      "[400]\ttraining's auc: 0.826983\tvalid_1's auc: 0.597972\n",
      "[500]\ttraining's auc: 0.841314\tvalid_1's auc: 0.593342\n",
      "[600]\ttraining's auc: 0.853448\tvalid_1's auc: 0.59025\n",
      "[700]\ttraining's auc: 0.863514\tvalid_1's auc: 0.584461\n",
      "Early stopping, best iteration is:\n",
      "[201]\ttraining's auc: 0.781731\tvalid_1's auc: 0.611606\n",
      "fold n°1\n"
     ]
    },
    {
     "name": "stderr",
     "output_type": "stream",
     "text": [
      "c:\\python3\\lib\\site-packages\\lightgbm\\engine.py:148: UserWarning: Found `n_estimators` in params. Will use it instead of argument\n",
      "  warnings.warn(\"Found `{}` in params. Will use it instead of argument\".format(alias))\n"
     ]
    },
    {
     "name": "stdout",
     "output_type": "stream",
     "text": [
      "Training until validation scores don't improve for 500 rounds\n",
      "[100]\ttraining's auc: 0.747096\tvalid_1's auc: 0.568275\n",
      "[200]\ttraining's auc: 0.786449\tvalid_1's auc: 0.566727\n",
      "[300]\ttraining's auc: 0.812528\tvalid_1's auc: 0.566692\n",
      "[400]\ttraining's auc: 0.831183\tvalid_1's auc: 0.56338\n",
      "[500]\ttraining's auc: 0.845324\tvalid_1's auc: 0.560326\n",
      "[600]\ttraining's auc: 0.855896\tvalid_1's auc: 0.557759\n",
      "Early stopping, best iteration is:\n",
      "[114]\ttraining's auc: 0.752702\tvalid_1's auc: 0.571599\n",
      "fold n°2\n"
     ]
    },
    {
     "name": "stderr",
     "output_type": "stream",
     "text": [
      "c:\\python3\\lib\\site-packages\\lightgbm\\engine.py:148: UserWarning: Found `n_estimators` in params. Will use it instead of argument\n",
      "  warnings.warn(\"Found `{}` in params. Will use it instead of argument\".format(alias))\n"
     ]
    },
    {
     "name": "stdout",
     "output_type": "stream",
     "text": [
      "Training until validation scores don't improve for 500 rounds\n",
      "[100]\ttraining's auc: 0.742038\tvalid_1's auc: 0.595998\n",
      "[200]\ttraining's auc: 0.780107\tvalid_1's auc: 0.597013\n",
      "[300]\ttraining's auc: 0.802246\tvalid_1's auc: 0.599945\n",
      "[400]\ttraining's auc: 0.819374\tvalid_1's auc: 0.600708\n",
      "[500]\ttraining's auc: 0.832166\tvalid_1's auc: 0.603072\n",
      "[600]\ttraining's auc: 0.845079\tvalid_1's auc: 0.602273\n",
      "[700]\ttraining's auc: 0.855544\tvalid_1's auc: 0.597788\n",
      "[800]\ttraining's auc: 0.863423\tvalid_1's auc: 0.603368\n",
      "[900]\ttraining's auc: 0.871809\tvalid_1's auc: 0.601985\n",
      "[1000]\ttraining's auc: 0.878232\tvalid_1's auc: 0.603377\n",
      "Early stopping, best iteration is:\n",
      "[550]\ttraining's auc: 0.839235\tvalid_1's auc: 0.605361\n",
      "fold n°3\n"
     ]
    },
    {
     "name": "stderr",
     "output_type": "stream",
     "text": [
      "c:\\python3\\lib\\site-packages\\lightgbm\\engine.py:148: UserWarning: Found `n_estimators` in params. Will use it instead of argument\n",
      "  warnings.warn(\"Found `{}` in params. Will use it instead of argument\".format(alias))\n"
     ]
    },
    {
     "name": "stdout",
     "output_type": "stream",
     "text": [
      "Training until validation scores don't improve for 500 rounds\n",
      "[100]\ttraining's auc: 0.73523\tvalid_1's auc: 0.652285\n",
      "[200]\ttraining's auc: 0.781184\tvalid_1's auc: 0.648232\n",
      "[300]\ttraining's auc: 0.808501\tvalid_1's auc: 0.64218\n",
      "[400]\ttraining's auc: 0.830312\tvalid_1's auc: 0.638119\n",
      "[500]\ttraining's auc: 0.847881\tvalid_1's auc: 0.63373\n",
      "[600]\ttraining's auc: 0.859337\tvalid_1's auc: 0.631569\n",
      "Early stopping, best iteration is:\n",
      "[107]\ttraining's auc: 0.738387\tvalid_1's auc: 0.65355\n",
      "fold n°4\n"
     ]
    },
    {
     "name": "stderr",
     "output_type": "stream",
     "text": [
      "c:\\python3\\lib\\site-packages\\lightgbm\\engine.py:148: UserWarning: Found `n_estimators` in params. Will use it instead of argument\n",
      "  warnings.warn(\"Found `{}` in params. Will use it instead of argument\".format(alias))\n"
     ]
    },
    {
     "name": "stdout",
     "output_type": "stream",
     "text": [
      "Training until validation scores don't improve for 500 rounds\n",
      "[100]\ttraining's auc: 0.751338\tvalid_1's auc: 0.608106\n",
      "[200]\ttraining's auc: 0.792132\tvalid_1's auc: 0.609416\n",
      "[300]\ttraining's auc: 0.812709\tvalid_1's auc: 0.611308\n",
      "[400]\ttraining's auc: 0.831062\tvalid_1's auc: 0.608129\n",
      "[500]\ttraining's auc: 0.844837\tvalid_1's auc: 0.602986\n",
      "[600]\ttraining's auc: 0.854565\tvalid_1's auc: 0.600008\n",
      "[700]\ttraining's auc: 0.863994\tvalid_1's auc: 0.597469\n",
      "Early stopping, best iteration is:\n",
      "[289]\ttraining's auc: 0.810562\tvalid_1's auc: 0.613295\n",
      "| \u001b[0m 15      \u001b[0m | \u001b[0m 0.607   \u001b[0m | \u001b[0m 0.7586  \u001b[0m | \u001b[0m 0.8863  \u001b[0m | \u001b[0m 5.723   \u001b[0m | \u001b[0m 0.02195 \u001b[0m | \u001b[0m 4.161   \u001b[0m | \u001b[0m 12.62   \u001b[0m | \u001b[0m 87.59   \u001b[0m |\n",
      "fold n°0\n"
     ]
    },
    {
     "name": "stderr",
     "output_type": "stream",
     "text": [
      "c:\\python3\\lib\\site-packages\\lightgbm\\engine.py:148: UserWarning: Found `n_estimators` in params. Will use it instead of argument\n",
      "  warnings.warn(\"Found `{}` in params. Will use it instead of argument\".format(alias))\n"
     ]
    },
    {
     "name": "stdout",
     "output_type": "stream",
     "text": [
      "Training until validation scores don't improve for 500 rounds\n",
      "[100]\ttraining's auc: 0.729001\tvalid_1's auc: 0.623473\n",
      "[200]\ttraining's auc: 0.774456\tvalid_1's auc: 0.609529\n",
      "[300]\ttraining's auc: 0.806356\tvalid_1's auc: 0.607664\n",
      "[400]\ttraining's auc: 0.827507\tvalid_1's auc: 0.603428\n",
      "[500]\ttraining's auc: 0.841357\tvalid_1's auc: 0.605229\n",
      "Early stopping, best iteration is:\n",
      "[18]\ttraining's auc: 0.649108\tvalid_1's auc: 0.628773\n",
      "fold n°1\n"
     ]
    },
    {
     "name": "stderr",
     "output_type": "stream",
     "text": [
      "c:\\python3\\lib\\site-packages\\lightgbm\\engine.py:148: UserWarning: Found `n_estimators` in params. Will use it instead of argument\n",
      "  warnings.warn(\"Found `{}` in params. Will use it instead of argument\".format(alias))\n"
     ]
    },
    {
     "name": "stdout",
     "output_type": "stream",
     "text": [
      "Training until validation scores don't improve for 500 rounds\n",
      "[100]\ttraining's auc: 0.735029\tvalid_1's auc: 0.587445\n",
      "[200]\ttraining's auc: 0.780537\tvalid_1's auc: 0.595814\n",
      "[300]\ttraining's auc: 0.810567\tvalid_1's auc: 0.593837\n",
      "[400]\ttraining's auc: 0.828339\tvalid_1's auc: 0.595821\n",
      "[500]\ttraining's auc: 0.843269\tvalid_1's auc: 0.591869\n",
      "[600]\ttraining's auc: 0.854089\tvalid_1's auc: 0.593048\n",
      "Early stopping, best iteration is:\n",
      "[187]\ttraining's auc: 0.776701\tvalid_1's auc: 0.59844\n",
      "fold n°2\n"
     ]
    },
    {
     "name": "stderr",
     "output_type": "stream",
     "text": [
      "c:\\python3\\lib\\site-packages\\lightgbm\\engine.py:148: UserWarning: Found `n_estimators` in params. Will use it instead of argument\n",
      "  warnings.warn(\"Found `{}` in params. Will use it instead of argument\".format(alias))\n"
     ]
    },
    {
     "name": "stdout",
     "output_type": "stream",
     "text": [
      "Training until validation scores don't improve for 500 rounds\n",
      "[100]\ttraining's auc: 0.731771\tvalid_1's auc: 0.610745\n",
      "[200]\ttraining's auc: 0.770717\tvalid_1's auc: 0.616854\n",
      "[300]\ttraining's auc: 0.794748\tvalid_1's auc: 0.607867\n",
      "[400]\ttraining's auc: 0.812502\tvalid_1's auc: 0.605953\n",
      "[500]\ttraining's auc: 0.829271\tvalid_1's auc: 0.603598\n",
      "[600]\ttraining's auc: 0.846058\tvalid_1's auc: 0.601708\n",
      "Early stopping, best iteration is:\n",
      "[184]\ttraining's auc: 0.76466\tvalid_1's auc: 0.619653\n",
      "fold n°3\n"
     ]
    },
    {
     "name": "stderr",
     "output_type": "stream",
     "text": [
      "c:\\python3\\lib\\site-packages\\lightgbm\\engine.py:148: UserWarning: Found `n_estimators` in params. Will use it instead of argument\n",
      "  warnings.warn(\"Found `{}` in params. Will use it instead of argument\".format(alias))\n"
     ]
    },
    {
     "name": "stdout",
     "output_type": "stream",
     "text": [
      "Training until validation scores don't improve for 500 rounds\n",
      "[100]\ttraining's auc: 0.724902\tvalid_1's auc: 0.638147\n",
      "[200]\ttraining's auc: 0.764054\tvalid_1's auc: 0.64479\n",
      "[300]\ttraining's auc: 0.797919\tvalid_1's auc: 0.640798\n",
      "[400]\ttraining's auc: 0.820209\tvalid_1's auc: 0.643152\n",
      "[500]\ttraining's auc: 0.839573\tvalid_1's auc: 0.642167\n",
      "[600]\ttraining's auc: 0.852805\tvalid_1's auc: 0.641134\n",
      "[700]\ttraining's auc: 0.863211\tvalid_1's auc: 0.63734\n",
      "Early stopping, best iteration is:\n",
      "[277]\ttraining's auc: 0.787971\tvalid_1's auc: 0.646718\n",
      "fold n°4\n"
     ]
    },
    {
     "name": "stderr",
     "output_type": "stream",
     "text": [
      "c:\\python3\\lib\\site-packages\\lightgbm\\engine.py:148: UserWarning: Found `n_estimators` in params. Will use it instead of argument\n",
      "  warnings.warn(\"Found `{}` in params. Will use it instead of argument\".format(alias))\n"
     ]
    },
    {
     "name": "stdout",
     "output_type": "stream",
     "text": [
      "Training until validation scores don't improve for 500 rounds\n",
      "[100]\ttraining's auc: 0.740387\tvalid_1's auc: 0.598172\n",
      "[200]\ttraining's auc: 0.773344\tvalid_1's auc: 0.596977\n",
      "[300]\ttraining's auc: 0.802405\tvalid_1's auc: 0.601474\n",
      "[400]\ttraining's auc: 0.823345\tvalid_1's auc: 0.603051\n",
      "[500]\ttraining's auc: 0.840471\tvalid_1's auc: 0.59645\n",
      "Early stopping, best iteration is:\n",
      "[40]\ttraining's auc: 0.690083\tvalid_1's auc: 0.613425\n",
      "| \u001b[0m 16      \u001b[0m | \u001b[0m 0.6124  \u001b[0m | \u001b[0m 0.9996  \u001b[0m | \u001b[0m 0.8975  \u001b[0m | \u001b[0m 0.4439  \u001b[0m | \u001b[0m 0.02915 \u001b[0m | \u001b[0m 9.87    \u001b[0m | \u001b[0m 54.19   \u001b[0m | \u001b[0m 5.525   \u001b[0m |\n",
      "fold n°0\n"
     ]
    },
    {
     "name": "stderr",
     "output_type": "stream",
     "text": [
      "c:\\python3\\lib\\site-packages\\lightgbm\\engine.py:148: UserWarning: Found `n_estimators` in params. Will use it instead of argument\n",
      "  warnings.warn(\"Found `{}` in params. Will use it instead of argument\".format(alias))\n"
     ]
    },
    {
     "name": "stdout",
     "output_type": "stream",
     "text": [
      "Training until validation scores don't improve for 500 rounds\n",
      "[100]\ttraining's auc: 0.811285\tvalid_1's auc: 0.60848\n",
      "[200]\ttraining's auc: 0.865577\tvalid_1's auc: 0.598342\n",
      "[300]\ttraining's auc: 0.892352\tvalid_1's auc: 0.593253\n",
      "[400]\ttraining's auc: 0.908961\tvalid_1's auc: 0.583753\n",
      "[500]\ttraining's auc: 0.917614\tvalid_1's auc: 0.582545\n",
      "Early stopping, best iteration is:\n",
      "[90]\ttraining's auc: 0.804896\tvalid_1's auc: 0.611747\n",
      "fold n°1\n"
     ]
    },
    {
     "name": "stderr",
     "output_type": "stream",
     "text": [
      "c:\\python3\\lib\\site-packages\\lightgbm\\engine.py:148: UserWarning: Found `n_estimators` in params. Will use it instead of argument\n",
      "  warnings.warn(\"Found `{}` in params. Will use it instead of argument\".format(alias))\n"
     ]
    },
    {
     "name": "stdout",
     "output_type": "stream",
     "text": [
      "Training until validation scores don't improve for 500 rounds\n",
      "[100]\ttraining's auc: 0.817503\tvalid_1's auc: 0.572804\n",
      "[200]\ttraining's auc: 0.865901\tvalid_1's auc: 0.571329\n",
      "[300]\ttraining's auc: 0.890987\tvalid_1's auc: 0.571164\n",
      "[400]\ttraining's auc: 0.906892\tvalid_1's auc: 0.569219\n",
      "[500]\ttraining's auc: 0.914671\tvalid_1's auc: 0.565195\n",
      "Early stopping, best iteration is:\n",
      "[9]\ttraining's auc: 0.707778\tvalid_1's auc: 0.594781\n",
      "fold n°2\n"
     ]
    },
    {
     "name": "stderr",
     "output_type": "stream",
     "text": [
      "c:\\python3\\lib\\site-packages\\lightgbm\\engine.py:148: UserWarning: Found `n_estimators` in params. Will use it instead of argument\n",
      "  warnings.warn(\"Found `{}` in params. Will use it instead of argument\".format(alias))\n"
     ]
    },
    {
     "name": "stdout",
     "output_type": "stream",
     "text": [
      "Training until validation scores don't improve for 500 rounds\n",
      "[100]\ttraining's auc: 0.812293\tvalid_1's auc: 0.605574\n",
      "[200]\ttraining's auc: 0.858357\tvalid_1's auc: 0.61415\n",
      "[300]\ttraining's auc: 0.884379\tvalid_1's auc: 0.618286\n",
      "[400]\ttraining's auc: 0.900514\tvalid_1's auc: 0.613431\n",
      "[500]\ttraining's auc: 0.908604\tvalid_1's auc: 0.609833\n",
      "[600]\ttraining's auc: 0.917206\tvalid_1's auc: 0.609997\n",
      "[700]\ttraining's auc: 0.922702\tvalid_1's auc: 0.609217\n",
      "[800]\ttraining's auc: 0.927814\tvalid_1's auc: 0.610057\n",
      "Early stopping, best iteration is:\n",
      "[307]\ttraining's auc: 0.885616\tvalid_1's auc: 0.619241\n",
      "fold n°3\n"
     ]
    },
    {
     "name": "stderr",
     "output_type": "stream",
     "text": [
      "c:\\python3\\lib\\site-packages\\lightgbm\\engine.py:148: UserWarning: Found `n_estimators` in params. Will use it instead of argument\n",
      "  warnings.warn(\"Found `{}` in params. Will use it instead of argument\".format(alias))\n"
     ]
    },
    {
     "name": "stdout",
     "output_type": "stream",
     "text": [
      "Training until validation scores don't improve for 500 rounds\n",
      "[100]\ttraining's auc: 0.81354\tvalid_1's auc: 0.651248\n",
      "[200]\ttraining's auc: 0.872019\tvalid_1's auc: 0.642866\n",
      "[300]\ttraining's auc: 0.897913\tvalid_1's auc: 0.634369\n",
      "[400]\ttraining's auc: 0.911379\tvalid_1's auc: 0.629376\n",
      "[500]\ttraining's auc: 0.920232\tvalid_1's auc: 0.62515\n",
      "Early stopping, best iteration is:\n",
      "[27]\ttraining's auc: 0.734939\tvalid_1's auc: 0.66086\n",
      "fold n°4\n"
     ]
    },
    {
     "name": "stderr",
     "output_type": "stream",
     "text": [
      "c:\\python3\\lib\\site-packages\\lightgbm\\engine.py:148: UserWarning: Found `n_estimators` in params. Will use it instead of argument\n",
      "  warnings.warn(\"Found `{}` in params. Will use it instead of argument\".format(alias))\n"
     ]
    },
    {
     "name": "stdout",
     "output_type": "stream",
     "text": [
      "Training until validation scores don't improve for 500 rounds\n",
      "[100]\ttraining's auc: 0.822848\tvalid_1's auc: 0.608306\n",
      "[200]\ttraining's auc: 0.873484\tvalid_1's auc: 0.606077\n",
      "[300]\ttraining's auc: 0.897002\tvalid_1's auc: 0.598587\n",
      "[400]\ttraining's auc: 0.911988\tvalid_1's auc: 0.595754\n",
      "[500]\ttraining's auc: 0.920766\tvalid_1's auc: 0.592968\n",
      "[600]\ttraining's auc: 0.927125\tvalid_1's auc: 0.588634\n",
      "Early stopping, best iteration is:\n",
      "[116]\ttraining's auc: 0.833761\tvalid_1's auc: 0.610668\n",
      "| \u001b[0m 17      \u001b[0m | \u001b[0m 0.6138  \u001b[0m | \u001b[0m 0.8498  \u001b[0m | \u001b[0m 0.7934  \u001b[0m | \u001b[0m 5.749   \u001b[0m | \u001b[0m 0.02309 \u001b[0m | \u001b[0m 9.696   \u001b[0m | \u001b[0m 37.38   \u001b[0m | \u001b[0m 98.42   \u001b[0m |\n",
      "fold n°0\n"
     ]
    },
    {
     "name": "stderr",
     "output_type": "stream",
     "text": [
      "c:\\python3\\lib\\site-packages\\lightgbm\\engine.py:148: UserWarning: Found `n_estimators` in params. Will use it instead of argument\n",
      "  warnings.warn(\"Found `{}` in params. Will use it instead of argument\".format(alias))\n"
     ]
    },
    {
     "name": "stdout",
     "output_type": "stream",
     "text": [
      "Training until validation scores don't improve for 500 rounds\n",
      "[100]\ttraining's auc: 0.77644\tvalid_1's auc: 0.598633\n",
      "[200]\ttraining's auc: 0.829504\tvalid_1's auc: 0.600816\n",
      "[300]\ttraining's auc: 0.863476\tvalid_1's auc: 0.592553\n",
      "[400]\ttraining's auc: 0.885165\tvalid_1's auc: 0.587758\n",
      "[500]\ttraining's auc: 0.899717\tvalid_1's auc: 0.583538\n",
      "Early stopping, best iteration is:\n",
      "[38]\ttraining's auc: 0.724846\tvalid_1's auc: 0.613413\n",
      "fold n°1\n"
     ]
    },
    {
     "name": "stderr",
     "output_type": "stream",
     "text": [
      "c:\\python3\\lib\\site-packages\\lightgbm\\engine.py:148: UserWarning: Found `n_estimators` in params. Will use it instead of argument\n",
      "  warnings.warn(\"Found `{}` in params. Will use it instead of argument\".format(alias))\n"
     ]
    },
    {
     "name": "stdout",
     "output_type": "stream",
     "text": [
      "Training until validation scores don't improve for 500 rounds\n",
      "[100]\ttraining's auc: 0.784248\tvalid_1's auc: 0.584079\n",
      "[200]\ttraining's auc: 0.83938\tvalid_1's auc: 0.577182\n",
      "[300]\ttraining's auc: 0.866434\tvalid_1's auc: 0.580698\n",
      "[400]\ttraining's auc: 0.885115\tvalid_1's auc: 0.582188\n",
      "[500]\ttraining's auc: 0.899284\tvalid_1's auc: 0.581449\n",
      "Early stopping, best iteration is:\n",
      "[73]\ttraining's auc: 0.763424\tvalid_1's auc: 0.589966\n",
      "fold n°2\n"
     ]
    },
    {
     "name": "stderr",
     "output_type": "stream",
     "text": [
      "c:\\python3\\lib\\site-packages\\lightgbm\\engine.py:148: UserWarning: Found `n_estimators` in params. Will use it instead of argument\n",
      "  warnings.warn(\"Found `{}` in params. Will use it instead of argument\".format(alias))\n"
     ]
    },
    {
     "name": "stdout",
     "output_type": "stream",
     "text": [
      "Training until validation scores don't improve for 500 rounds\n",
      "[100]\ttraining's auc: 0.779909\tvalid_1's auc: 0.606618\n",
      "[200]\ttraining's auc: 0.827698\tvalid_1's auc: 0.603002\n",
      "[300]\ttraining's auc: 0.855972\tvalid_1's auc: 0.605147\n",
      "[400]\ttraining's auc: 0.875475\tvalid_1's auc: 0.611251\n",
      "[500]\ttraining's auc: 0.891232\tvalid_1's auc: 0.607956\n",
      "[600]\ttraining's auc: 0.902311\tvalid_1's auc: 0.610385\n",
      "[700]\ttraining's auc: 0.911204\tvalid_1's auc: 0.611389\n",
      "[800]\ttraining's auc: 0.918486\tvalid_1's auc: 0.611913\n",
      "[900]\ttraining's auc: 0.924414\tvalid_1's auc: 0.613864\n",
      "[1000]\ttraining's auc: 0.929922\tvalid_1's auc: 0.612318\n",
      "[1100]\ttraining's auc: 0.933272\tvalid_1's auc: 0.614866\n",
      "[1200]\ttraining's auc: 0.936778\tvalid_1's auc: 0.614776\n",
      "Early stopping, best iteration is:\n",
      "[746]\ttraining's auc: 0.914706\tvalid_1's auc: 0.61805\n",
      "fold n°3\n"
     ]
    },
    {
     "name": "stderr",
     "output_type": "stream",
     "text": [
      "c:\\python3\\lib\\site-packages\\lightgbm\\engine.py:148: UserWarning: Found `n_estimators` in params. Will use it instead of argument\n",
      "  warnings.warn(\"Found `{}` in params. Will use it instead of argument\".format(alias))\n"
     ]
    },
    {
     "name": "stdout",
     "output_type": "stream",
     "text": [
      "Training until validation scores don't improve for 500 rounds\n",
      "[100]\ttraining's auc: 0.77405\tvalid_1's auc: 0.648348\n",
      "[200]\ttraining's auc: 0.838354\tvalid_1's auc: 0.654766\n",
      "[300]\ttraining's auc: 0.866528\tvalid_1's auc: 0.641355\n",
      "[400]\ttraining's auc: 0.884831\tvalid_1's auc: 0.631762\n",
      "[500]\ttraining's auc: 0.899092\tvalid_1's auc: 0.629358\n",
      "Early stopping, best iteration is:\n",
      "[41]\ttraining's auc: 0.718154\tvalid_1's auc: 0.659943\n",
      "fold n°4\n"
     ]
    },
    {
     "name": "stderr",
     "output_type": "stream",
     "text": [
      "c:\\python3\\lib\\site-packages\\lightgbm\\engine.py:148: UserWarning: Found `n_estimators` in params. Will use it instead of argument\n",
      "  warnings.warn(\"Found `{}` in params. Will use it instead of argument\".format(alias))\n"
     ]
    },
    {
     "name": "stdout",
     "output_type": "stream",
     "text": [
      "Training until validation scores don't improve for 500 rounds\n",
      "[100]\ttraining's auc: 0.786835\tvalid_1's auc: 0.631035\n",
      "[200]\ttraining's auc: 0.836188\tvalid_1's auc: 0.618216\n",
      "[300]\ttraining's auc: 0.866979\tvalid_1's auc: 0.608164\n",
      "[400]\ttraining's auc: 0.887547\tvalid_1's auc: 0.601129\n",
      "[500]\ttraining's auc: 0.901506\tvalid_1's auc: 0.599877\n",
      "Early stopping, best iteration is:\n",
      "[95]\ttraining's auc: 0.783867\tvalid_1's auc: 0.631828\n",
      "| \u001b[0m 18      \u001b[0m | \u001b[0m 0.6131  \u001b[0m | \u001b[0m 0.7104  \u001b[0m | \u001b[0m 0.95    \u001b[0m | \u001b[0m 2.321   \u001b[0m | \u001b[0m 0.03126 \u001b[0m | \u001b[0m 9.658   \u001b[0m | \u001b[0m 147.6   \u001b[0m | \u001b[0m 9.954   \u001b[0m |\n",
      "fold n°0\n"
     ]
    },
    {
     "name": "stderr",
     "output_type": "stream",
     "text": [
      "c:\\python3\\lib\\site-packages\\lightgbm\\engine.py:148: UserWarning: Found `n_estimators` in params. Will use it instead of argument\n",
      "  warnings.warn(\"Found `{}` in params. Will use it instead of argument\".format(alias))\n"
     ]
    },
    {
     "name": "stdout",
     "output_type": "stream",
     "text": [
      "Training until validation scores don't improve for 500 rounds\n",
      "[100]\ttraining's auc: 0.934825\tvalid_1's auc: 0.604343\n",
      "[200]\ttraining's auc: 0.958168\tvalid_1's auc: 0.58859\n",
      "[300]\ttraining's auc: 0.968161\tvalid_1's auc: 0.587144\n",
      "[400]\ttraining's auc: 0.975437\tvalid_1's auc: 0.585442\n",
      "[500]\ttraining's auc: 0.978748\tvalid_1's auc: 0.586418\n",
      "Early stopping, best iteration is:\n",
      "[6]\ttraining's auc: 0.7217\tvalid_1's auc: 0.631081\n",
      "fold n°1\n"
     ]
    },
    {
     "name": "stderr",
     "output_type": "stream",
     "text": [
      "c:\\python3\\lib\\site-packages\\lightgbm\\engine.py:148: UserWarning: Found `n_estimators` in params. Will use it instead of argument\n",
      "  warnings.warn(\"Found `{}` in params. Will use it instead of argument\".format(alias))\n"
     ]
    },
    {
     "name": "stdout",
     "output_type": "stream",
     "text": [
      "Training until validation scores don't improve for 500 rounds\n",
      "[100]\ttraining's auc: 0.932764\tvalid_1's auc: 0.596395\n",
      "[200]\ttraining's auc: 0.955065\tvalid_1's auc: 0.585469\n",
      "[300]\ttraining's auc: 0.967666\tvalid_1's auc: 0.584465\n",
      "[400]\ttraining's auc: 0.973658\tvalid_1's auc: 0.584435\n",
      "[500]\ttraining's auc: 0.977762\tvalid_1's auc: 0.578824\n",
      "Early stopping, best iteration is:\n",
      "[76]\ttraining's auc: 0.923612\tvalid_1's auc: 0.604128\n",
      "fold n°2\n"
     ]
    },
    {
     "name": "stderr",
     "output_type": "stream",
     "text": [
      "c:\\python3\\lib\\site-packages\\lightgbm\\engine.py:148: UserWarning: Found `n_estimators` in params. Will use it instead of argument\n",
      "  warnings.warn(\"Found `{}` in params. Will use it instead of argument\".format(alias))\n"
     ]
    },
    {
     "name": "stdout",
     "output_type": "stream",
     "text": [
      "Training until validation scores don't improve for 500 rounds\n",
      "[100]\ttraining's auc: 0.929251\tvalid_1's auc: 0.632627\n",
      "[200]\ttraining's auc: 0.954922\tvalid_1's auc: 0.649357\n",
      "[300]\ttraining's auc: 0.968051\tvalid_1's auc: 0.650378\n",
      "[400]\ttraining's auc: 0.974302\tvalid_1's auc: 0.647525\n",
      "[500]\ttraining's auc: 0.978097\tvalid_1's auc: 0.645679\n",
      "[600]\ttraining's auc: 0.981394\tvalid_1's auc: 0.644432\n",
      "[700]\ttraining's auc: 0.983243\tvalid_1's auc: 0.641908\n",
      "Early stopping, best iteration is:\n",
      "[293]\ttraining's auc: 0.967583\tvalid_1's auc: 0.651782\n",
      "fold n°3\n"
     ]
    },
    {
     "name": "stderr",
     "output_type": "stream",
     "text": [
      "c:\\python3\\lib\\site-packages\\lightgbm\\engine.py:148: UserWarning: Found `n_estimators` in params. Will use it instead of argument\n",
      "  warnings.warn(\"Found `{}` in params. Will use it instead of argument\".format(alias))\n"
     ]
    },
    {
     "name": "stdout",
     "output_type": "stream",
     "text": [
      "Training until validation scores don't improve for 500 rounds\n",
      "[100]\ttraining's auc: 0.937669\tvalid_1's auc: 0.642547\n",
      "[200]\ttraining's auc: 0.956986\tvalid_1's auc: 0.632782\n",
      "[300]\ttraining's auc: 0.968399\tvalid_1's auc: 0.623174\n",
      "[400]\ttraining's auc: 0.973783\tvalid_1's auc: 0.615011\n",
      "[500]\ttraining's auc: 0.977515\tvalid_1's auc: 0.611653\n",
      "Early stopping, best iteration is:\n",
      "[54]\ttraining's auc: 0.898929\tvalid_1's auc: 0.659114\n",
      "fold n°4\n"
     ]
    },
    {
     "name": "stderr",
     "output_type": "stream",
     "text": [
      "c:\\python3\\lib\\site-packages\\lightgbm\\engine.py:148: UserWarning: Found `n_estimators` in params. Will use it instead of argument\n",
      "  warnings.warn(\"Found `{}` in params. Will use it instead of argument\".format(alias))\n"
     ]
    },
    {
     "name": "stdout",
     "output_type": "stream",
     "text": [
      "Training until validation scores don't improve for 500 rounds\n",
      "[100]\ttraining's auc: 0.938738\tvalid_1's auc: 0.578727\n",
      "[200]\ttraining's auc: 0.959009\tvalid_1's auc: 0.568898\n",
      "[300]\ttraining's auc: 0.969339\tvalid_1's auc: 0.56296\n",
      "[400]\ttraining's auc: 0.974143\tvalid_1's auc: 0.556569\n",
      "[500]\ttraining's auc: 0.977357\tvalid_1's auc: 0.55565\n",
      "Early stopping, best iteration is:\n",
      "[65]\ttraining's auc: 0.925234\tvalid_1's auc: 0.587762\n",
      "| \u001b[0m 19      \u001b[0m | \u001b[0m 0.6142  \u001b[0m | \u001b[0m 0.8159  \u001b[0m | \u001b[0m 0.7102  \u001b[0m | \u001b[0m 0.287   \u001b[0m | \u001b[0m 0.04177 \u001b[0m | \u001b[0m 9.811   \u001b[0m | \u001b[0m 18.63   \u001b[0m | \u001b[0m 23.47   \u001b[0m |\n",
      "fold n°0\n"
     ]
    },
    {
     "name": "stderr",
     "output_type": "stream",
     "text": [
      "c:\\python3\\lib\\site-packages\\lightgbm\\engine.py:148: UserWarning: Found `n_estimators` in params. Will use it instead of argument\n",
      "  warnings.warn(\"Found `{}` in params. Will use it instead of argument\".format(alias))\n"
     ]
    },
    {
     "name": "stdout",
     "output_type": "stream",
     "text": [
      "Training until validation scores don't improve for 500 rounds\n",
      "[100]\ttraining's auc: 0.717178\tvalid_1's auc: 0.610922\n",
      "[200]\ttraining's auc: 0.755889\tvalid_1's auc: 0.604934\n",
      "[300]\ttraining's auc: 0.786424\tvalid_1's auc: 0.606316\n",
      "[400]\ttraining's auc: 0.810709\tvalid_1's auc: 0.60315\n",
      "[500]\ttraining's auc: 0.827502\tvalid_1's auc: 0.605897\n",
      "Early stopping, best iteration is:\n",
      "[9]\ttraining's auc: 0.638922\tvalid_1's auc: 0.622325\n",
      "fold n°1\n"
     ]
    },
    {
     "name": "stderr",
     "output_type": "stream",
     "text": [
      "c:\\python3\\lib\\site-packages\\lightgbm\\engine.py:148: UserWarning: Found `n_estimators` in params. Will use it instead of argument\n",
      "  warnings.warn(\"Found `{}` in params. Will use it instead of argument\".format(alias))\n"
     ]
    },
    {
     "name": "stdout",
     "output_type": "stream",
     "text": [
      "Training until validation scores don't improve for 500 rounds\n",
      "[100]\ttraining's auc: 0.729521\tvalid_1's auc: 0.566831\n",
      "[200]\ttraining's auc: 0.769574\tvalid_1's auc: 0.577357\n",
      "[300]\ttraining's auc: 0.797698\tvalid_1's auc: 0.576876\n",
      "[400]\ttraining's auc: 0.818468\tvalid_1's auc: 0.57639\n",
      "[500]\ttraining's auc: 0.833943\tvalid_1's auc: 0.576549\n",
      "[600]\ttraining's auc: 0.844891\tvalid_1's auc: 0.575215\n",
      "[700]\ttraining's auc: 0.854669\tvalid_1's auc: 0.574747\n",
      "[800]\ttraining's auc: 0.863441\tvalid_1's auc: 0.572276\n",
      "Early stopping, best iteration is:\n",
      "[317]\ttraining's auc: 0.80153\tvalid_1's auc: 0.58037\n",
      "fold n°2\n"
     ]
    },
    {
     "name": "stderr",
     "output_type": "stream",
     "text": [
      "c:\\python3\\lib\\site-packages\\lightgbm\\engine.py:148: UserWarning: Found `n_estimators` in params. Will use it instead of argument\n",
      "  warnings.warn(\"Found `{}` in params. Will use it instead of argument\".format(alias))\n"
     ]
    },
    {
     "name": "stdout",
     "output_type": "stream",
     "text": [
      "Training until validation scores don't improve for 500 rounds\n",
      "[100]\ttraining's auc: 0.721085\tvalid_1's auc: 0.594244\n",
      "[200]\ttraining's auc: 0.760071\tvalid_1's auc: 0.596035\n",
      "[300]\ttraining's auc: 0.785503\tvalid_1's auc: 0.59418\n",
      "[400]\ttraining's auc: 0.805855\tvalid_1's auc: 0.591679\n",
      "[500]\ttraining's auc: 0.820332\tvalid_1's auc: 0.591461\n",
      "[600]\ttraining's auc: 0.831405\tvalid_1's auc: 0.59569\n",
      "Early stopping, best iteration is:\n",
      "[189]\ttraining's auc: 0.757274\tvalid_1's auc: 0.598146\n",
      "fold n°3\n"
     ]
    },
    {
     "name": "stderr",
     "output_type": "stream",
     "text": [
      "c:\\python3\\lib\\site-packages\\lightgbm\\engine.py:148: UserWarning: Found `n_estimators` in params. Will use it instead of argument\n",
      "  warnings.warn(\"Found `{}` in params. Will use it instead of argument\".format(alias))\n"
     ]
    },
    {
     "name": "stdout",
     "output_type": "stream",
     "text": [
      "Training until validation scores don't improve for 500 rounds\n",
      "[100]\ttraining's auc: 0.714758\tvalid_1's auc: 0.644533\n",
      "[200]\ttraining's auc: 0.753306\tvalid_1's auc: 0.64462\n",
      "[300]\ttraining's auc: 0.786868\tvalid_1's auc: 0.645401\n",
      "[400]\ttraining's auc: 0.813057\tvalid_1's auc: 0.644054\n",
      "[500]\ttraining's auc: 0.832372\tvalid_1's auc: 0.638634\n",
      "Early stopping, best iteration is:\n",
      "[73]\ttraining's auc: 0.700843\tvalid_1's auc: 0.64914\n",
      "fold n°4\n"
     ]
    },
    {
     "name": "stderr",
     "output_type": "stream",
     "text": [
      "c:\\python3\\lib\\site-packages\\lightgbm\\engine.py:148: UserWarning: Found `n_estimators` in params. Will use it instead of argument\n",
      "  warnings.warn(\"Found `{}` in params. Will use it instead of argument\".format(alias))\n"
     ]
    },
    {
     "name": "stdout",
     "output_type": "stream",
     "text": [
      "Training until validation scores don't improve for 500 rounds\n",
      "[100]\ttraining's auc: 0.74137\tvalid_1's auc: 0.606189\n",
      "[200]\ttraining's auc: 0.774005\tvalid_1's auc: 0.605342\n",
      "[300]\ttraining's auc: 0.798831\tvalid_1's auc: 0.609419\n",
      "[400]\ttraining's auc: 0.815333\tvalid_1's auc: 0.610814\n",
      "[500]\ttraining's auc: 0.830757\tvalid_1's auc: 0.602584\n",
      "[600]\ttraining's auc: 0.843622\tvalid_1's auc: 0.603304\n",
      "[700]\ttraining's auc: 0.855218\tvalid_1's auc: 0.599538\n",
      "[800]\ttraining's auc: 0.862364\tvalid_1's auc: 0.592175\n",
      "Early stopping, best iteration is:\n",
      "[329]\ttraining's auc: 0.802279\tvalid_1's auc: 0.611995\n",
      "| \u001b[0m 20      \u001b[0m | \u001b[0m 0.5984  \u001b[0m | \u001b[0m 0.9028  \u001b[0m | \u001b[0m 0.9918  \u001b[0m | \u001b[0m 3.292   \u001b[0m | \u001b[0m 0.03426 \u001b[0m | \u001b[0m 9.656   \u001b[0m | \u001b[0m 11.75   \u001b[0m | \u001b[0m 5.039   \u001b[0m |\n",
      "fold n°0\n"
     ]
    },
    {
     "name": "stderr",
     "output_type": "stream",
     "text": [
      "c:\\python3\\lib\\site-packages\\lightgbm\\engine.py:148: UserWarning: Found `n_estimators` in params. Will use it instead of argument\n",
      "  warnings.warn(\"Found `{}` in params. Will use it instead of argument\".format(alias))\n"
     ]
    },
    {
     "name": "stdout",
     "output_type": "stream",
     "text": [
      "Training until validation scores don't improve for 500 rounds\n",
      "[100]\ttraining's auc: 0.8441\tvalid_1's auc: 0.596979\n",
      "[200]\ttraining's auc: 0.890825\tvalid_1's auc: 0.592758\n",
      "[300]\ttraining's auc: 0.912115\tvalid_1's auc: 0.590771\n",
      "[400]\ttraining's auc: 0.930229\tvalid_1's auc: 0.583668\n",
      "[500]\ttraining's auc: 0.937767\tvalid_1's auc: 0.581583\n",
      "Early stopping, best iteration is:\n",
      "[7]\ttraining's auc: 0.696813\tvalid_1's auc: 0.608719\n",
      "fold n°1\n"
     ]
    },
    {
     "name": "stderr",
     "output_type": "stream",
     "text": [
      "c:\\python3\\lib\\site-packages\\lightgbm\\engine.py:148: UserWarning: Found `n_estimators` in params. Will use it instead of argument\n",
      "  warnings.warn(\"Found `{}` in params. Will use it instead of argument\".format(alias))\n"
     ]
    },
    {
     "name": "stdout",
     "output_type": "stream",
     "text": [
      "Training until validation scores don't improve for 500 rounds\n",
      "[100]\ttraining's auc: 0.845527\tvalid_1's auc: 0.596035\n",
      "[200]\ttraining's auc: 0.886727\tvalid_1's auc: 0.577686\n",
      "[300]\ttraining's auc: 0.912802\tvalid_1's auc: 0.577441\n",
      "[400]\ttraining's auc: 0.928465\tvalid_1's auc: 0.56976\n",
      "[500]\ttraining's auc: 0.937948\tvalid_1's auc: 0.566225\n",
      "Early stopping, best iteration is:\n",
      "[2]\ttraining's auc: 0.676531\tvalid_1's auc: 0.599934\n",
      "fold n°2\n"
     ]
    },
    {
     "name": "stderr",
     "output_type": "stream",
     "text": [
      "c:\\python3\\lib\\site-packages\\lightgbm\\engine.py:148: UserWarning: Found `n_estimators` in params. Will use it instead of argument\n",
      "  warnings.warn(\"Found `{}` in params. Will use it instead of argument\".format(alias))\n"
     ]
    },
    {
     "name": "stdout",
     "output_type": "stream",
     "text": [
      "Training until validation scores don't improve for 500 rounds\n",
      "[100]\ttraining's auc: 0.837679\tvalid_1's auc: 0.61187\n",
      "[200]\ttraining's auc: 0.883571\tvalid_1's auc: 0.602147\n",
      "[300]\ttraining's auc: 0.90517\tvalid_1's auc: 0.605726\n",
      "[400]\ttraining's auc: 0.919954\tvalid_1's auc: 0.602125\n",
      "[500]\ttraining's auc: 0.931699\tvalid_1's auc: 0.610609\n",
      "Early stopping, best iteration is:\n",
      "[61]\ttraining's auc: 0.806143\tvalid_1's auc: 0.617455\n",
      "fold n°3\n"
     ]
    },
    {
     "name": "stderr",
     "output_type": "stream",
     "text": [
      "c:\\python3\\lib\\site-packages\\lightgbm\\engine.py:148: UserWarning: Found `n_estimators` in params. Will use it instead of argument\n",
      "  warnings.warn(\"Found `{}` in params. Will use it instead of argument\".format(alias))\n"
     ]
    },
    {
     "name": "stdout",
     "output_type": "stream",
     "text": [
      "Training until validation scores don't improve for 500 rounds\n",
      "[100]\ttraining's auc: 0.839194\tvalid_1's auc: 0.642024\n",
      "[200]\ttraining's auc: 0.891748\tvalid_1's auc: 0.639678\n",
      "[300]\ttraining's auc: 0.914916\tvalid_1's auc: 0.627004\n",
      "[400]\ttraining's auc: 0.927934\tvalid_1's auc: 0.618819\n",
      "[500]\ttraining's auc: 0.938663\tvalid_1's auc: 0.605326\n",
      "Early stopping, best iteration is:\n",
      "[36]\ttraining's auc: 0.766367\tvalid_1's auc: 0.655119\n",
      "fold n°4\n"
     ]
    },
    {
     "name": "stderr",
     "output_type": "stream",
     "text": [
      "c:\\python3\\lib\\site-packages\\lightgbm\\engine.py:148: UserWarning: Found `n_estimators` in params. Will use it instead of argument\n",
      "  warnings.warn(\"Found `{}` in params. Will use it instead of argument\".format(alias))\n"
     ]
    },
    {
     "name": "stdout",
     "output_type": "stream",
     "text": [
      "Training until validation scores don't improve for 500 rounds\n",
      "[100]\ttraining's auc: 0.851505\tvalid_1's auc: 0.625014\n",
      "[200]\ttraining's auc: 0.889653\tvalid_1's auc: 0.609194\n",
      "[300]\ttraining's auc: 0.915793\tvalid_1's auc: 0.614144\n",
      "[400]\ttraining's auc: 0.932769\tvalid_1's auc: 0.608615\n",
      "[500]\ttraining's auc: 0.943075\tvalid_1's auc: 0.599708\n",
      "Early stopping, best iteration is:\n",
      "[32]\ttraining's auc: 0.779815\tvalid_1's auc: 0.628894\n",
      "| \u001b[0m 21      \u001b[0m | \u001b[0m 0.6158  \u001b[0m | \u001b[0m 0.7557  \u001b[0m | \u001b[0m 0.7339  \u001b[0m | \u001b[0m 0.08683 \u001b[0m | \u001b[0m 0.03409 \u001b[0m | \u001b[0m 4.334   \u001b[0m | \u001b[0m 33.44   \u001b[0m | \u001b[0m 25.58   \u001b[0m |\n",
      "fold n°0\n"
     ]
    },
    {
     "name": "stderr",
     "output_type": "stream",
     "text": [
      "c:\\python3\\lib\\site-packages\\lightgbm\\engine.py:148: UserWarning: Found `n_estimators` in params. Will use it instead of argument\n",
      "  warnings.warn(\"Found `{}` in params. Will use it instead of argument\".format(alias))\n"
     ]
    },
    {
     "name": "stdout",
     "output_type": "stream",
     "text": [
      "Training until validation scores don't improve for 500 rounds\n",
      "[100]\ttraining's auc: 0.746089\tvalid_1's auc: 0.619067\n",
      "[200]\ttraining's auc: 0.801316\tvalid_1's auc: 0.61967\n",
      "[300]\ttraining's auc: 0.838056\tvalid_1's auc: 0.606326\n",
      "[400]\ttraining's auc: 0.858909\tvalid_1's auc: 0.603666\n",
      "[500]\ttraining's auc: 0.875737\tvalid_1's auc: 0.595409\n",
      "Early stopping, best iteration is:\n",
      "[88]\ttraining's auc: 0.739354\tvalid_1's auc: 0.623544\n",
      "fold n°1\n"
     ]
    },
    {
     "name": "stderr",
     "output_type": "stream",
     "text": [
      "c:\\python3\\lib\\site-packages\\lightgbm\\engine.py:148: UserWarning: Found `n_estimators` in params. Will use it instead of argument\n",
      "  warnings.warn(\"Found `{}` in params. Will use it instead of argument\".format(alias))\n"
     ]
    },
    {
     "name": "stdout",
     "output_type": "stream",
     "text": [
      "Training until validation scores don't improve for 500 rounds\n",
      "[100]\ttraining's auc: 0.755572\tvalid_1's auc: 0.598213\n",
      "[200]\ttraining's auc: 0.806827\tvalid_1's auc: 0.589846\n",
      "[300]\ttraining's auc: 0.84232\tvalid_1's auc: 0.586563\n",
      "[400]\ttraining's auc: 0.865544\tvalid_1's auc: 0.58492\n",
      "[500]\ttraining's auc: 0.882482\tvalid_1's auc: 0.584132\n",
      "Early stopping, best iteration is:\n",
      "[96]\ttraining's auc: 0.751154\tvalid_1's auc: 0.600987\n",
      "fold n°2\n"
     ]
    },
    {
     "name": "stderr",
     "output_type": "stream",
     "text": [
      "c:\\python3\\lib\\site-packages\\lightgbm\\engine.py:148: UserWarning: Found `n_estimators` in params. Will use it instead of argument\n",
      "  warnings.warn(\"Found `{}` in params. Will use it instead of argument\".format(alias))\n"
     ]
    },
    {
     "name": "stdout",
     "output_type": "stream",
     "text": [
      "Training until validation scores don't improve for 500 rounds\n",
      "[100]\ttraining's auc: 0.747058\tvalid_1's auc: 0.593696\n",
      "[200]\ttraining's auc: 0.798099\tvalid_1's auc: 0.581035\n",
      "[300]\ttraining's auc: 0.828144\tvalid_1's auc: 0.581003\n",
      "[400]\ttraining's auc: 0.850531\tvalid_1's auc: 0.579787\n",
      "[500]\ttraining's auc: 0.867812\tvalid_1's auc: 0.583267\n",
      "Early stopping, best iteration is:\n",
      "[47]\ttraining's auc: 0.710913\tvalid_1's auc: 0.614411\n",
      "fold n°3\n"
     ]
    },
    {
     "name": "stderr",
     "output_type": "stream",
     "text": [
      "c:\\python3\\lib\\site-packages\\lightgbm\\engine.py:148: UserWarning: Found `n_estimators` in params. Will use it instead of argument\n",
      "  warnings.warn(\"Found `{}` in params. Will use it instead of argument\".format(alias))\n"
     ]
    },
    {
     "name": "stdout",
     "output_type": "stream",
     "text": [
      "Training until validation scores don't improve for 500 rounds\n",
      "[100]\ttraining's auc: 0.737251\tvalid_1's auc: 0.656442\n",
      "[200]\ttraining's auc: 0.800332\tvalid_1's auc: 0.659944\n",
      "[300]\ttraining's auc: 0.835482\tvalid_1's auc: 0.657552\n",
      "[400]\ttraining's auc: 0.857104\tvalid_1's auc: 0.645387\n",
      "[500]\ttraining's auc: 0.879573\tvalid_1's auc: 0.640295\n",
      "[600]\ttraining's auc: 0.888191\tvalid_1's auc: 0.630796\n",
      "Early stopping, best iteration is:\n",
      "[188]\ttraining's auc: 0.795601\tvalid_1's auc: 0.665749\n",
      "fold n°4\n"
     ]
    },
    {
     "name": "stderr",
     "output_type": "stream",
     "text": [
      "c:\\python3\\lib\\site-packages\\lightgbm\\engine.py:148: UserWarning: Found `n_estimators` in params. Will use it instead of argument\n",
      "  warnings.warn(\"Found `{}` in params. Will use it instead of argument\".format(alias))\n"
     ]
    },
    {
     "name": "stdout",
     "output_type": "stream",
     "text": [
      "Training until validation scores don't improve for 500 rounds\n",
      "[100]\ttraining's auc: 0.763533\tvalid_1's auc: 0.604985\n",
      "[200]\ttraining's auc: 0.80785\tvalid_1's auc: 0.597651\n",
      "[300]\ttraining's auc: 0.840882\tvalid_1's auc: 0.596831\n",
      "[400]\ttraining's auc: 0.861122\tvalid_1's auc: 0.588228\n",
      "[500]\ttraining's auc: 0.875267\tvalid_1's auc: 0.582705\n",
      "Early stopping, best iteration is:\n",
      "[4]\ttraining's auc: 0.639284\tvalid_1's auc: 0.620853\n",
      "| \u001b[0m 22      \u001b[0m | \u001b[0m 0.6184  \u001b[0m | \u001b[0m 0.7832  \u001b[0m | \u001b[0m 0.7572  \u001b[0m | \u001b[0m 0.03177 \u001b[0m | \u001b[0m 0.04195 \u001b[0m | \u001b[0m 7.291   \u001b[0m | \u001b[0m 114.1   \u001b[0m | \u001b[0m 5.342   \u001b[0m |\n",
      "fold n°0\n"
     ]
    },
    {
     "name": "stderr",
     "output_type": "stream",
     "text": [
      "c:\\python3\\lib\\site-packages\\lightgbm\\engine.py:148: UserWarning: Found `n_estimators` in params. Will use it instead of argument\n",
      "  warnings.warn(\"Found `{}` in params. Will use it instead of argument\".format(alias))\n"
     ]
    },
    {
     "name": "stdout",
     "output_type": "stream",
     "text": [
      "Training until validation scores don't improve for 500 rounds\n",
      "[100]\ttraining's auc: 0.907293\tvalid_1's auc: 0.599706\n",
      "[200]\ttraining's auc: 0.938831\tvalid_1's auc: 0.608597\n",
      "[300]\ttraining's auc: 0.951381\tvalid_1's auc: 0.587623\n",
      "[400]\ttraining's auc: 0.962907\tvalid_1's auc: 0.585303\n",
      "[500]\ttraining's auc: 0.968314\tvalid_1's auc: 0.577399\n",
      "Early stopping, best iteration is:\n",
      "[7]\ttraining's auc: 0.720981\tvalid_1's auc: 0.622196\n",
      "fold n°1\n"
     ]
    },
    {
     "name": "stderr",
     "output_type": "stream",
     "text": [
      "c:\\python3\\lib\\site-packages\\lightgbm\\engine.py:148: UserWarning: Found `n_estimators` in params. Will use it instead of argument\n",
      "  warnings.warn(\"Found `{}` in params. Will use it instead of argument\".format(alias))\n"
     ]
    },
    {
     "name": "stdout",
     "output_type": "stream",
     "text": [
      "Training until validation scores don't improve for 500 rounds\n",
      "[100]\ttraining's auc: 0.901945\tvalid_1's auc: 0.586832\n",
      "[200]\ttraining's auc: 0.936751\tvalid_1's auc: 0.58523\n",
      "[300]\ttraining's auc: 0.951596\tvalid_1's auc: 0.583538\n",
      "[400]\ttraining's auc: 0.960957\tvalid_1's auc: 0.582073\n",
      "[500]\ttraining's auc: 0.967839\tvalid_1's auc: 0.57669\n",
      "Early stopping, best iteration is:\n",
      "[56]\ttraining's auc: 0.870411\tvalid_1's auc: 0.602783\n",
      "fold n°2\n"
     ]
    },
    {
     "name": "stderr",
     "output_type": "stream",
     "text": [
      "c:\\python3\\lib\\site-packages\\lightgbm\\engine.py:148: UserWarning: Found `n_estimators` in params. Will use it instead of argument\n",
      "  warnings.warn(\"Found `{}` in params. Will use it instead of argument\".format(alias))\n"
     ]
    },
    {
     "name": "stdout",
     "output_type": "stream",
     "text": [
      "Training until validation scores don't improve for 500 rounds\n",
      "[100]\ttraining's auc: 0.902197\tvalid_1's auc: 0.60754\n",
      "[200]\ttraining's auc: 0.932933\tvalid_1's auc: 0.61261\n",
      "[300]\ttraining's auc: 0.948545\tvalid_1's auc: 0.615212\n",
      "[400]\ttraining's auc: 0.959\tvalid_1's auc: 0.62442\n",
      "[500]\ttraining's auc: 0.966979\tvalid_1's auc: 0.629837\n",
      "[600]\ttraining's auc: 0.972528\tvalid_1's auc: 0.633613\n",
      "[700]\ttraining's auc: 0.975916\tvalid_1's auc: 0.636865\n",
      "[800]\ttraining's auc: 0.978734\tvalid_1's auc: 0.638822\n",
      "[900]\ttraining's auc: 0.980679\tvalid_1's auc: 0.637932\n",
      "[1000]\ttraining's auc: 0.982382\tvalid_1's auc: 0.638889\n",
      "[1100]\ttraining's auc: 0.983774\tvalid_1's auc: 0.634441\n",
      "[1200]\ttraining's auc: 0.985023\tvalid_1's auc: 0.634254\n",
      "[1300]\ttraining's auc: 0.986193\tvalid_1's auc: 0.631491\n",
      "Early stopping, best iteration is:\n",
      "[836]\ttraining's auc: 0.97972\tvalid_1's auc: 0.641212\n",
      "fold n°3\n"
     ]
    },
    {
     "name": "stderr",
     "output_type": "stream",
     "text": [
      "c:\\python3\\lib\\site-packages\\lightgbm\\engine.py:148: UserWarning: Found `n_estimators` in params. Will use it instead of argument\n",
      "  warnings.warn(\"Found `{}` in params. Will use it instead of argument\".format(alias))\n"
     ]
    },
    {
     "name": "stdout",
     "output_type": "stream",
     "text": [
      "Training until validation scores don't improve for 500 rounds\n",
      "[100]\ttraining's auc: 0.892756\tvalid_1's auc: 0.641509\n",
      "[200]\ttraining's auc: 0.932959\tvalid_1's auc: 0.63387\n",
      "[300]\ttraining's auc: 0.952263\tvalid_1's auc: 0.615649\n",
      "[400]\ttraining's auc: 0.959727\tvalid_1's auc: 0.618855\n",
      "[500]\ttraining's auc: 0.965174\tvalid_1's auc: 0.609962\n",
      "Early stopping, best iteration is:\n",
      "[31]\ttraining's auc: 0.82319\tvalid_1's auc: 0.650814\n",
      "fold n°4\n"
     ]
    },
    {
     "name": "stderr",
     "output_type": "stream",
     "text": [
      "c:\\python3\\lib\\site-packages\\lightgbm\\engine.py:148: UserWarning: Found `n_estimators` in params. Will use it instead of argument\n",
      "  warnings.warn(\"Found `{}` in params. Will use it instead of argument\".format(alias))\n"
     ]
    },
    {
     "name": "stdout",
     "output_type": "stream",
     "text": [
      "Training until validation scores don't improve for 500 rounds\n",
      "[100]\ttraining's auc: 0.908404\tvalid_1's auc: 0.619379\n",
      "[200]\ttraining's auc: 0.940027\tvalid_1's auc: 0.613103\n",
      "[300]\ttraining's auc: 0.954734\tvalid_1's auc: 0.607431\n",
      "[400]\ttraining's auc: 0.96301\tvalid_1's auc: 0.588052\n",
      "[500]\ttraining's auc: 0.968204\tvalid_1's auc: 0.576384\n",
      "Early stopping, best iteration is:\n",
      "[7]\ttraining's auc: 0.752483\tvalid_1's auc: 0.646177\n",
      "| \u001b[0m 23      \u001b[0m | \u001b[0m 0.6124  \u001b[0m | \u001b[0m 0.7475  \u001b[0m | \u001b[0m 0.9069  \u001b[0m | \u001b[0m 0.03952 \u001b[0m | \u001b[0m 0.03294 \u001b[0m | \u001b[0m 5.924   \u001b[0m | \u001b[0m 16.82   \u001b[0m | \u001b[0m 57.7    \u001b[0m |\n",
      "fold n°0\n"
     ]
    },
    {
     "name": "stderr",
     "output_type": "stream",
     "text": [
      "c:\\python3\\lib\\site-packages\\lightgbm\\engine.py:148: UserWarning: Found `n_estimators` in params. Will use it instead of argument\n",
      "  warnings.warn(\"Found `{}` in params. Will use it instead of argument\".format(alias))\n"
     ]
    },
    {
     "name": "stdout",
     "output_type": "stream",
     "text": [
      "Training until validation scores don't improve for 500 rounds\n",
      "[100]\ttraining's auc: 0.831287\tvalid_1's auc: 0.620503\n",
      "[200]\ttraining's auc: 0.883233\tvalid_1's auc: 0.61217\n",
      "[300]\ttraining's auc: 0.913337\tvalid_1's auc: 0.59818\n",
      "[400]\ttraining's auc: 0.926467\tvalid_1's auc: 0.591106\n",
      "[500]\ttraining's auc: 0.934285\tvalid_1's auc: 0.584923\n",
      "Early stopping, best iteration is:\n",
      "[46]\ttraining's auc: 0.773829\tvalid_1's auc: 0.630944\n",
      "fold n°1\n"
     ]
    },
    {
     "name": "stderr",
     "output_type": "stream",
     "text": [
      "c:\\python3\\lib\\site-packages\\lightgbm\\engine.py:148: UserWarning: Found `n_estimators` in params. Will use it instead of argument\n",
      "  warnings.warn(\"Found `{}` in params. Will use it instead of argument\".format(alias))\n"
     ]
    },
    {
     "name": "stdout",
     "output_type": "stream",
     "text": [
      "Training until validation scores don't improve for 500 rounds\n",
      "[100]\ttraining's auc: 0.841907\tvalid_1's auc: 0.606718\n",
      "[200]\ttraining's auc: 0.889178\tvalid_1's auc: 0.596652\n",
      "[300]\ttraining's auc: 0.911493\tvalid_1's auc: 0.592958\n",
      "[400]\ttraining's auc: 0.923567\tvalid_1's auc: 0.590738\n",
      "[500]\ttraining's auc: 0.932289\tvalid_1's auc: 0.590157\n",
      "[600]\ttraining's auc: 0.9394\tvalid_1's auc: 0.592341\n",
      "Early stopping, best iteration is:\n",
      "[113]\ttraining's auc: 0.850276\tvalid_1's auc: 0.610936\n",
      "fold n°2\n"
     ]
    },
    {
     "name": "stderr",
     "output_type": "stream",
     "text": [
      "c:\\python3\\lib\\site-packages\\lightgbm\\engine.py:148: UserWarning: Found `n_estimators` in params. Will use it instead of argument\n",
      "  warnings.warn(\"Found `{}` in params. Will use it instead of argument\".format(alias))\n"
     ]
    },
    {
     "name": "stdout",
     "output_type": "stream",
     "text": [
      "Training until validation scores don't improve for 500 rounds\n",
      "[100]\ttraining's auc: 0.830303\tvalid_1's auc: 0.600348\n",
      "[200]\ttraining's auc: 0.881622\tvalid_1's auc: 0.586235\n",
      "[300]\ttraining's auc: 0.902875\tvalid_1's auc: 0.586453\n",
      "[400]\ttraining's auc: 0.919626\tvalid_1's auc: 0.595145\n",
      "[500]\ttraining's auc: 0.930066\tvalid_1's auc: 0.599059\n",
      "Early stopping, best iteration is:\n",
      "[62]\ttraining's auc: 0.787414\tvalid_1's auc: 0.608101\n",
      "fold n°3\n"
     ]
    },
    {
     "name": "stderr",
     "output_type": "stream",
     "text": [
      "c:\\python3\\lib\\site-packages\\lightgbm\\engine.py:148: UserWarning: Found `n_estimators` in params. Will use it instead of argument\n",
      "  warnings.warn(\"Found `{}` in params. Will use it instead of argument\".format(alias))\n"
     ]
    },
    {
     "name": "stdout",
     "output_type": "stream",
     "text": [
      "Training until validation scores don't improve for 500 rounds\n",
      "[100]\ttraining's auc: 0.826873\tvalid_1's auc: 0.65232\n",
      "[200]\ttraining's auc: 0.880132\tvalid_1's auc: 0.640801\n",
      "[300]\ttraining's auc: 0.909937\tvalid_1's auc: 0.636606\n",
      "[400]\ttraining's auc: 0.925911\tvalid_1's auc: 0.624965\n",
      "[500]\ttraining's auc: 0.936744\tvalid_1's auc: 0.617335\n",
      "Early stopping, best iteration is:\n",
      "[66]\ttraining's auc: 0.792242\tvalid_1's auc: 0.665203\n",
      "fold n°4\n"
     ]
    },
    {
     "name": "stderr",
     "output_type": "stream",
     "text": [
      "c:\\python3\\lib\\site-packages\\lightgbm\\engine.py:148: UserWarning: Found `n_estimators` in params. Will use it instead of argument\n",
      "  warnings.warn(\"Found `{}` in params. Will use it instead of argument\".format(alias))\n"
     ]
    },
    {
     "name": "stdout",
     "output_type": "stream",
     "text": [
      "Training until validation scores don't improve for 500 rounds\n",
      "[100]\ttraining's auc: 0.845038\tvalid_1's auc: 0.620928\n",
      "[200]\ttraining's auc: 0.895683\tvalid_1's auc: 0.614451\n",
      "[300]\ttraining's auc: 0.915553\tvalid_1's auc: 0.612543\n",
      "[400]\ttraining's auc: 0.929888\tvalid_1's auc: 0.602581\n",
      "[500]\ttraining's auc: 0.936732\tvalid_1's auc: 0.59803\n",
      "[600]\ttraining's auc: 0.944429\tvalid_1's auc: 0.585205\n",
      "Early stopping, best iteration is:\n",
      "[144]\ttraining's auc: 0.87252\tvalid_1's auc: 0.621807\n",
      "| \u001b[95m 24      \u001b[0m | \u001b[95m 0.6233  \u001b[0m | \u001b[95m 0.9655  \u001b[0m | \u001b[95m 0.9677  \u001b[0m | \u001b[95m 0.05348 \u001b[0m | \u001b[95m 0.0494  \u001b[0m | \u001b[95m 9.556   \u001b[0m | \u001b[95m 146.0   \u001b[0m | \u001b[95m 9.561   \u001b[0m |\n",
      "fold n°0\n"
     ]
    },
    {
     "name": "stderr",
     "output_type": "stream",
     "text": [
      "c:\\python3\\lib\\site-packages\\lightgbm\\engine.py:148: UserWarning: Found `n_estimators` in params. Will use it instead of argument\n",
      "  warnings.warn(\"Found `{}` in params. Will use it instead of argument\".format(alias))\n"
     ]
    },
    {
     "name": "stdout",
     "output_type": "stream",
     "text": [
      "Training until validation scores don't improve for 500 rounds\n",
      "[100]\ttraining's auc: 0.780344\tvalid_1's auc: 0.610431\n",
      "[200]\ttraining's auc: 0.8374\tvalid_1's auc: 0.615112\n",
      "[300]\ttraining's auc: 0.868735\tvalid_1's auc: 0.618127\n",
      "[400]\ttraining's auc: 0.88957\tvalid_1's auc: 0.61451\n",
      "[500]\ttraining's auc: 0.903269\tvalid_1's auc: 0.612395\n",
      "Early stopping, best iteration is:\n",
      "[1]\ttraining's auc: 0.646463\tvalid_1's auc: 0.625312\n",
      "fold n°1\n"
     ]
    },
    {
     "name": "stderr",
     "output_type": "stream",
     "text": [
      "c:\\python3\\lib\\site-packages\\lightgbm\\engine.py:148: UserWarning: Found `n_estimators` in params. Will use it instead of argument\n",
      "  warnings.warn(\"Found `{}` in params. Will use it instead of argument\".format(alias))\n"
     ]
    },
    {
     "name": "stdout",
     "output_type": "stream",
     "text": [
      "Training until validation scores don't improve for 500 rounds\n",
      "[100]\ttraining's auc: 0.799198\tvalid_1's auc: 0.586831\n",
      "[200]\ttraining's auc: 0.85055\tvalid_1's auc: 0.597404\n",
      "[300]\ttraining's auc: 0.874852\tvalid_1's auc: 0.597605\n",
      "[400]\ttraining's auc: 0.891767\tvalid_1's auc: 0.593331\n",
      "[500]\ttraining's auc: 0.906437\tvalid_1's auc: 0.58914\n",
      "[600]\ttraining's auc: 0.916479\tvalid_1's auc: 0.588998\n",
      "[700]\ttraining's auc: 0.923609\tvalid_1's auc: 0.589509\n",
      "Early stopping, best iteration is:\n",
      "[269]\ttraining's auc: 0.86951\tvalid_1's auc: 0.600853\n",
      "fold n°2\n"
     ]
    },
    {
     "name": "stderr",
     "output_type": "stream",
     "text": [
      "c:\\python3\\lib\\site-packages\\lightgbm\\engine.py:148: UserWarning: Found `n_estimators` in params. Will use it instead of argument\n",
      "  warnings.warn(\"Found `{}` in params. Will use it instead of argument\".format(alias))\n"
     ]
    },
    {
     "name": "stdout",
     "output_type": "stream",
     "text": [
      "Training until validation scores don't improve for 500 rounds\n",
      "[100]\ttraining's auc: 0.774185\tvalid_1's auc: 0.607868\n",
      "[200]\ttraining's auc: 0.830961\tvalid_1's auc: 0.608853\n",
      "[300]\ttraining's auc: 0.863407\tvalid_1's auc: 0.605831\n",
      "[400]\ttraining's auc: 0.885075\tvalid_1's auc: 0.6029\n",
      "[500]\ttraining's auc: 0.899265\tvalid_1's auc: 0.603424\n",
      "Early stopping, best iteration is:\n",
      "[5]\ttraining's auc: 0.698497\tvalid_1's auc: 0.621584\n",
      "fold n°3\n"
     ]
    },
    {
     "name": "stderr",
     "output_type": "stream",
     "text": [
      "c:\\python3\\lib\\site-packages\\lightgbm\\engine.py:148: UserWarning: Found `n_estimators` in params. Will use it instead of argument\n",
      "  warnings.warn(\"Found `{}` in params. Will use it instead of argument\".format(alias))\n"
     ]
    },
    {
     "name": "stdout",
     "output_type": "stream",
     "text": [
      "Training until validation scores don't improve for 500 rounds\n",
      "[100]\ttraining's auc: 0.785745\tvalid_1's auc: 0.648908\n",
      "[200]\ttraining's auc: 0.845639\tvalid_1's auc: 0.6599\n",
      "[300]\ttraining's auc: 0.875572\tvalid_1's auc: 0.66026\n",
      "[400]\ttraining's auc: 0.892998\tvalid_1's auc: 0.652669\n",
      "[500]\ttraining's auc: 0.90454\tvalid_1's auc: 0.647394\n",
      "[600]\ttraining's auc: 0.913198\tvalid_1's auc: 0.642195\n",
      "[700]\ttraining's auc: 0.920843\tvalid_1's auc: 0.637872\n",
      "Early stopping, best iteration is:\n",
      "[234]\ttraining's auc: 0.858034\tvalid_1's auc: 0.663124\n",
      "fold n°4\n"
     ]
    },
    {
     "name": "stderr",
     "output_type": "stream",
     "text": [
      "c:\\python3\\lib\\site-packages\\lightgbm\\engine.py:148: UserWarning: Found `n_estimators` in params. Will use it instead of argument\n",
      "  warnings.warn(\"Found `{}` in params. Will use it instead of argument\".format(alias))\n"
     ]
    },
    {
     "name": "stdout",
     "output_type": "stream",
     "text": [
      "Training until validation scores don't improve for 500 rounds\n",
      "[100]\ttraining's auc: 0.797552\tvalid_1's auc: 0.602081\n",
      "[200]\ttraining's auc: 0.854979\tvalid_1's auc: 0.608767\n",
      "[300]\ttraining's auc: 0.88039\tvalid_1's auc: 0.603833\n",
      "[400]\ttraining's auc: 0.901764\tvalid_1's auc: 0.604385\n",
      "[500]\ttraining's auc: 0.912927\tvalid_1's auc: 0.602205\n",
      "[600]\ttraining's auc: 0.921197\tvalid_1's auc: 0.600826\n",
      "Early stopping, best iteration is:\n",
      "[183]\ttraining's auc: 0.849284\tvalid_1's auc: 0.610033\n",
      "| \u001b[0m 25      \u001b[0m | \u001b[0m 0.5998  \u001b[0m | \u001b[0m 0.9899  \u001b[0m | \u001b[0m 0.782   \u001b[0m | \u001b[0m 0.2601  \u001b[0m | \u001b[0m 0.01441 \u001b[0m | \u001b[0m 8.886   \u001b[0m | \u001b[0m 132.6   \u001b[0m | \u001b[0m 14.59   \u001b[0m |\n",
      "fold n°0\n"
     ]
    },
    {
     "name": "stderr",
     "output_type": "stream",
     "text": [
      "c:\\python3\\lib\\site-packages\\lightgbm\\engine.py:148: UserWarning: Found `n_estimators` in params. Will use it instead of argument\n",
      "  warnings.warn(\"Found `{}` in params. Will use it instead of argument\".format(alias))\n"
     ]
    },
    {
     "name": "stdout",
     "output_type": "stream",
     "text": [
      "Training until validation scores don't improve for 500 rounds\n",
      "[100]\ttraining's auc: 0.927784\tvalid_1's auc: 0.616022\n",
      "[200]\ttraining's auc: 0.948401\tvalid_1's auc: 0.60193\n",
      "[300]\ttraining's auc: 0.960989\tvalid_1's auc: 0.590806\n",
      "[400]\ttraining's auc: 0.968981\tvalid_1's auc: 0.581898\n",
      "[500]\ttraining's auc: 0.975141\tvalid_1's auc: 0.583353\n",
      "[600]\ttraining's auc: 0.978888\tvalid_1's auc: 0.581394\n",
      "Early stopping, best iteration is:\n",
      "[108]\ttraining's auc: 0.930566\tvalid_1's auc: 0.616945\n",
      "fold n°1\n"
     ]
    },
    {
     "name": "stderr",
     "output_type": "stream",
     "text": [
      "c:\\python3\\lib\\site-packages\\lightgbm\\engine.py:148: UserWarning: Found `n_estimators` in params. Will use it instead of argument\n",
      "  warnings.warn(\"Found `{}` in params. Will use it instead of argument\".format(alias))\n"
     ]
    },
    {
     "name": "stdout",
     "output_type": "stream",
     "text": [
      "Training until validation scores don't improve for 500 rounds\n",
      "[100]\ttraining's auc: 0.931795\tvalid_1's auc: 0.586044\n",
      "[200]\ttraining's auc: 0.94851\tvalid_1's auc: 0.588657\n",
      "[300]\ttraining's auc: 0.959579\tvalid_1's auc: 0.578618\n",
      "[400]\ttraining's auc: 0.968209\tvalid_1's auc: 0.576844\n",
      "[500]\ttraining's auc: 0.973971\tvalid_1's auc: 0.573007\n",
      "[600]\ttraining's auc: 0.977475\tvalid_1's auc: 0.574874\n",
      "Early stopping, best iteration is:\n",
      "[160]\ttraining's auc: 0.943204\tvalid_1's auc: 0.5933\n",
      "fold n°2\n"
     ]
    },
    {
     "name": "stderr",
     "output_type": "stream",
     "text": [
      "c:\\python3\\lib\\site-packages\\lightgbm\\engine.py:148: UserWarning: Found `n_estimators` in params. Will use it instead of argument\n",
      "  warnings.warn(\"Found `{}` in params. Will use it instead of argument\".format(alias))\n"
     ]
    },
    {
     "name": "stdout",
     "output_type": "stream",
     "text": [
      "Training until validation scores don't improve for 500 rounds\n",
      "[100]\ttraining's auc: 0.927905\tvalid_1's auc: 0.614486\n",
      "[200]\ttraining's auc: 0.946693\tvalid_1's auc: 0.620992\n",
      "[300]\ttraining's auc: 0.958457\tvalid_1's auc: 0.628433\n",
      "[400]\ttraining's auc: 0.968405\tvalid_1's auc: 0.625654\n",
      "[500]\ttraining's auc: 0.974877\tvalid_1's auc: 0.630083\n",
      "[600]\ttraining's auc: 0.978488\tvalid_1's auc: 0.630925\n",
      "[700]\ttraining's auc: 0.981093\tvalid_1's auc: 0.629989\n",
      "[800]\ttraining's auc: 0.982596\tvalid_1's auc: 0.630405\n",
      "[900]\ttraining's auc: 0.983828\tvalid_1's auc: 0.629661\n",
      "[1000]\ttraining's auc: 0.98461\tvalid_1's auc: 0.629806\n",
      "[1100]\ttraining's auc: 0.985106\tvalid_1's auc: 0.627764\n",
      "Early stopping, best iteration is:\n",
      "[643]\ttraining's auc: 0.979991\tvalid_1's auc: 0.631921\n",
      "fold n°3\n"
     ]
    },
    {
     "name": "stderr",
     "output_type": "stream",
     "text": [
      "c:\\python3\\lib\\site-packages\\lightgbm\\engine.py:148: UserWarning: Found `n_estimators` in params. Will use it instead of argument\n",
      "  warnings.warn(\"Found `{}` in params. Will use it instead of argument\".format(alias))\n"
     ]
    },
    {
     "name": "stdout",
     "output_type": "stream",
     "text": [
      "Training until validation scores don't improve for 500 rounds\n",
      "[100]\ttraining's auc: 0.929634\tvalid_1's auc: 0.654383\n",
      "[200]\ttraining's auc: 0.946904\tvalid_1's auc: 0.63989\n",
      "[300]\ttraining's auc: 0.958781\tvalid_1's auc: 0.620709\n",
      "[400]\ttraining's auc: 0.9689\tvalid_1's auc: 0.614679\n",
      "[500]\ttraining's auc: 0.974986\tvalid_1's auc: 0.610806\n",
      "[600]\ttraining's auc: 0.979169\tvalid_1's auc: 0.608221\n",
      "Early stopping, best iteration is:\n",
      "[137]\ttraining's auc: 0.938166\tvalid_1's auc: 0.658678\n",
      "fold n°4\n"
     ]
    },
    {
     "name": "stderr",
     "output_type": "stream",
     "text": [
      "c:\\python3\\lib\\site-packages\\lightgbm\\engine.py:148: UserWarning: Found `n_estimators` in params. Will use it instead of argument\n",
      "  warnings.warn(\"Found `{}` in params. Will use it instead of argument\".format(alias))\n"
     ]
    },
    {
     "name": "stdout",
     "output_type": "stream",
     "text": [
      "Training until validation scores don't improve for 500 rounds\n",
      "[100]\ttraining's auc: 0.935187\tvalid_1's auc: 0.582385\n",
      "[200]\ttraining's auc: 0.949905\tvalid_1's auc: 0.58235\n",
      "[300]\ttraining's auc: 0.961235\tvalid_1's auc: 0.575861\n",
      "[400]\ttraining's auc: 0.968702\tvalid_1's auc: 0.569069\n",
      "[500]\ttraining's auc: 0.973733\tvalid_1's auc: 0.565009\n",
      "Early stopping, best iteration is:\n",
      "[6]\ttraining's auc: 0.806371\tvalid_1's auc: 0.589514\n",
      "| \u001b[0m 26      \u001b[0m | \u001b[0m 0.606   \u001b[0m | \u001b[0m 0.9982  \u001b[0m | \u001b[0m 0.9611  \u001b[0m | \u001b[0m 0.894   \u001b[0m | \u001b[0m 0.02749 \u001b[0m | \u001b[0m 9.885   \u001b[0m | \u001b[0m 110.7   \u001b[0m | \u001b[0m 110.4   \u001b[0m |\n",
      "fold n°0\n"
     ]
    },
    {
     "name": "stderr",
     "output_type": "stream",
     "text": [
      "c:\\python3\\lib\\site-packages\\lightgbm\\engine.py:148: UserWarning: Found `n_estimators` in params. Will use it instead of argument\n",
      "  warnings.warn(\"Found `{}` in params. Will use it instead of argument\".format(alias))\n"
     ]
    },
    {
     "name": "stdout",
     "output_type": "stream",
     "text": [
      "Training until validation scores don't improve for 500 rounds\n",
      "[100]\ttraining's auc: 0.738362\tvalid_1's auc: 0.61533\n",
      "[200]\ttraining's auc: 0.78573\tvalid_1's auc: 0.615181\n",
      "[300]\ttraining's auc: 0.817799\tvalid_1's auc: 0.612266\n",
      "[400]\ttraining's auc: 0.839601\tvalid_1's auc: 0.611966\n",
      "[500]\ttraining's auc: 0.856909\tvalid_1's auc: 0.605658\n",
      "Early stopping, best iteration is:\n",
      "[10]\ttraining's auc: 0.65177\tvalid_1's auc: 0.640517\n",
      "fold n°1\n"
     ]
    },
    {
     "name": "stderr",
     "output_type": "stream",
     "text": [
      "c:\\python3\\lib\\site-packages\\lightgbm\\engine.py:148: UserWarning: Found `n_estimators` in params. Will use it instead of argument\n",
      "  warnings.warn(\"Found `{}` in params. Will use it instead of argument\".format(alias))\n"
     ]
    },
    {
     "name": "stdout",
     "output_type": "stream",
     "text": [
      "Training until validation scores don't improve for 500 rounds\n",
      "[100]\ttraining's auc: 0.746085\tvalid_1's auc: 0.591034\n",
      "[200]\ttraining's auc: 0.795117\tvalid_1's auc: 0.596489\n",
      "[300]\ttraining's auc: 0.824313\tvalid_1's auc: 0.592608\n",
      "[400]\ttraining's auc: 0.841098\tvalid_1's auc: 0.592261\n",
      "[500]\ttraining's auc: 0.861894\tvalid_1's auc: 0.59347\n",
      "[600]\ttraining's auc: 0.873769\tvalid_1's auc: 0.592396\n",
      "[700]\ttraining's auc: 0.885423\tvalid_1's auc: 0.591089\n",
      "Early stopping, best iteration is:\n",
      "[202]\ttraining's auc: 0.796058\tvalid_1's auc: 0.597114\n",
      "fold n°2\n"
     ]
    },
    {
     "name": "stderr",
     "output_type": "stream",
     "text": [
      "c:\\python3\\lib\\site-packages\\lightgbm\\engine.py:148: UserWarning: Found `n_estimators` in params. Will use it instead of argument\n",
      "  warnings.warn(\"Found `{}` in params. Will use it instead of argument\".format(alias))\n"
     ]
    },
    {
     "name": "stdout",
     "output_type": "stream",
     "text": [
      "Training until validation scores don't improve for 500 rounds\n",
      "[100]\ttraining's auc: 0.731386\tvalid_1's auc: 0.608118\n",
      "[200]\ttraining's auc: 0.778686\tvalid_1's auc: 0.608097\n",
      "[300]\ttraining's auc: 0.811747\tvalid_1's auc: 0.601997\n",
      "[400]\ttraining's auc: 0.833898\tvalid_1's auc: 0.592184\n",
      "[500]\ttraining's auc: 0.853012\tvalid_1's auc: 0.589682\n",
      "[600]\ttraining's auc: 0.8663\tvalid_1's auc: 0.589064\n",
      "Early stopping, best iteration is:\n",
      "[155]\ttraining's auc: 0.763138\tvalid_1's auc: 0.615109\n",
      "fold n°3\n"
     ]
    },
    {
     "name": "stderr",
     "output_type": "stream",
     "text": [
      "c:\\python3\\lib\\site-packages\\lightgbm\\engine.py:148: UserWarning: Found `n_estimators` in params. Will use it instead of argument\n",
      "  warnings.warn(\"Found `{}` in params. Will use it instead of argument\".format(alias))\n"
     ]
    },
    {
     "name": "stdout",
     "output_type": "stream",
     "text": [
      "Training until validation scores don't improve for 500 rounds\n",
      "[100]\ttraining's auc: 0.731821\tvalid_1's auc: 0.64309\n",
      "[200]\ttraining's auc: 0.777065\tvalid_1's auc: 0.649921\n",
      "[300]\ttraining's auc: 0.811386\tvalid_1's auc: 0.648487\n",
      "[400]\ttraining's auc: 0.839672\tvalid_1's auc: 0.647956\n",
      "[500]\ttraining's auc: 0.858396\tvalid_1's auc: 0.643832\n",
      "[600]\ttraining's auc: 0.873605\tvalid_1's auc: 0.635924\n",
      "[700]\ttraining's auc: 0.884101\tvalid_1's auc: 0.631868\n",
      "Early stopping, best iteration is:\n",
      "[225]\ttraining's auc: 0.788462\tvalid_1's auc: 0.654084\n",
      "fold n°4\n"
     ]
    },
    {
     "name": "stderr",
     "output_type": "stream",
     "text": [
      "c:\\python3\\lib\\site-packages\\lightgbm\\engine.py:148: UserWarning: Found `n_estimators` in params. Will use it instead of argument\n",
      "  warnings.warn(\"Found `{}` in params. Will use it instead of argument\".format(alias))\n"
     ]
    },
    {
     "name": "stdout",
     "output_type": "stream",
     "text": [
      "Training until validation scores don't improve for 500 rounds\n",
      "[100]\ttraining's auc: 0.753985\tvalid_1's auc: 0.605917\n",
      "[200]\ttraining's auc: 0.795928\tvalid_1's auc: 0.605488\n",
      "[300]\ttraining's auc: 0.823235\tvalid_1's auc: 0.607162\n",
      "[400]\ttraining's auc: 0.84383\tvalid_1's auc: 0.60824\n",
      "[500]\ttraining's auc: 0.861365\tvalid_1's auc: 0.607665\n",
      "[600]\ttraining's auc: 0.877121\tvalid_1's auc: 0.61004\n",
      "[700]\ttraining's auc: 0.887503\tvalid_1's auc: 0.606641\n",
      "[800]\ttraining's auc: 0.896104\tvalid_1's auc: 0.603747\n",
      "[900]\ttraining's auc: 0.904067\tvalid_1's auc: 0.598421\n",
      "Early stopping, best iteration is:\n",
      "[437]\ttraining's auc: 0.849746\tvalid_1's auc: 0.611528\n",
      "| \u001b[0m 27      \u001b[0m | \u001b[0m 0.6107  \u001b[0m | \u001b[0m 0.9384  \u001b[0m | \u001b[0m 0.7993  \u001b[0m | \u001b[0m 0.3972  \u001b[0m | \u001b[0m 0.0238  \u001b[0m | \u001b[0m 5.586   \u001b[0m | \u001b[0m 86.28   \u001b[0m | \u001b[0m 6.761   \u001b[0m |\n",
      "fold n°0\n"
     ]
    },
    {
     "name": "stderr",
     "output_type": "stream",
     "text": [
      "c:\\python3\\lib\\site-packages\\lightgbm\\engine.py:148: UserWarning: Found `n_estimators` in params. Will use it instead of argument\n",
      "  warnings.warn(\"Found `{}` in params. Will use it instead of argument\".format(alias))\n"
     ]
    },
    {
     "name": "stdout",
     "output_type": "stream",
     "text": [
      "Training until validation scores don't improve for 500 rounds\n",
      "[100]\ttraining's auc: 0.956136\tvalid_1's auc: 0.592795\n",
      "[200]\ttraining's auc: 0.974567\tvalid_1's auc: 0.585214\n",
      "[300]\ttraining's auc: 0.982779\tvalid_1's auc: 0.582145\n",
      "[400]\ttraining's auc: 0.986751\tvalid_1's auc: 0.578222\n",
      "[500]\ttraining's auc: 0.988717\tvalid_1's auc: 0.571\n",
      "Early stopping, best iteration is:\n",
      "[5]\ttraining's auc: 0.8328\tvalid_1's auc: 0.6193\n",
      "fold n°1\n"
     ]
    },
    {
     "name": "stderr",
     "output_type": "stream",
     "text": [
      "c:\\python3\\lib\\site-packages\\lightgbm\\engine.py:148: UserWarning: Found `n_estimators` in params. Will use it instead of argument\n",
      "  warnings.warn(\"Found `{}` in params. Will use it instead of argument\".format(alias))\n"
     ]
    },
    {
     "name": "stdout",
     "output_type": "stream",
     "text": [
      "Training until validation scores don't improve for 500 rounds\n",
      "[100]\ttraining's auc: 0.956516\tvalid_1's auc: 0.582197\n",
      "[200]\ttraining's auc: 0.972233\tvalid_1's auc: 0.579612\n",
      "[300]\ttraining's auc: 0.980944\tvalid_1's auc: 0.583192\n",
      "[400]\ttraining's auc: 0.985255\tvalid_1's auc: 0.580866\n",
      "[500]\ttraining's auc: 0.987414\tvalid_1's auc: 0.57187\n",
      "Early stopping, best iteration is:\n",
      "[39]\ttraining's auc: 0.933408\tvalid_1's auc: 0.593296\n",
      "fold n°2\n"
     ]
    },
    {
     "name": "stderr",
     "output_type": "stream",
     "text": [
      "c:\\python3\\lib\\site-packages\\lightgbm\\engine.py:148: UserWarning: Found `n_estimators` in params. Will use it instead of argument\n",
      "  warnings.warn(\"Found `{}` in params. Will use it instead of argument\".format(alias))\n"
     ]
    },
    {
     "name": "stdout",
     "output_type": "stream",
     "text": [
      "Training until validation scores don't improve for 500 rounds\n",
      "[100]\ttraining's auc: 0.951831\tvalid_1's auc: 0.601153\n",
      "[200]\ttraining's auc: 0.97362\tvalid_1's auc: 0.627104\n",
      "[300]\ttraining's auc: 0.982626\tvalid_1's auc: 0.630118\n",
      "[400]\ttraining's auc: 0.986638\tvalid_1's auc: 0.625031\n",
      "[500]\ttraining's auc: 0.988804\tvalid_1's auc: 0.616484\n",
      "[600]\ttraining's auc: 0.990057\tvalid_1's auc: 0.615347\n",
      "[700]\ttraining's auc: 0.990778\tvalid_1's auc: 0.611929\n",
      "[800]\ttraining's auc: 0.991222\tvalid_1's auc: 0.611422\n",
      "Early stopping, best iteration is:\n",
      "[307]\ttraining's auc: 0.983156\tvalid_1's auc: 0.631177\n",
      "fold n°3\n"
     ]
    },
    {
     "name": "stderr",
     "output_type": "stream",
     "text": [
      "c:\\python3\\lib\\site-packages\\lightgbm\\engine.py:148: UserWarning: Found `n_estimators` in params. Will use it instead of argument\n",
      "  warnings.warn(\"Found `{}` in params. Will use it instead of argument\".format(alias))\n"
     ]
    },
    {
     "name": "stdout",
     "output_type": "stream",
     "text": [
      "Training until validation scores don't improve for 500 rounds\n",
      "[100]\ttraining's auc: 0.955133\tvalid_1's auc: 0.629813\n",
      "[200]\ttraining's auc: 0.972728\tvalid_1's auc: 0.624116\n",
      "[300]\ttraining's auc: 0.981906\tvalid_1's auc: 0.62402\n",
      "[400]\ttraining's auc: 0.986867\tvalid_1's auc: 0.620415\n",
      "[500]\ttraining's auc: 0.989045\tvalid_1's auc: 0.619185\n",
      "Early stopping, best iteration is:\n",
      "[25]\ttraining's auc: 0.921797\tvalid_1's auc: 0.652736\n",
      "fold n°4\n"
     ]
    },
    {
     "name": "stderr",
     "output_type": "stream",
     "text": [
      "c:\\python3\\lib\\site-packages\\lightgbm\\engine.py:148: UserWarning: Found `n_estimators` in params. Will use it instead of argument\n",
      "  warnings.warn(\"Found `{}` in params. Will use it instead of argument\".format(alias))\n"
     ]
    },
    {
     "name": "stdout",
     "output_type": "stream",
     "text": [
      "Training until validation scores don't improve for 500 rounds\n",
      "[100]\ttraining's auc: 0.957139\tvalid_1's auc: 0.585286\n",
      "[200]\ttraining's auc: 0.972898\tvalid_1's auc: 0.579082\n",
      "[300]\ttraining's auc: 0.980797\tvalid_1's auc: 0.568623\n",
      "[400]\ttraining's auc: 0.985333\tvalid_1's auc: 0.562919\n",
      "[500]\ttraining's auc: 0.987578\tvalid_1's auc: 0.562679\n",
      "Early stopping, best iteration is:\n",
      "[75]\ttraining's auc: 0.951429\tvalid_1's auc: 0.590217\n",
      "| \u001b[0m 28      \u001b[0m | \u001b[0m 0.5987  \u001b[0m | \u001b[0m 0.8912  \u001b[0m | \u001b[0m 0.9621  \u001b[0m | \u001b[0m 0.12    \u001b[0m | \u001b[0m 0.03945 \u001b[0m | \u001b[0m 9.32    \u001b[0m | \u001b[0m 66.38   \u001b[0m | \u001b[0m 101.3   \u001b[0m |\n",
      "fold n°0\n"
     ]
    },
    {
     "name": "stderr",
     "output_type": "stream",
     "text": [
      "c:\\python3\\lib\\site-packages\\lightgbm\\engine.py:148: UserWarning: Found `n_estimators` in params. Will use it instead of argument\n",
      "  warnings.warn(\"Found `{}` in params. Will use it instead of argument\".format(alias))\n"
     ]
    },
    {
     "name": "stdout",
     "output_type": "stream",
     "text": [
      "Training until validation scores don't improve for 500 rounds\n",
      "[100]\ttraining's auc: 0.787704\tvalid_1's auc: 0.601293\n",
      "[200]\ttraining's auc: 0.838507\tvalid_1's auc: 0.599963\n",
      "[300]\ttraining's auc: 0.868142\tvalid_1's auc: 0.582383\n",
      "[400]\ttraining's auc: 0.887011\tvalid_1's auc: 0.572459\n",
      "[500]\ttraining's auc: 0.898548\tvalid_1's auc: 0.567437\n",
      "Early stopping, best iteration is:\n",
      "[11]\ttraining's auc: 0.694998\tvalid_1's auc: 0.628826\n",
      "fold n°1\n"
     ]
    },
    {
     "name": "stderr",
     "output_type": "stream",
     "text": [
      "c:\\python3\\lib\\site-packages\\lightgbm\\engine.py:148: UserWarning: Found `n_estimators` in params. Will use it instead of argument\n",
      "  warnings.warn(\"Found `{}` in params. Will use it instead of argument\".format(alias))\n"
     ]
    },
    {
     "name": "stdout",
     "output_type": "stream",
     "text": [
      "Training until validation scores don't improve for 500 rounds\n",
      "[100]\ttraining's auc: 0.797032\tvalid_1's auc: 0.574802\n",
      "[200]\ttraining's auc: 0.845526\tvalid_1's auc: 0.567134\n",
      "[300]\ttraining's auc: 0.868944\tvalid_1's auc: 0.562772\n",
      "[400]\ttraining's auc: 0.883308\tvalid_1's auc: 0.559382\n",
      "[500]\ttraining's auc: 0.895869\tvalid_1's auc: 0.552367\n",
      "Early stopping, best iteration is:\n",
      "[79]\ttraining's auc: 0.782775\tvalid_1's auc: 0.580625\n",
      "fold n°2\n"
     ]
    },
    {
     "name": "stderr",
     "output_type": "stream",
     "text": [
      "c:\\python3\\lib\\site-packages\\lightgbm\\engine.py:148: UserWarning: Found `n_estimators` in params. Will use it instead of argument\n",
      "  warnings.warn(\"Found `{}` in params. Will use it instead of argument\".format(alias))\n"
     ]
    },
    {
     "name": "stdout",
     "output_type": "stream",
     "text": [
      "Training until validation scores don't improve for 500 rounds\n",
      "[100]\ttraining's auc: 0.791791\tvalid_1's auc: 0.592381\n",
      "[200]\ttraining's auc: 0.830295\tvalid_1's auc: 0.60103\n",
      "[300]\ttraining's auc: 0.85552\tvalid_1's auc: 0.600887\n",
      "[400]\ttraining's auc: 0.875477\tvalid_1's auc: 0.609075\n",
      "[500]\ttraining's auc: 0.887817\tvalid_1's auc: 0.606541\n",
      "[600]\ttraining's auc: 0.898074\tvalid_1's auc: 0.607257\n",
      "[700]\ttraining's auc: 0.90479\tvalid_1's auc: 0.605589\n",
      "[800]\ttraining's auc: 0.910656\tvalid_1's auc: 0.607896\n",
      "[900]\ttraining's auc: 0.917441\tvalid_1's auc: 0.609692\n",
      "Early stopping, best iteration is:\n",
      "[458]\ttraining's auc: 0.883798\tvalid_1's auc: 0.61111\n",
      "fold n°3\n"
     ]
    },
    {
     "name": "stderr",
     "output_type": "stream",
     "text": [
      "c:\\python3\\lib\\site-packages\\lightgbm\\engine.py:148: UserWarning: Found `n_estimators` in params. Will use it instead of argument\n",
      "  warnings.warn(\"Found `{}` in params. Will use it instead of argument\".format(alias))\n"
     ]
    },
    {
     "name": "stdout",
     "output_type": "stream",
     "text": [
      "Training until validation scores don't improve for 500 rounds\n",
      "[100]\ttraining's auc: 0.792338\tvalid_1's auc: 0.648966\n",
      "[200]\ttraining's auc: 0.840887\tvalid_1's auc: 0.635471\n",
      "[300]\ttraining's auc: 0.865292\tvalid_1's auc: 0.632829\n",
      "[400]\ttraining's auc: 0.883781\tvalid_1's auc: 0.626679\n",
      "[500]\ttraining's auc: 0.895296\tvalid_1's auc: 0.624912\n",
      "Early stopping, best iteration is:\n",
      "[48]\ttraining's auc: 0.742122\tvalid_1's auc: 0.655544\n",
      "fold n°4\n"
     ]
    },
    {
     "name": "stderr",
     "output_type": "stream",
     "text": [
      "c:\\python3\\lib\\site-packages\\lightgbm\\engine.py:148: UserWarning: Found `n_estimators` in params. Will use it instead of argument\n",
      "  warnings.warn(\"Found `{}` in params. Will use it instead of argument\".format(alias))\n"
     ]
    },
    {
     "name": "stdout",
     "output_type": "stream",
     "text": [
      "Training until validation scores don't improve for 500 rounds\n",
      "[100]\ttraining's auc: 0.796757\tvalid_1's auc: 0.615832\n",
      "[200]\ttraining's auc: 0.844158\tvalid_1's auc: 0.605227\n",
      "[300]\ttraining's auc: 0.867712\tvalid_1's auc: 0.600251\n",
      "[400]\ttraining's auc: 0.885241\tvalid_1's auc: 0.588479\n",
      "[500]\ttraining's auc: 0.898164\tvalid_1's auc: 0.586762\n",
      "[600]\ttraining's auc: 0.90663\tvalid_1's auc: 0.583553\n",
      "Early stopping, best iteration is:\n",
      "[112]\ttraining's auc: 0.804654\tvalid_1's auc: 0.617629\n",
      "| \u001b[0m 29      \u001b[0m | \u001b[0m 0.609   \u001b[0m | \u001b[0m 0.8171  \u001b[0m | \u001b[0m 0.9412  \u001b[0m | \u001b[0m 5.551   \u001b[0m | \u001b[0m 0.04958 \u001b[0m | \u001b[0m 4.045   \u001b[0m | \u001b[0m 41.99   \u001b[0m | \u001b[0m 127.9   \u001b[0m |\n",
      "fold n°0\n"
     ]
    },
    {
     "name": "stderr",
     "output_type": "stream",
     "text": [
      "c:\\python3\\lib\\site-packages\\lightgbm\\engine.py:148: UserWarning: Found `n_estimators` in params. Will use it instead of argument\n",
      "  warnings.warn(\"Found `{}` in params. Will use it instead of argument\".format(alias))\n"
     ]
    },
    {
     "name": "stdout",
     "output_type": "stream",
     "text": [
      "Training until validation scores don't improve for 500 rounds\n",
      "[100]\ttraining's auc: 0.749297\tvalid_1's auc: 0.604992\n",
      "[200]\ttraining's auc: 0.79567\tvalid_1's auc: 0.607455\n",
      "[300]\ttraining's auc: 0.82789\tvalid_1's auc: 0.607903\n",
      "[400]\ttraining's auc: 0.850114\tvalid_1's auc: 0.599212\n",
      "[500]\ttraining's auc: 0.864373\tvalid_1's auc: 0.597255\n",
      "[600]\ttraining's auc: 0.876763\tvalid_1's auc: 0.591412\n",
      "[700]\ttraining's auc: 0.885839\tvalid_1's auc: 0.585709\n",
      "Early stopping, best iteration is:\n",
      "[264]\ttraining's auc: 0.817438\tvalid_1's auc: 0.610262\n",
      "fold n°1\n"
     ]
    },
    {
     "name": "stderr",
     "output_type": "stream",
     "text": [
      "c:\\python3\\lib\\site-packages\\lightgbm\\engine.py:148: UserWarning: Found `n_estimators` in params. Will use it instead of argument\n",
      "  warnings.warn(\"Found `{}` in params. Will use it instead of argument\".format(alias))\n"
     ]
    },
    {
     "name": "stdout",
     "output_type": "stream",
     "text": [
      "Training until validation scores don't improve for 500 rounds\n",
      "[100]\ttraining's auc: 0.752792\tvalid_1's auc: 0.568592\n",
      "[200]\ttraining's auc: 0.800025\tvalid_1's auc: 0.572232\n",
      "[300]\ttraining's auc: 0.828004\tvalid_1's auc: 0.570583\n",
      "[400]\ttraining's auc: 0.84877\tvalid_1's auc: 0.566016\n",
      "[500]\ttraining's auc: 0.863421\tvalid_1's auc: 0.563679\n",
      "Early stopping, best iteration is:\n",
      "[12]\ttraining's auc: 0.689356\tvalid_1's auc: 0.589571\n",
      "fold n°2\n"
     ]
    },
    {
     "name": "stderr",
     "output_type": "stream",
     "text": [
      "c:\\python3\\lib\\site-packages\\lightgbm\\engine.py:148: UserWarning: Found `n_estimators` in params. Will use it instead of argument\n",
      "  warnings.warn(\"Found `{}` in params. Will use it instead of argument\".format(alias))\n"
     ]
    },
    {
     "name": "stdout",
     "output_type": "stream",
     "text": [
      "Training until validation scores don't improve for 500 rounds\n",
      "[100]\ttraining's auc: 0.746989\tvalid_1's auc: 0.595115\n",
      "[200]\ttraining's auc: 0.79581\tvalid_1's auc: 0.597744\n",
      "[300]\ttraining's auc: 0.8229\tvalid_1's auc: 0.600621\n",
      "[400]\ttraining's auc: 0.84067\tvalid_1's auc: 0.599052\n",
      "[500]\ttraining's auc: 0.855884\tvalid_1's auc: 0.598062\n",
      "[600]\ttraining's auc: 0.867383\tvalid_1's auc: 0.597596\n",
      "[700]\ttraining's auc: 0.876775\tvalid_1's auc: 0.597587\n",
      "[800]\ttraining's auc: 0.884072\tvalid_1's auc: 0.599241\n",
      "Early stopping, best iteration is:\n",
      "[310]\ttraining's auc: 0.825238\tvalid_1's auc: 0.60155\n",
      "fold n°3\n"
     ]
    },
    {
     "name": "stderr",
     "output_type": "stream",
     "text": [
      "c:\\python3\\lib\\site-packages\\lightgbm\\engine.py:148: UserWarning: Found `n_estimators` in params. Will use it instead of argument\n",
      "  warnings.warn(\"Found `{}` in params. Will use it instead of argument\".format(alias))\n"
     ]
    },
    {
     "name": "stdout",
     "output_type": "stream",
     "text": [
      "Training until validation scores don't improve for 500 rounds\n",
      "[100]\ttraining's auc: 0.748602\tvalid_1's auc: 0.652856\n",
      "[200]\ttraining's auc: 0.796848\tvalid_1's auc: 0.650897\n",
      "[300]\ttraining's auc: 0.829813\tvalid_1's auc: 0.650973\n",
      "[400]\ttraining's auc: 0.850315\tvalid_1's auc: 0.646835\n",
      "[500]\ttraining's auc: 0.866295\tvalid_1's auc: 0.644897\n",
      "Early stopping, best iteration is:\n",
      "[54]\ttraining's auc: 0.720711\tvalid_1's auc: 0.657764\n",
      "fold n°4\n"
     ]
    },
    {
     "name": "stderr",
     "output_type": "stream",
     "text": [
      "c:\\python3\\lib\\site-packages\\lightgbm\\engine.py:148: UserWarning: Found `n_estimators` in params. Will use it instead of argument\n",
      "  warnings.warn(\"Found `{}` in params. Will use it instead of argument\".format(alias))\n"
     ]
    },
    {
     "name": "stdout",
     "output_type": "stream",
     "text": [
      "Training until validation scores don't improve for 500 rounds\n",
      "[100]\ttraining's auc: 0.757231\tvalid_1's auc: 0.602593\n",
      "[200]\ttraining's auc: 0.804477\tvalid_1's auc: 0.607472\n",
      "[300]\ttraining's auc: 0.835326\tvalid_1's auc: 0.613573\n",
      "[400]\ttraining's auc: 0.855771\tvalid_1's auc: 0.612503\n",
      "[500]\ttraining's auc: 0.871238\tvalid_1's auc: 0.608385\n",
      "[600]\ttraining's auc: 0.881657\tvalid_1's auc: 0.604004\n",
      "[700]\ttraining's auc: 0.890135\tvalid_1's auc: 0.601267\n",
      "[800]\ttraining's auc: 0.897932\tvalid_1's auc: 0.598543\n",
      "Early stopping, best iteration is:\n",
      "[346]\ttraining's auc: 0.846524\tvalid_1's auc: 0.615944\n",
      "| \u001b[0m 30      \u001b[0m | \u001b[0m 0.6068  \u001b[0m | \u001b[0m 0.8034  \u001b[0m | \u001b[0m 0.7333  \u001b[0m | \u001b[0m 5.748   \u001b[0m | \u001b[0m 0.01337 \u001b[0m | \u001b[0m 9.975   \u001b[0m | \u001b[0m 120.2   \u001b[0m | \u001b[0m 129.4   \u001b[0m |\n",
      "fold n°0\n"
     ]
    },
    {
     "name": "stderr",
     "output_type": "stream",
     "text": [
      "c:\\python3\\lib\\site-packages\\lightgbm\\engine.py:148: UserWarning: Found `n_estimators` in params. Will use it instead of argument\n",
      "  warnings.warn(\"Found `{}` in params. Will use it instead of argument\".format(alias))\n"
     ]
    },
    {
     "name": "stdout",
     "output_type": "stream",
     "text": [
      "Training until validation scores don't improve for 500 rounds\n",
      "[100]\ttraining's auc: 0.720656\tvalid_1's auc: 0.607244\n",
      "[200]\ttraining's auc: 0.755834\tvalid_1's auc: 0.605562\n",
      "[300]\ttraining's auc: 0.782895\tvalid_1's auc: 0.604497\n",
      "[400]\ttraining's auc: 0.80149\tvalid_1's auc: 0.600746\n",
      "[500]\ttraining's auc: 0.815953\tvalid_1's auc: 0.597519\n",
      "Early stopping, best iteration is:\n",
      "[2]\ttraining's auc: 0.650172\tvalid_1's auc: 0.620933\n",
      "fold n°1\n"
     ]
    },
    {
     "name": "stderr",
     "output_type": "stream",
     "text": [
      "c:\\python3\\lib\\site-packages\\lightgbm\\engine.py:148: UserWarning: Found `n_estimators` in params. Will use it instead of argument\n",
      "  warnings.warn(\"Found `{}` in params. Will use it instead of argument\".format(alias))\n"
     ]
    },
    {
     "name": "stdout",
     "output_type": "stream",
     "text": [
      "Training until validation scores don't improve for 500 rounds\n",
      "[100]\ttraining's auc: 0.730361\tvalid_1's auc: 0.561658\n",
      "[200]\ttraining's auc: 0.767286\tvalid_1's auc: 0.567688\n",
      "[300]\ttraining's auc: 0.789477\tvalid_1's auc: 0.568755\n",
      "[400]\ttraining's auc: 0.80909\tvalid_1's auc: 0.56588\n",
      "[500]\ttraining's auc: 0.822073\tvalid_1's auc: 0.566221\n",
      "Early stopping, best iteration is:\n",
      "[7]\ttraining's auc: 0.673571\tvalid_1's auc: 0.576886\n",
      "fold n°2\n"
     ]
    },
    {
     "name": "stderr",
     "output_type": "stream",
     "text": [
      "c:\\python3\\lib\\site-packages\\lightgbm\\engine.py:148: UserWarning: Found `n_estimators` in params. Will use it instead of argument\n",
      "  warnings.warn(\"Found `{}` in params. Will use it instead of argument\".format(alias))\n"
     ]
    },
    {
     "name": "stdout",
     "output_type": "stream",
     "text": [
      "Training until validation scores don't improve for 500 rounds\n",
      "[100]\ttraining's auc: 0.724672\tvalid_1's auc: 0.58254\n",
      "[200]\ttraining's auc: 0.761339\tvalid_1's auc: 0.596137\n",
      "[300]\ttraining's auc: 0.784588\tvalid_1's auc: 0.595219\n",
      "[400]\ttraining's auc: 0.801206\tvalid_1's auc: 0.597799\n",
      "[500]\ttraining's auc: 0.812701\tvalid_1's auc: 0.596841\n",
      "[600]\ttraining's auc: 0.823803\tvalid_1's auc: 0.599438\n",
      "[700]\ttraining's auc: 0.833249\tvalid_1's auc: 0.600652\n",
      "[800]\ttraining's auc: 0.840653\tvalid_1's auc: 0.601038\n",
      "[900]\ttraining's auc: 0.848345\tvalid_1's auc: 0.60118\n",
      "[1000]\ttraining's auc: 0.854969\tvalid_1's auc: 0.602814\n",
      "[1100]\ttraining's auc: 0.860367\tvalid_1's auc: 0.602711\n",
      "[1200]\ttraining's auc: 0.865719\tvalid_1's auc: 0.601403\n",
      "[1300]\ttraining's auc: 0.870138\tvalid_1's auc: 0.604014\n",
      "[1400]\ttraining's auc: 0.873554\tvalid_1's auc: 0.604493\n",
      "[1500]\ttraining's auc: 0.877772\tvalid_1's auc: 0.60571\n",
      "Did not meet early stopping. Best iteration is:\n",
      "[1500]\ttraining's auc: 0.877772\tvalid_1's auc: 0.60571\n",
      "fold n°3\n"
     ]
    },
    {
     "name": "stderr",
     "output_type": "stream",
     "text": [
      "c:\\python3\\lib\\site-packages\\lightgbm\\engine.py:148: UserWarning: Found `n_estimators` in params. Will use it instead of argument\n",
      "  warnings.warn(\"Found `{}` in params. Will use it instead of argument\".format(alias))\n"
     ]
    },
    {
     "name": "stdout",
     "output_type": "stream",
     "text": [
      "Training until validation scores don't improve for 500 rounds\n",
      "[100]\ttraining's auc: 0.716311\tvalid_1's auc: 0.650482\n",
      "[200]\ttraining's auc: 0.757762\tvalid_1's auc: 0.656126\n",
      "[300]\ttraining's auc: 0.783439\tvalid_1's auc: 0.653602\n",
      "[400]\ttraining's auc: 0.806916\tvalid_1's auc: 0.650707\n",
      "[500]\ttraining's auc: 0.821868\tvalid_1's auc: 0.645828\n",
      "[600]\ttraining's auc: 0.834137\tvalid_1's auc: 0.643656\n",
      "Early stopping, best iteration is:\n",
      "[173]\ttraining's auc: 0.747155\tvalid_1's auc: 0.658521\n",
      "fold n°4\n"
     ]
    },
    {
     "name": "stderr",
     "output_type": "stream",
     "text": [
      "c:\\python3\\lib\\site-packages\\lightgbm\\engine.py:148: UserWarning: Found `n_estimators` in params. Will use it instead of argument\n",
      "  warnings.warn(\"Found `{}` in params. Will use it instead of argument\".format(alias))\n"
     ]
    },
    {
     "name": "stdout",
     "output_type": "stream",
     "text": [
      "Training until validation scores don't improve for 500 rounds\n",
      "[100]\ttraining's auc: 0.732041\tvalid_1's auc: 0.602024\n",
      "[200]\ttraining's auc: 0.766937\tvalid_1's auc: 0.60732\n",
      "[300]\ttraining's auc: 0.792647\tvalid_1's auc: 0.607963\n",
      "[400]\ttraining's auc: 0.809294\tvalid_1's auc: 0.607795\n",
      "[500]\ttraining's auc: 0.823526\tvalid_1's auc: 0.606388\n",
      "[600]\ttraining's auc: 0.834726\tvalid_1's auc: 0.605334\n",
      "[700]\ttraining's auc: 0.844017\tvalid_1's auc: 0.602699\n",
      "[800]\ttraining's auc: 0.852628\tvalid_1's auc: 0.599429\n",
      "Early stopping, best iteration is:\n",
      "[318]\ttraining's auc: 0.796868\tvalid_1's auc: 0.610373\n",
      "| \u001b[0m 31      \u001b[0m | \u001b[0m 0.5972  \u001b[0m | \u001b[0m 0.8685  \u001b[0m | \u001b[0m 0.8549  \u001b[0m | \u001b[0m 5.955   \u001b[0m | \u001b[0m 0.01595 \u001b[0m | \u001b[0m 4.107   \u001b[0m | \u001b[0m 32.79   \u001b[0m | \u001b[0m 70.65   \u001b[0m |\n",
      "fold n°0\n"
     ]
    },
    {
     "name": "stderr",
     "output_type": "stream",
     "text": [
      "c:\\python3\\lib\\site-packages\\lightgbm\\engine.py:148: UserWarning: Found `n_estimators` in params. Will use it instead of argument\n",
      "  warnings.warn(\"Found `{}` in params. Will use it instead of argument\".format(alias))\n"
     ]
    },
    {
     "name": "stdout",
     "output_type": "stream",
     "text": [
      "Training until validation scores don't improve for 500 rounds\n",
      "[100]\ttraining's auc: 0.86033\tvalid_1's auc: 0.607965\n",
      "[200]\ttraining's auc: 0.909221\tvalid_1's auc: 0.606107\n",
      "[300]\ttraining's auc: 0.926146\tvalid_1's auc: 0.59452\n",
      "[400]\ttraining's auc: 0.941227\tvalid_1's auc: 0.583093\n",
      "[500]\ttraining's auc: 0.947322\tvalid_1's auc: 0.583886\n",
      "Early stopping, best iteration is:\n",
      "[4]\ttraining's auc: 0.685656\tvalid_1's auc: 0.627138\n",
      "fold n°1\n"
     ]
    },
    {
     "name": "stderr",
     "output_type": "stream",
     "text": [
      "c:\\python3\\lib\\site-packages\\lightgbm\\engine.py:148: UserWarning: Found `n_estimators` in params. Will use it instead of argument\n",
      "  warnings.warn(\"Found `{}` in params. Will use it instead of argument\".format(alias))\n"
     ]
    },
    {
     "name": "stdout",
     "output_type": "stream",
     "text": [
      "Training until validation scores don't improve for 500 rounds\n",
      "[100]\ttraining's auc: 0.856336\tvalid_1's auc: 0.584996\n",
      "[200]\ttraining's auc: 0.901949\tvalid_1's auc: 0.587876\n",
      "[300]\ttraining's auc: 0.924321\tvalid_1's auc: 0.586571\n",
      "[400]\ttraining's auc: 0.936587\tvalid_1's auc: 0.574839\n",
      "[500]\ttraining's auc: 0.943931\tvalid_1's auc: 0.567539\n",
      "Early stopping, best iteration is:\n",
      "[67]\ttraining's auc: 0.831574\tvalid_1's auc: 0.592301\n",
      "fold n°2\n"
     ]
    },
    {
     "name": "stderr",
     "output_type": "stream",
     "text": [
      "c:\\python3\\lib\\site-packages\\lightgbm\\engine.py:148: UserWarning: Found `n_estimators` in params. Will use it instead of argument\n",
      "  warnings.warn(\"Found `{}` in params. Will use it instead of argument\".format(alias))\n"
     ]
    },
    {
     "name": "stdout",
     "output_type": "stream",
     "text": [
      "Training until validation scores don't improve for 500 rounds\n",
      "[100]\ttraining's auc: 0.854972\tvalid_1's auc: 0.617785\n",
      "[200]\ttraining's auc: 0.900224\tvalid_1's auc: 0.61138\n",
      "[300]\ttraining's auc: 0.920013\tvalid_1's auc: 0.609892\n",
      "[400]\ttraining's auc: 0.933093\tvalid_1's auc: 0.611367\n",
      "[500]\ttraining's auc: 0.943244\tvalid_1's auc: 0.616208\n",
      "Early stopping, best iteration is:\n",
      "[58]\ttraining's auc: 0.810043\tvalid_1's auc: 0.625141\n",
      "fold n°3\n"
     ]
    },
    {
     "name": "stderr",
     "output_type": "stream",
     "text": [
      "c:\\python3\\lib\\site-packages\\lightgbm\\engine.py:148: UserWarning: Found `n_estimators` in params. Will use it instead of argument\n",
      "  warnings.warn(\"Found `{}` in params. Will use it instead of argument\".format(alias))\n"
     ]
    },
    {
     "name": "stdout",
     "output_type": "stream",
     "text": [
      "Training until validation scores don't improve for 500 rounds\n",
      "[100]\ttraining's auc: 0.84955\tvalid_1's auc: 0.650468\n",
      "[200]\ttraining's auc: 0.899127\tvalid_1's auc: 0.649112\n",
      "[300]\ttraining's auc: 0.922231\tvalid_1's auc: 0.634717\n",
      "[400]\ttraining's auc: 0.936643\tvalid_1's auc: 0.619569\n",
      "[500]\ttraining's auc: 0.945875\tvalid_1's auc: 0.617263\n",
      "Early stopping, best iteration is:\n",
      "[31]\ttraining's auc: 0.765393\tvalid_1's auc: 0.670217\n",
      "fold n°4\n"
     ]
    },
    {
     "name": "stderr",
     "output_type": "stream",
     "text": [
      "c:\\python3\\lib\\site-packages\\lightgbm\\engine.py:148: UserWarning: Found `n_estimators` in params. Will use it instead of argument\n",
      "  warnings.warn(\"Found `{}` in params. Will use it instead of argument\".format(alias))\n"
     ]
    },
    {
     "name": "stdout",
     "output_type": "stream",
     "text": [
      "Training until validation scores don't improve for 500 rounds\n",
      "[100]\ttraining's auc: 0.857976\tvalid_1's auc: 0.609266\n",
      "[200]\ttraining's auc: 0.902674\tvalid_1's auc: 0.605143\n",
      "[300]\ttraining's auc: 0.925802\tvalid_1's auc: 0.601868\n",
      "[400]\ttraining's auc: 0.940279\tvalid_1's auc: 0.591013\n",
      "[500]\ttraining's auc: 0.948678\tvalid_1's auc: 0.584365\n",
      "Early stopping, best iteration is:\n",
      "[24]\ttraining's auc: 0.775349\tvalid_1's auc: 0.62172\n",
      "| \u001b[0m 32      \u001b[0m | \u001b[0m 0.6117  \u001b[0m | \u001b[0m 0.7249  \u001b[0m | \u001b[0m 0.8722  \u001b[0m | \u001b[0m 0.3522  \u001b[0m | \u001b[0m 0.03467 \u001b[0m | \u001b[0m 4.798   \u001b[0m | \u001b[0m 10.12   \u001b[0m | \u001b[0m 31.02   \u001b[0m |\n",
      "=============================================================================================================\n"
     ]
    }
   ],
   "source": [
    "from bayes_opt import BayesianOptimization\n",
    "\n",
    "fold__ = 5\n",
    "def LGB_CV(\n",
    "          max_depth,\n",
    "          num_leaves,\n",
    "          min_data_in_leaf,\n",
    "          feature_fraction,\n",
    "          bagging_fraction,\n",
    "          lambda_l1,\n",
    "          learning_rate\n",
    "         ):\n",
    "    kfold = 5\n",
    "    folds = StratifiedKFold(n_splits=kfold, shuffle=False, random_state=44000)\n",
    "    oof = np.zeros(len(train_X))\n",
    "\n",
    "    for fold_, (trn_idx, val_idx) in enumerate(folds.split(train_X.values, train_y.values)):\n",
    "        print(\"fold n°{}\".format(fold_))\n",
    "        param = {\n",
    "            'num_leaves': int(num_leaves),\n",
    "            'min_data_in_leaf': int(min_data_in_leaf), \n",
    "            'objective':'binary',\n",
    "            'max_depth': int(max_depth),\n",
    "            'learning_rate': learning_rate,\n",
    "            \"feature_fraction\": feature_fraction,\n",
    "            \"bagging_freq\": 1,\n",
    "            \"bagging_fraction\": bagging_fraction ,\n",
    "            \"bagging_seed\": 11,\n",
    "            \"metric\": 'auc',\n",
    "            \"lambda_l1\": lambda_l1,\n",
    "            'n_estimators': 1500,\n",
    "            'boosting' : 'gbdt',\n",
    "            \"verbosity\": -1,\n",
    "            'seed':int(2**fold__),\n",
    "            'bagging_seed':int(2**fold__),\n",
    "            'drop_seed':int(2**fold__)\n",
    "        }\n",
    "        trn_data = lgb.Dataset(train_X.iloc[trn_idx][train_cols], label=train_y.iloc[trn_idx], categorical_feature=category_cols)\n",
    "        val_data = lgb.Dataset(train_X.iloc[val_idx][train_cols], label=train_y.iloc[val_idx], categorical_feature=category_cols)\n",
    "        clf = lgb.train(param, trn_data, num_round, valid_sets = [trn_data, val_data], verbose_eval=100, early_stopping_rounds=500, categorical_feature=category_cols)\n",
    "        oof[val_idx] = clf.predict(train_X.iloc[val_idx][train_cols], num_iteration=clf.best_iteration)\n",
    "        score_arr[fold_] = roc_auc_score(train_y.iloc[val_idx], oof[val_idx])\n",
    "        \n",
    "#         gc.collect()\n",
    "        \n",
    "    return roc_auc_score(train_y, oof)\n",
    "LGB_BO = BayesianOptimization(LGB_CV, {\n",
    "    'max_depth': (4, 10),\n",
    "    'num_leaves': (5, 130),\n",
    "    'min_data_in_leaf': (10, 150),\n",
    "    'feature_fraction': (0.7, 1.0),\n",
    "    'bagging_fraction': (0.7, 1.0),\n",
    "    'lambda_l1': (0, 6),\n",
    "    'learning_rate':(0.01, 0.05)\n",
    "})\n",
    "\n",
    "LGB_BO.maximize(init_points=2, n_iter=30, acq='ei', xi=0.0)"
   ]
  },
  {
   "cell_type": "code",
   "execution_count": 52,
   "metadata": {},
   "outputs": [
    {
     "data": {
      "text/plain": [
       "{'target': 0.6233468123239831,\n",
       " 'params': {'bagging_fraction': 0.9655133661390212,\n",
       "  'feature_fraction': 0.9677151034251028,\n",
       "  'lambda_l1': 0.05348469282270907,\n",
       "  'learning_rate': 0.04939519639223859,\n",
       "  'max_depth': 9.556458920996615,\n",
       "  'min_data_in_leaf': 145.97878593327607,\n",
       "  'num_leaves': 9.561252473098007}}"
      ]
     },
     "execution_count": 52,
     "metadata": {},
     "output_type": "execute_result"
    }
   ],
   "source": [
    "LGB_BO.max"
   ]
  },
  {
   "cell_type": "code",
   "execution_count": 32,
   "metadata": {},
   "outputs": [
    {
     "data": {
      "text/plain": [
       "[-2.0,\n",
       " -1.0,\n",
       " 337.0,\n",
       " 338.0,\n",
       " 339.0,\n",
       " 340.0,\n",
       " 341.0,\n",
       " 342.0,\n",
       " 343.0,\n",
       " 344.0,\n",
       " 345.0,\n",
       " 346.0,\n",
       " 347.0,\n",
       " 348.0,\n",
       " 349.0,\n",
       " 350.0,\n",
       " 351.0,\n",
       " 352.0,\n",
       " 353.0,\n",
       " 354.0,\n",
       " 355.0,\n",
       " 356.0,\n",
       " 357.0,\n",
       " 358.0,\n",
       " 359.0,\n",
       " 360.0,\n",
       " 361.0,\n",
       " 362.0,\n",
       " 363.0,\n",
       " 364.0,\n",
       " 365.0,\n",
       " 366.0,\n",
       " 367.0,\n",
       " 702.0,\n",
       " 703.0,\n",
       " 704.0,\n",
       " 705.0,\n",
       " 706.0,\n",
       " 707.0,\n",
       " 708.0,\n",
       " 709.0,\n",
       " 710.0,\n",
       " 711.0,\n",
       " 712.0,\n",
       " 713.0,\n",
       " 714.0,\n",
       " 715.0,\n",
       " 716.0,\n",
       " 717.0,\n",
       " 718.0,\n",
       " 719.0,\n",
       " 720.0,\n",
       " 721.0,\n",
       " 722.0,\n",
       " 723.0,\n",
       " 724.0,\n",
       " 725.0,\n",
       " 726.0,\n",
       " 727.0,\n",
       " 728.0,\n",
       " 729.0,\n",
       " 730.0,\n",
       " 731.0,\n",
       " 732.0,\n",
       " 1067.0,\n",
       " 1068.0,\n",
       " 1069.0,\n",
       " 1070.0,\n",
       " 1071.0,\n",
       " 1072.0,\n",
       " 1073.0,\n",
       " 1074.0,\n",
       " 1075.0,\n",
       " 1076.0,\n",
       " 1077.0,\n",
       " 1078.0,\n",
       " 1079.0,\n",
       " 1080.0,\n",
       " 1081.0,\n",
       " 1082.0,\n",
       " 1083.0,\n",
       " 1084.0,\n",
       " 1085.0,\n",
       " 1086.0,\n",
       " 1087.0,\n",
       " 1088.0,\n",
       " 1089.0,\n",
       " 1090.0,\n",
       " 1091.0,\n",
       " 1092.0,\n",
       " 1093.0,\n",
       " 1094.0,\n",
       " 1095.0,\n",
       " 1096.0,\n",
       " 1097.0,\n",
       " 1433.0,\n",
       " 1434.0,\n",
       " 1435.0,\n",
       " 1436.0,\n",
       " 1437.0,\n",
       " 1438.0,\n",
       " 1439.0,\n",
       " 1440.0,\n",
       " 1441.0,\n",
       " 1442.0,\n",
       " 1443.0,\n",
       " 1444.0,\n",
       " 1445.0,\n",
       " 1446.0,\n",
       " 1447.0,\n",
       " 1448.0,\n",
       " 1449.0,\n",
       " 1450.0,\n",
       " 1451.0,\n",
       " 1452.0,\n",
       " 1453.0,\n",
       " 1454.0,\n",
       " 1455.0,\n",
       " 1456.0,\n",
       " 1457.0,\n",
       " 1458.0,\n",
       " 1459.0,\n",
       " 1460.0,\n",
       " 1461.0,\n",
       " 1462.0,\n",
       " 1463.0,\n",
       " 1798.0,\n",
       " 1799.0,\n",
       " 1800.0,\n",
       " 1801.0,\n",
       " 1802.0,\n",
       " 1803.0,\n",
       " 1804.0,\n",
       " 1805.0,\n",
       " 1806.0,\n",
       " 1807.0,\n",
       " 1808.0,\n",
       " 1809.0,\n",
       " 1810.0,\n",
       " 1811.0,\n",
       " 1812.0,\n",
       " 1813.0,\n",
       " 1814.0,\n",
       " 1815.0,\n",
       " 1816.0,\n",
       " 1817.0,\n",
       " 1818.0,\n",
       " 1819.0,\n",
       " 1820.0,\n",
       " 1821.0,\n",
       " 1822.0,\n",
       " 1823.0,\n",
       " 1824.0,\n",
       " 1825.0,\n",
       " 1826.0,\n",
       " 1827.0,\n",
       " 1828.0,\n",
       " 2163.0,\n",
       " 2164.0,\n",
       " 2165.0,\n",
       " 2166.0,\n",
       " 2167.0,\n",
       " 2168.0,\n",
       " 2169.0,\n",
       " 2170.0,\n",
       " 2171.0,\n",
       " 2172.0,\n",
       " 2173.0,\n",
       " 2174.0,\n",
       " 2175.0,\n",
       " 2176.0,\n",
       " 2177.0,\n",
       " 2178.0,\n",
       " 2179.0,\n",
       " 2180.0,\n",
       " 2181.0,\n",
       " 2182.0,\n",
       " 2183.0,\n",
       " 2184.0,\n",
       " 2185.0,\n",
       " 2186.0,\n",
       " 2187.0,\n",
       " 2188.0,\n",
       " 2189.0,\n",
       " 2190.0,\n",
       " 2191.0,\n",
       " 2192.0,\n",
       " 2193.0,\n",
       " 2528.0,\n",
       " 2529.0,\n",
       " 2530.0,\n",
       " 2531.0,\n",
       " 2532.0,\n",
       " 2533.0,\n",
       " 2534.0,\n",
       " 2535.0,\n",
       " 2536.0,\n",
       " 2537.0,\n",
       " 2538.0,\n",
       " 2539.0,\n",
       " 2540.0,\n",
       " 2541.0,\n",
       " 2542.0,\n",
       " 2543.0,\n",
       " 2544.0,\n",
       " 2545.0,\n",
       " 2546.0,\n",
       " 2547.0,\n",
       " 2548.0,\n",
       " 2549.0,\n",
       " 2550.0,\n",
       " 2551.0,\n",
       " 2552.0,\n",
       " 2553.0,\n",
       " 2554.0,\n",
       " 2555.0,\n",
       " 2556.0,\n",
       " 2557.0,\n",
       " 2558.0,\n",
       " 2894.0,\n",
       " 2895.0,\n",
       " 2896.0,\n",
       " 2897.0,\n",
       " 2898.0,\n",
       " 2899.0,\n",
       " 2900.0,\n",
       " 2901.0,\n",
       " 2902.0,\n",
       " 2903.0,\n",
       " 2904.0,\n",
       " 2905.0,\n",
       " 2906.0,\n",
       " 2907.0,\n",
       " 2908.0,\n",
       " 2909.0,\n",
       " 2910.0,\n",
       " 2911.0,\n",
       " 2912.0,\n",
       " 2913.0,\n",
       " 2914.0,\n",
       " 2915.0,\n",
       " 2916.0,\n",
       " 2917.0,\n",
       " 2918.0,\n",
       " 2919.0,\n",
       " 2920.0,\n",
       " 2921.0,\n",
       " 2922.0,\n",
       " 2923.0,\n",
       " 2924.0,\n",
       " 3259.0,\n",
       " 3260.0,\n",
       " 3261.0,\n",
       " 3262.0,\n",
       " 3263.0,\n",
       " 3264.0,\n",
       " 3265.0,\n",
       " 3266.0,\n",
       " 3267.0,\n",
       " 3268.0,\n",
       " 3269.0,\n",
       " 3270.0,\n",
       " 3271.0,\n",
       " 3272.0,\n",
       " 3273.0,\n",
       " 3274.0,\n",
       " 3275.0,\n",
       " 3276.0,\n",
       " 3277.0,\n",
       " 3278.0,\n",
       " 3279.0,\n",
       " 3280.0,\n",
       " 3281.0,\n",
       " 3282.0,\n",
       " 3283.0,\n",
       " 3284.0,\n",
       " 3285.0,\n",
       " 3286.0,\n",
       " 3287.0,\n",
       " 3288.0,\n",
       " 3289.0,\n",
       " 3624.0,\n",
       " 3625.0,\n",
       " 3626.0,\n",
       " 3627.0,\n",
       " 3628.0,\n",
       " 3629.0,\n",
       " 3630.0,\n",
       " 3631.0,\n",
       " 3632.0,\n",
       " 3633.0,\n",
       " 3634.0,\n",
       " 3635.0,\n",
       " 3636.0,\n",
       " 3637.0,\n",
       " 3638.0,\n",
       " 3639.0,\n",
       " 3640.0,\n",
       " 3641.0,\n",
       " 3642.0,\n",
       " 3643.0,\n",
       " 3644.0,\n",
       " 3645.0,\n",
       " 3646.0,\n",
       " 3647.0,\n",
       " 3648.0,\n",
       " 3649.0,\n",
       " 3650.0,\n",
       " 3651.0,\n",
       " 3652.0,\n",
       " 3653.0,\n",
       " 3654.0,\n",
       " 3989.0,\n",
       " 3990.0,\n",
       " 3991.0,\n",
       " 3992.0,\n",
       " 3993.0,\n",
       " 3994.0,\n",
       " 3995.0,\n",
       " 3996.0,\n",
       " 3997.0,\n",
       " 3998.0,\n",
       " 3999.0,\n",
       " 4000.0,\n",
       " 4001.0,\n",
       " 4002.0,\n",
       " 4003.0,\n",
       " 4004.0,\n",
       " 4005.0,\n",
       " 4006.0,\n",
       " 4007.0,\n",
       " 4008.0,\n",
       " 4009.0,\n",
       " 4010.0,\n",
       " 4011.0,\n",
       " 4012.0,\n",
       " 4013.0,\n",
       " 4014.0,\n",
       " 4015.0,\n",
       " 4016.0,\n",
       " 4017.0,\n",
       " 4018.0,\n",
       " 4019.0,\n",
       " 4355.0,\n",
       " 4356.0,\n",
       " 4357.0,\n",
       " 4358.0,\n",
       " 4359.0,\n",
       " 4360.0,\n",
       " 4361.0,\n",
       " 4362.0,\n",
       " 4363.0,\n",
       " 4364.0,\n",
       " 4365.0,\n",
       " 4366.0,\n",
       " 4367.0,\n",
       " 4368.0,\n",
       " 4369.0,\n",
       " 4370.0,\n",
       " 4371.0,\n",
       " 4372.0,\n",
       " 4373.0,\n",
       " 4374.0,\n",
       " 4375.0,\n",
       " 4376.0,\n",
       " 4377.0,\n",
       " 4378.0,\n",
       " 4379.0,\n",
       " 4380.0,\n",
       " 4381.0,\n",
       " 4382.0,\n",
       " 4383.0,\n",
       " 4384.0,\n",
       " 4385.0,\n",
       " 4722.0,\n",
       " 4723.0,\n",
       " 4724.0,\n",
       " 4725.0,\n",
       " 4726.0,\n",
       " 4727.0,\n",
       " 4728.0,\n",
       " 4729.0,\n",
       " 4731.0,\n",
       " 4732.0,\n",
       " 4733.0,\n",
       " 4734.0,\n",
       " 4735.0,\n",
       " 4736.0,\n",
       " 4737.0,\n",
       " 4738.0,\n",
       " 4739.0,\n",
       " 4740.0,\n",
       " 4741.0,\n",
       " 4742.0,\n",
       " 4743.0,\n",
       " 4745.0,\n",
       " 4746.0,\n",
       " 4747.0,\n",
       " 4749.0,\n",
       " 4750.0,\n",
       " 5085.0,\n",
       " 5086.0,\n",
       " 5087.0,\n",
       " 5089.0,\n",
       " 5091.0,\n",
       " 5095.0,\n",
       " 5096.0,\n",
       " 5102.0,\n",
       " 5103.0,\n",
       " 5104.0,\n",
       " 5105.0,\n",
       " 5106.0,\n",
       " 5107.0,\n",
       " 5111.0,\n",
       " 5112.0,\n",
       " 5450.0,\n",
       " 5451.0,\n",
       " 5452.0,\n",
       " 5453.0,\n",
       " 5454.0,\n",
       " 5457.0,\n",
       " 5460.0,\n",
       " 5461.0,\n",
       " 5462.0,\n",
       " 5463.0,\n",
       " 5465.0,\n",
       " 5467.0,\n",
       " 5469.0,\n",
       " 5471.0,\n",
       " 5474.0,\n",
       " 5479.0,\n",
       " 5480.0,\n",
       " 5818.0,\n",
       " 5819.0,\n",
       " 5823.0,\n",
       " 5826.0,\n",
       " 5827.0,\n",
       " 5828.0,\n",
       " 5832.0,\n",
       " 5834.0,\n",
       " 5836.0,\n",
       " 5839.0,\n",
       " 5840.0,\n",
       " 5846.0,\n",
       " 6181.0,\n",
       " 6183.0,\n",
       " 6184.0,\n",
       " 6188.0,\n",
       " 6196.0,\n",
       " 6197.0,\n",
       " 6201.0,\n",
       " 6203.0,\n",
       " 6204.0,\n",
       " 6205.0,\n",
       " 6206.0,\n",
       " 6209.0,\n",
       " 6210.0,\n",
       " 6546.0,\n",
       " 6548.0,\n",
       " 6549.0,\n",
       " 6551.0,\n",
       " 6553.0,\n",
       " 6555.0,\n",
       " 6559.0,\n",
       " 6563.0,\n",
       " 6570.0,\n",
       " 6914.0,\n",
       " 6916.0,\n",
       " 6932.0,\n",
       " 6935.0,\n",
       " 6936.0,\n",
       " 6937.0,\n",
       " 6940.0,\n",
       " 7279.0,\n",
       " 7281.0,\n",
       " 7284.0,\n",
       " 7291.0,\n",
       " 7299.0,\n",
       " 7307.0,\n",
       " 7643.0,\n",
       " 7645.0,\n",
       " 7648.0,\n",
       " 7649.0,\n",
       " 7650.0,\n",
       " 7651.0,\n",
       " 7652.0,\n",
       " 7657.0,\n",
       " 7658.0,\n",
       " 7660.0,\n",
       " 7662.0,\n",
       " 7665.0,\n",
       " 7668.0,\n",
       " 7669.0,\n",
       " 7671.0,\n",
       " 7672.0,\n",
       " 8009.0,\n",
       " 8010.0,\n",
       " 8011.0,\n",
       " 8012.0,\n",
       " 8013.0,\n",
       " 8014.0,\n",
       " 8016.0,\n",
       " 8017.0,\n",
       " 8018.0,\n",
       " 8019.0,\n",
       " 8020.0,\n",
       " 8021.0,\n",
       " 8026.0,\n",
       " 8029.0,\n",
       " 8030.0,\n",
       " 8032.0,\n",
       " 8035.0,\n",
       " 8036.0,\n",
       " 8037.0]"
      ]
     },
     "execution_count": 32,
     "metadata": {},
     "output_type": "execute_result"
    }
   ],
   "source": [
    "dict_count = train['FIELD_3'].value_counts()\n",
    "sorted(dict_count.keys())\n"
   ]
  },
  {
   "cell_type": "code",
   "execution_count": 33,
   "metadata": {},
   "outputs": [
    {
     "data": {
      "text/plain": [
       "<matplotlib.axes._subplots.AxesSubplot at 0x202e490a4e0>"
      ]
     },
     "execution_count": 33,
     "metadata": {},
     "output_type": "execute_result"
    },
    {
     "data": {
      "image/png": "[encoded data removed]",
      "text/plain": [
       "<Figure size 432x288 with 1 Axes>"
      ]
     },
     "metadata": {
      "needs_background": "light"
     },
     "output_type": "display_data"
    }
   ],
   "source": [
    "train[train['FILED_3_by_day'] > 10]['FILED_3_by_day'].plot.hist(bins=100)"
   ]
  },
  {
   "cell_type": "code",
   "execution_count": 34,
   "metadata": {},
   "outputs": [
    {
     "data": {
      "text/plain": [
       "<matplotlib.axes._subplots.AxesSubplot at 0x202e5826588>"
      ]
     },
     "execution_count": 34,
     "metadata": {},
     "output_type": "execute_result"
    },
    {
     "data": {
      "image/png": "[encoded data removed]",
      "text/plain": [
       "<Figure size 432x288 with 1 Axes>"
      ]
     },
     "metadata": {
      "needs_background": "light"
     },
     "output_type": "display_data"
    }
   ],
   "source": [
    "train[train['FILED_3_by_day'] < 10]['FILED_3_by_day'].plot.hist(bins=100)"
   ]
  },
  {
   "cell_type": "code",
   "execution_count": 35,
   "metadata": {},
   "outputs": [
    {
     "ename": "TypeError",
     "evalue": "Empty 'DataFrame': no numeric data to plot",
     "output_type": "error",
     "traceback": [
      "\u001b[1;31m---------------------------------------------------------------------------\u001b[0m",
      "\u001b[1;31mTypeError\u001b[0m                                 Traceback (most recent call last)",
      "\u001b[1;32m<ipython-input-35-197a5a22f36a>\u001b[0m in \u001b[0;36m<module>\u001b[1;34m\u001b[0m\n\u001b[1;32m----> 1\u001b[1;33m \u001b[0mtrain\u001b[0m\u001b[1;33m[\u001b[0m\u001b[1;34m'FIELD_11'\u001b[0m\u001b[1;33m]\u001b[0m\u001b[1;33m.\u001b[0m\u001b[0mplot\u001b[0m\u001b[1;33m.\u001b[0m\u001b[0mhist\u001b[0m\u001b[1;33m(\u001b[0m\u001b[1;33m)\u001b[0m\u001b[1;33m\u001b[0m\u001b[0m\n\u001b[0m",
      "\u001b[1;32mc:\\python3\\lib\\site-packages\\pandas\\plotting\\_core.py\u001b[0m in \u001b[0;36mhist\u001b[1;34m(self, bins, **kwds)\u001b[0m\n\u001b[0;32m   2832\u001b[0m         \u001b[0maxes\u001b[0m \u001b[1;33m:\u001b[0m \u001b[1;33m:\u001b[0m\u001b[1;32mclass\u001b[0m\u001b[1;33m:\u001b[0m\u001b[0;31m`\u001b[0m\u001b[0mmatplotlib\u001b[0m\u001b[1;33m.\u001b[0m\u001b[0maxes\u001b[0m\u001b[1;33m.\u001b[0m\u001b[0mAxes\u001b[0m\u001b[0;31m`\u001b[0m \u001b[1;32mor\u001b[0m \u001b[0mnumpy\u001b[0m\u001b[1;33m.\u001b[0m\u001b[0mndarray\u001b[0m \u001b[0mof\u001b[0m \u001b[0mthem\u001b[0m\u001b[1;33m\u001b[0m\u001b[0m\n\u001b[0;32m   2833\u001b[0m         \"\"\"\n\u001b[1;32m-> 2834\u001b[1;33m         \u001b[1;32mreturn\u001b[0m \u001b[0mself\u001b[0m\u001b[1;33m(\u001b[0m\u001b[0mkind\u001b[0m\u001b[1;33m=\u001b[0m\u001b[1;34m'hist'\u001b[0m\u001b[1;33m,\u001b[0m \u001b[0mbins\u001b[0m\u001b[1;33m=\u001b[0m\u001b[0mbins\u001b[0m\u001b[1;33m,\u001b[0m \u001b[1;33m**\u001b[0m\u001b[0mkwds\u001b[0m\u001b[1;33m)\u001b[0m\u001b[1;33m\u001b[0m\u001b[0m\n\u001b[0m\u001b[0;32m   2835\u001b[0m \u001b[1;33m\u001b[0m\u001b[0m\n\u001b[0;32m   2836\u001b[0m     @Appender(_kde_docstring % {\n",
      "\u001b[1;32mc:\\python3\\lib\\site-packages\\pandas\\plotting\\_core.py\u001b[0m in \u001b[0;36m__call__\u001b[1;34m(self, kind, ax, figsize, use_index, title, grid, legend, style, logx, logy, loglog, xticks, yticks, xlim, ylim, rot, fontsize, colormap, table, yerr, xerr, label, secondary_y, **kwds)\u001b[0m\n\u001b[0;32m   2740\u001b[0m                            \u001b[0mcolormap\u001b[0m\u001b[1;33m=\u001b[0m\u001b[0mcolormap\u001b[0m\u001b[1;33m,\u001b[0m \u001b[0mtable\u001b[0m\u001b[1;33m=\u001b[0m\u001b[0mtable\u001b[0m\u001b[1;33m,\u001b[0m \u001b[0myerr\u001b[0m\u001b[1;33m=\u001b[0m\u001b[0myerr\u001b[0m\u001b[1;33m,\u001b[0m\u001b[1;33m\u001b[0m\u001b[0m\n\u001b[0;32m   2741\u001b[0m                            \u001b[0mxerr\u001b[0m\u001b[1;33m=\u001b[0m\u001b[0mxerr\u001b[0m\u001b[1;33m,\u001b[0m \u001b[0mlabel\u001b[0m\u001b[1;33m=\u001b[0m\u001b[0mlabel\u001b[0m\u001b[1;33m,\u001b[0m \u001b[0msecondary_y\u001b[0m\u001b[1;33m=\u001b[0m\u001b[0msecondary_y\u001b[0m\u001b[1;33m,\u001b[0m\u001b[1;33m\u001b[0m\u001b[0m\n\u001b[1;32m-> 2742\u001b[1;33m                            **kwds)\n\u001b[0m\u001b[0;32m   2743\u001b[0m     \u001b[0m__call__\u001b[0m\u001b[1;33m.\u001b[0m\u001b[0m__doc__\u001b[0m \u001b[1;33m=\u001b[0m \u001b[0mplot_series\u001b[0m\u001b[1;33m.\u001b[0m\u001b[0m__doc__\u001b[0m\u001b[1;33m\u001b[0m\u001b[0m\n\u001b[0;32m   2744\u001b[0m \u001b[1;33m\u001b[0m\u001b[0m\n",
      "\u001b[1;32mc:\\python3\\lib\\site-packages\\pandas\\plotting\\_core.py\u001b[0m in \u001b[0;36mplot_series\u001b[1;34m(data, kind, ax, figsize, use_index, title, grid, legend, style, logx, logy, loglog, xticks, yticks, xlim, ylim, rot, fontsize, colormap, table, yerr, xerr, label, secondary_y, **kwds)\u001b[0m\n\u001b[0;32m   1996\u001b[0m                  \u001b[0myerr\u001b[0m\u001b[1;33m=\u001b[0m\u001b[0myerr\u001b[0m\u001b[1;33m,\u001b[0m \u001b[0mxerr\u001b[0m\u001b[1;33m=\u001b[0m\u001b[0mxerr\u001b[0m\u001b[1;33m,\u001b[0m\u001b[1;33m\u001b[0m\u001b[0m\n\u001b[0;32m   1997\u001b[0m                  \u001b[0mlabel\u001b[0m\u001b[1;33m=\u001b[0m\u001b[0mlabel\u001b[0m\u001b[1;33m,\u001b[0m \u001b[0msecondary_y\u001b[0m\u001b[1;33m=\u001b[0m\u001b[0msecondary_y\u001b[0m\u001b[1;33m,\u001b[0m\u001b[1;33m\u001b[0m\u001b[0m\n\u001b[1;32m-> 1998\u001b[1;33m                  **kwds)\n\u001b[0m\u001b[0;32m   1999\u001b[0m \u001b[1;33m\u001b[0m\u001b[0m\n\u001b[0;32m   2000\u001b[0m \u001b[1;33m\u001b[0m\u001b[0m\n",
      "\u001b[1;32mc:\\python3\\lib\\site-packages\\pandas\\plotting\\_core.py\u001b[0m in \u001b[0;36m_plot\u001b[1;34m(data, x, y, subplots, ax, kind, **kwds)\u001b[0m\n\u001b[0;32m   1799\u001b[0m         \u001b[0mplot_obj\u001b[0m \u001b[1;33m=\u001b[0m \u001b[0mklass\u001b[0m\u001b[1;33m(\u001b[0m\u001b[0mdata\u001b[0m\u001b[1;33m,\u001b[0m \u001b[0msubplots\u001b[0m\u001b[1;33m=\u001b[0m\u001b[0msubplots\u001b[0m\u001b[1;33m,\u001b[0m \u001b[0max\u001b[0m\u001b[1;33m=\u001b[0m\u001b[0max\u001b[0m\u001b[1;33m,\u001b[0m \u001b[0mkind\u001b[0m\u001b[1;33m=\u001b[0m\u001b[0mkind\u001b[0m\u001b[1;33m,\u001b[0m \u001b[1;33m**\u001b[0m\u001b[0mkwds\u001b[0m\u001b[1;33m)\u001b[0m\u001b[1;33m\u001b[0m\u001b[0m\n\u001b[0;32m   1800\u001b[0m \u001b[1;33m\u001b[0m\u001b[0m\n\u001b[1;32m-> 1801\u001b[1;33m     \u001b[0mplot_obj\u001b[0m\u001b[1;33m.\u001b[0m\u001b[0mgenerate\u001b[0m\u001b[1;33m(\u001b[0m\u001b[1;33m)\u001b[0m\u001b[1;33m\u001b[0m\u001b[0m\n\u001b[0m\u001b[0;32m   1802\u001b[0m     \u001b[0mplot_obj\u001b[0m\u001b[1;33m.\u001b[0m\u001b[0mdraw\u001b[0m\u001b[1;33m(\u001b[0m\u001b[1;33m)\u001b[0m\u001b[1;33m\u001b[0m\u001b[0m\n\u001b[0;32m   1803\u001b[0m     \u001b[1;32mreturn\u001b[0m \u001b[0mplot_obj\u001b[0m\u001b[1;33m.\u001b[0m\u001b[0mresult\u001b[0m\u001b[1;33m\u001b[0m\u001b[0m\n",
      "\u001b[1;32mc:\\python3\\lib\\site-packages\\pandas\\plotting\\_core.py\u001b[0m in \u001b[0;36mgenerate\u001b[1;34m(self)\u001b[0m\n\u001b[0;32m    247\u001b[0m     \u001b[1;32mdef\u001b[0m \u001b[0mgenerate\u001b[0m\u001b[1;33m(\u001b[0m\u001b[0mself\u001b[0m\u001b[1;33m)\u001b[0m\u001b[1;33m:\u001b[0m\u001b[1;33m\u001b[0m\u001b[0m\n\u001b[0;32m    248\u001b[0m         \u001b[0mself\u001b[0m\u001b[1;33m.\u001b[0m\u001b[0m_args_adjust\u001b[0m\u001b[1;33m(\u001b[0m\u001b[1;33m)\u001b[0m\u001b[1;33m\u001b[0m\u001b[0m\n\u001b[1;32m--> 249\u001b[1;33m         \u001b[0mself\u001b[0m\u001b[1;33m.\u001b[0m\u001b[0m_compute_plot_data\u001b[0m\u001b[1;33m(\u001b[0m\u001b[1;33m)\u001b[0m\u001b[1;33m\u001b[0m\u001b[0m\n\u001b[0m\u001b[0;32m    250\u001b[0m         \u001b[0mself\u001b[0m\u001b[1;33m.\u001b[0m\u001b[0m_setup_subplots\u001b[0m\u001b[1;33m(\u001b[0m\u001b[1;33m)\u001b[0m\u001b[1;33m\u001b[0m\u001b[0m\n\u001b[0;32m    251\u001b[0m         \u001b[0mself\u001b[0m\u001b[1;33m.\u001b[0m\u001b[0m_make_plot\u001b[0m\u001b[1;33m(\u001b[0m\u001b[1;33m)\u001b[0m\u001b[1;33m\u001b[0m\u001b[0m\n",
      "\u001b[1;32mc:\\python3\\lib\\site-packages\\pandas\\plotting\\_core.py\u001b[0m in \u001b[0;36m_compute_plot_data\u001b[1;34m(self)\u001b[0m\n\u001b[0;32m    365\u001b[0m         \u001b[1;32mif\u001b[0m \u001b[0mis_empty\u001b[0m\u001b[1;33m:\u001b[0m\u001b[1;33m\u001b[0m\u001b[0m\n\u001b[0;32m    366\u001b[0m             raise TypeError('Empty {0!r}: no numeric data to '\n\u001b[1;32m--> 367\u001b[1;33m                             'plot'.format(numeric_data.__class__.__name__))\n\u001b[0m\u001b[0;32m    368\u001b[0m \u001b[1;33m\u001b[0m\u001b[0m\n\u001b[0;32m    369\u001b[0m         \u001b[0mself\u001b[0m\u001b[1;33m.\u001b[0m\u001b[0mdata\u001b[0m \u001b[1;33m=\u001b[0m \u001b[0mnumeric_data\u001b[0m\u001b[1;33m\u001b[0m\u001b[0m\n",
      "\u001b[1;31mTypeError\u001b[0m: Empty 'DataFrame': no numeric data to plot"
     ]
    }
   ],
   "source": [
    "train['FIELD_11'].plot.hist()\n"
   ]
  },
  {
   "cell_type": "code",
   "execution_count": null,
   "metadata": {},
   "outputs": [],
   "source": [
    "train['FIELD_10'].value_counts()"
   ]
  },
  {
   "cell_type": "code",
   "execution_count": null,
   "metadata": {},
   "outputs": [],
   "source": [
    "# dict_count"
   ]
  }
 ],
 "metadata": {
  "kernelspec": {
   "display_name": "Python 3",
   "language": "python",
   "name": "python3"
  },
  "language_info": {
   "codemirror_mode": {
    "name": "ipython",
    "version": 3
   },
   "file_extension": ".py",
   "mimetype": "text/x-python",
   "name": "python",
   "nbconvert_exporter": "python",
   "pygments_lexer": "ipython3",
   "version": "3.6.4"
  }
 },
 "nbformat": 4,
 "nbformat_minor": 1
}
