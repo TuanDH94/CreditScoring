{
 "cells": [
  {
   "cell_type": "code",
   "execution_count": 1,
   "metadata": {},
   "outputs": [],
   "source": [
    "import pandas as pd\n",
    "import numpy as np\n",
    "from sklearn.model_selection import train_test_split\n",
    "from xgboost import XGBClassifier\n",
    "from sklearn import preprocessing\n",
    "from sklearn.model_selection import StratifiedKFold\n",
    "import lightgbm as lgb\n",
    "from sklearn.metrics import roc_auc_score\n",
    "import matplotlib.pyplot as plt\n",
    "import seaborn as sns\n",
    "import warnings\n",
    "warnings.filterwarnings('ignore')"
   ]
  },
  {
   "cell_type": "code",
   "execution_count": 2,
   "metadata": {},
   "outputs": [],
   "source": [
    "train = pd.read_csv('input/train.csv')\n",
    "test = pd.read_csv('input/test.csv')"
   ]
  },
  {
   "cell_type": "markdown",
   "metadata": {},
   "source": [
    "<h2>Preprocessing </h2>"
   ]
  },
  {
   "cell_type": "code",
   "execution_count": 3,
   "metadata": {},
   "outputs": [],
   "source": [
    "data = pd.concat([train, test])"
   ]
  },
  {
   "cell_type": "code",
   "execution_count": 4,
   "metadata": {},
   "outputs": [],
   "source": [
    "data.replace('Tỉnh Hòa Bình', 'Tỉnh Hoà Bình', inplace=True)\n",
    "data.replace('Tỉnh Vĩnh phúc', 'Tỉnh Vĩnh Phúc', inplace=True)"
   ]
  },
  {
   "cell_type": "markdown",
   "metadata": {},
   "source": [
    "Filling missing and nan value"
   ]
  },
  {
   "cell_type": "code",
   "execution_count": 5,
   "metadata": {},
   "outputs": [],
   "source": [
    "category_cols = [\n",
    "    'FIELD_8', 'FIELD_9', 'FIELD_10','FIELD_13','FIELD_17','FIELD_24','FIELD_39', 'FIELD_43',\n",
    "]\n",
    "not_use_cols = ['id', 'label', 'maCv', 'province', 'district', 'FIELD_7']"
   ]
  },
  {
   "cell_type": "code",
   "execution_count": 6,
   "metadata": {},
   "outputs": [],
   "source": [
    "data[['age_source1', 'age_source2']] = data[['age_source1', 'age_source2']].fillna(-999)\n",
    "data[['province', 'district', 'maCv'] + category_cols] = data[['province', 'district', 'maCv'] + category_cols].fillna('Missing')\n",
    "data[['FIELD_50', 'FIELD_51', 'FIELD_52', 'FIELD_53']] = data[['FIELD_50', 'FIELD_51', 'FIELD_52', 'FIELD_53']].fillna(-99.0)"
   ]
  },
  {
   "cell_type": "code",
   "execution_count": 7,
   "metadata": {},
   "outputs": [],
   "source": [
    "dict_map = {'NaN': -1,\n",
    "           'Zero': 0,\n",
    "           'One':1,\n",
    "           'Two':2,\n",
    "           'Three':3,\n",
    "           'Four':4}\n",
    "data['FIELD_35'] = data['FIELD_35'].fillna('NaN').map(dict_map)\n",
    "\n",
    "dict_map = {'NaN': -1,\n",
    "           'I': 1,\n",
    "           'II':2,\n",
    "           'III':3,\n",
    "           'IV':4,\n",
    "           'V':4}\n",
    "data['FIELD_41'] = data['FIELD_41'].fillna('NaN').map(dict_map)\n",
    "\n",
    "dict_map = {'NaN': -1,\n",
    "           'Zezo': 0,\n",
    "           'One':1}\n",
    "data['FIELD_42'] = data['FIELD_42'].fillna('NaN').map(dict_map)\n",
    "\n",
    "dict_map = {'NaN': -1,\n",
    "           'One':1,\n",
    "           'Two':2}\n",
    "data['FIELD_44'] = data['FIELD_44'].fillna('NaN').map(dict_map)\n",
    "\n",
    "dict_map = {'NaN': -999,\n",
    "            'None': -1,\n",
    "            'TRUE': 1,\n",
    "            'FALSE':0\n",
    "}\n",
    "bool_cols = ['FIELD_18','FIELD_19','FIELD_20','FIELD_23','FIELD_25','FIELD_26','FIELD_27','FIELD_28','FIELD_29','FIELD_30',\n",
    "            'FIELD_31','FIELD_36','FIELD_37','FIELD_38']\n",
    "for col in bool_cols:\n",
    "    data[col] = data[col].fillna('NaN').map(dict_map)\n",
    "numberic_cols = ['FIELD_3', 'FIELD_4', 'FIELD_5', 'FIELD_6', 'FIELD_11', 'FIELD_21', 'FIELD_22', 'FIELD_45', 'FIELD_50', 'FIELD_51'\n",
    "                , 'FIELD_52', 'FIELD_53']\n",
    "for col in numberic_cols:\n",
    "    data[col] = data[col].fillna(-999)\n",
    "\n",
    "todo_cols = ['FIELD_54', 'FIELD_55', 'FIELD_56', 'FIELD_57']\n",
    "for col in todo_cols:\n",
    "    data[col] = data[col].fillna(-99.0).replace(['nan'], -1.0)"
   ]
  },
  {
   "cell_type": "code",
   "execution_count": 8,
   "metadata": {},
   "outputs": [],
   "source": [
    "# data[\"maCv2\"] = data[\"maCv\"].str.lower()\n",
    "# def job_category(maCv):\n",
    "#     x = maCv.lower()\n",
    "#     if type(x) == str:\n",
    "#         if \"công nhân\" in x or \"cnv\" in x or \"thợ may\" in x or \"cn\" in x or \"may công nghiệp\" in x \\\n",
    "#         or \"thợ sơn\" in x or \"coõng nhaõn trửùc tieỏp maựy may coõng nghieọp\" in x:\n",
    "#             return \"CN\"\n",
    "#         elif \"giáo viên\" in x:\n",
    "#             return \"GV\"\n",
    "#         elif \"nhân viên\" in x or \"kế toán\" in x or \"cán bộ\" in x or \"nv\" in x:\n",
    "#             return \"NV\"\n",
    "#         elif \"tài xế\" in x or \"lái xe\" in x:\n",
    "#             return \"TX\"\n",
    "#         elif \"undefined\" in x:\n",
    "#             return \"undefined\"\n",
    "#         else:\n",
    "#             return x\n",
    "#     else:\n",
    "#         return x\n",
    "# data['maCv2'] = data['maCv'].apply(job_category).astype(str)"
   ]
  },
  {
   "cell_type": "markdown",
   "metadata": {},
   "source": [
    "<h2>Feature Engineering </h2>"
   ]
  },
  {
   "cell_type": "code",
   "execution_count": 9,
   "metadata": {},
   "outputs": [],
   "source": [
    "data['province'] = data['province'].apply(lambda x : str(x).lower())\n",
    "data['district'] = data['district'].apply(lambda x : str(x).lower())\n",
    "data['maCv'] = data['maCv'].apply(lambda x : str(x).lower())\n",
    "data['is_province'] = data['province'].apply(lambda x : str(x).startswith('tỉnh')).astype('bool')\n",
    "data['is_district'] = data['district'].apply(lambda x : str(x).startswith('huyện')).astype('bool')\n",
    "data['len_FIELD_7'] = data['district'].apply(lambda x : len(list(x)))"
   ]
  },
  {
   "cell_type": "code",
   "execution_count": 10,
   "metadata": {},
   "outputs": [],
   "source": [
    "# data['province'].apply(lambda x : str(x).startswith('tỉnh')).astype('bool')\n",
    "data['FIELD_3_by_day'] = (data['FIELD_3'] - 337) % 365\n",
    "# data['FIELD_3_by_month'] = (data['FIELD_3'] - 337) // 12\n",
    "# data['FIELD_3_by_year'] = (data['FIELD_3'] - 337) // 365"
   ]
  },
  {
   "cell_type": "code",
   "execution_count": 11,
   "metadata": {},
   "outputs": [],
   "source": [
    "data['FIELD_22_lg'] = train['FIELD_22'].apply(lambda x : np.log(x + 0.01)).fillna(-1)"
   ]
  },
  {
   "cell_type": "code",
   "execution_count": 12,
   "metadata": {},
   "outputs": [],
   "source": [
    "# print(data['FIELD_4'].unique())\n",
    "# print(data['FIELD_5'].unique())\n",
    "# print(data['FIELD_6'].unique())"
   ]
  },
  {
   "cell_type": "code",
   "execution_count": 13,
   "metadata": {},
   "outputs": [],
   "source": [
    "# data['autofe_456'] = data['FIELD_4']*100 + data['FIELD_5']*10 + data['FIELD_6']"
   ]
  },
  {
   "cell_type": "code",
   "execution_count": 14,
   "metadata": {},
   "outputs": [],
   "source": [
    "# data['auto_FIELD_4_5_6'] = data['FIELD_4']*100 + data['']"
   ]
  },
  {
   "cell_type": "code",
   "execution_count": 15,
   "metadata": {},
   "outputs": [],
   "source": [
    "from pyvi import ViTokenizer as tokenizer\n",
    "def tokenize(s):\n",
    "    return tokenizer.tokenize(str(s)).lower()\n",
    "train['maCv'] = train['maCv'].apply(lambda x: tokenize(x))\n",
    "\n",
    "from sklearn.feature_extraction.text import TfidfVectorizer\n",
    "vectorizer = TfidfVectorizer().fit(data['maCv'])\n",
    "vec = vectorizer.transform(data['maCv'])\n",
    "from sklearn.decomposition import TruncatedSVD\n",
    "svd = TruncatedSVD(n_components=3, n_iter=7, random_state=42).fit(vec)\n",
    "svd_vec = svd.transform(vec)\n",
    "data['maCv_vec0'], data['maCv_vec1'], data['maCv_vec2'] = svd_vec[:, 0], svd_vec[:, 1], svd_vec[: , 2]\n"
   ]
  },
  {
   "cell_type": "code",
   "execution_count": 16,
   "metadata": {},
   "outputs": [],
   "source": [
    "from sklearn.feature_extraction.text import TfidfVectorizer\n",
    "import ast\n",
    "field_7_str = data['FIELD_7'].fillna('[]').astype(str).apply(lambda x: ' '.join(ast.literal_eval(x)))\n",
    "vectorizer = TfidfVectorizer().fit(field_7_str)\n",
    "vec = vectorizer.transform(field_7_str)\n",
    "from sklearn.decomposition import TruncatedSVD\n",
    "svd = TruncatedSVD(n_components=2, n_iter=7, random_state=42).fit(vec)\n",
    "svd_vec = svd.transform(vec)\n",
    "data['FIELD_7_vec0'], data['FIELD_7_vec1'] = svd_vec[:, 0], svd_vec[:, 1]"
   ]
  },
  {
   "cell_type": "code",
   "execution_count": 17,
   "metadata": {},
   "outputs": [],
   "source": [
    "for col in category_cols + ['province', 'district', 'maCv']:\n",
    "    field = dict(data[col].value_counts())\n",
    "#     to_replace = []\n",
    "#     for key, value in field.items():\n",
    "#         if value < 2:\n",
    "#             to_replace.append(key)\n",
    "#     data[col] = data[col].replace(to_replace, 'UNKNOW')\n",
    "    data[col+'_FREQ'] = data[col].map(field)"
   ]
  },
  {
   "cell_type": "code",
   "execution_count": 18,
   "metadata": {},
   "outputs": [],
   "source": [
    "from sklearn import preprocessing\n",
    "for col in category_cols + ['province', 'district', 'maCv']:\n",
    "    le = preprocessing.LabelEncoder().fit(data[col])\n",
    "    data[col] = le.transform(data[col])"
   ]
  },
  {
   "cell_type": "code",
   "execution_count": 19,
   "metadata": {},
   "outputs": [],
   "source": [
    "# from sklearn.preprocessing import OneHotEncoder\n",
    "# for col in ['FIELD_8', 'FIELD_10', 'FIELD_17', 'FIELD_24', 'FIELD_35', 'FIELD_41', 'FIELD_43', 'FIELD_44']:\n",
    "#     data = pd.concat([data,pd.get_dummies(data[col], prefix=col,dummy_na=True)],axis=1)\n",
    "# #     print(data[col].value_counts())"
   ]
  },
  {
   "cell_type": "code",
   "execution_count": 20,
   "metadata": {},
   "outputs": [],
   "source": [
    "data['diff_age'] = abs(data['age_source1'] - data['age_source2'])\n"
   ]
  },
  {
   "cell_type": "markdown",
   "metadata": {},
   "source": [
    "split"
   ]
  },
  {
   "cell_type": "code",
   "execution_count": 21,
   "metadata": {},
   "outputs": [],
   "source": [
    "object_cols = [col for col in data.columns if data[col].dtype == 'object']\n",
    "data[object_cols] = data[object_cols].astype('category')"
   ]
  },
  {
   "cell_type": "code",
   "execution_count": 22,
   "metadata": {},
   "outputs": [
    {
     "name": "stdout",
     "output_type": "stream",
     "text": [
      "(30000, 86) (20000, 85)\n"
     ]
    }
   ],
   "source": [
    "train = data[data.label.notnull()]\n",
    "test = data[data.label.isnull()]\n",
    "test = test.drop(columns=['label'])\n",
    "print(train.shape, test.shape)"
   ]
  },
  {
   "cell_type": "code",
   "execution_count": 23,
   "metadata": {},
   "outputs": [],
   "source": [
    "# train_woe = pd.read_csv('input/train_fe.csv')\n",
    "# test_woe = pd.read_csv('input/test_fe.csv')\n",
    "# # numberic_cols = ['new_FIELD_3','new_FIELD_50','FIELD_51','FIELD_52','FIELD_53', 'FIELD_54', 'FIELD_55', 'FIELD_56', 'FIELD_57']\n",
    "# fe_cols = [col for col in train_woe.columns if col not in ['id', 'label']]\n",
    "# train[fe_cols] = train_woe[fe_cols]\n",
    "# test[fe_cols] = test_woe[fe_cols]\n",
    "# print(train.shape, test.shape)"
   ]
  },
  {
   "cell_type": "code",
   "execution_count": 24,
   "metadata": {},
   "outputs": [
    {
     "name": "stdout",
     "output_type": "stream",
     "text": [
      "(30000, 80) (30000,)\n"
     ]
    }
   ],
   "source": [
    "train_cols = [col for col in train.columns if col not in not_use_cols]\n",
    "train_X = train[train_cols]\n",
    "train_y = train.label\n",
    "print(train_X.shape, train_y.shape)"
   ]
  },
  {
   "cell_type": "code",
   "execution_count": 25,
   "metadata": {},
   "outputs": [
    {
     "data": {
      "text/plain": [
       "0.0    29514\n",
       "1.0      486\n",
       "Name: label, dtype: int64"
      ]
     },
     "execution_count": 25,
     "metadata": {},
     "output_type": "execute_result"
    }
   ],
   "source": [
    "train_y.value_counts()"
   ]
  },
  {
   "cell_type": "markdown",
   "metadata": {},
   "source": [
    "<h2>Hyperparams optimize </h2>"
   ]
  },
  {
   "cell_type": "code",
   "execution_count": 26,
   "metadata": {},
   "outputs": [],
   "source": [
    "def gini(y_true, y_score):\n",
    "    return roc_auc_score(y_true, y_score)*2 - 1\n",
    "\n",
    "def lgb_gini(y_pred, dataset_true):\n",
    "    y_true = dataset_true.get_label()\n",
    "    return 'gini', gini(y_true, y_pred), True"
   ]
  },
  {
   "cell_type": "code",
   "execution_count": 27,
   "metadata": {},
   "outputs": [],
   "source": [
    "# from bayes_opt import BayesianOptimization\n",
    "\n",
    "# fold__ = 5\n",
    "# def LGB_CV(\n",
    "#           max_depth,\n",
    "#           num_leaves,\n",
    "#           min_data_in_leaf,\n",
    "#           feature_fraction,\n",
    "#           bagging_fraction,\n",
    "#           lambda_l1,\n",
    "#           lambda_l2,\n",
    "#           learning_rate\n",
    "#          ):\n",
    "#     num_round = 10000\n",
    "#     kfold = 5\n",
    "#     folds = StratifiedKFold(n_splits=kfold, shuffle=True, random_state=33)\n",
    "#     oof = np.zeros(len(train_X))\n",
    "\n",
    "#     for fold_, (trn_idx, val_idx) in enumerate(folds.split(train_X.values, train_y.values)):\n",
    "#         print(\"fold n°{}\".format(fold_))\n",
    "#         param = {\n",
    "#             'num_leaves': int(num_leaves),\n",
    "#             'min_data_in_leaf': int(min_data_in_leaf), \n",
    "#             'objective':'binary',\n",
    "#             'max_depth': int(max_depth),\n",
    "#             'learning_rate': learning_rate,\n",
    "#             \"feature_fraction\": feature_fraction,\n",
    "#             \"bagging_freq\": 1,\n",
    "#             \"bagging_fraction\": bagging_fraction ,\n",
    "#             \"bagging_seed\": 11,\n",
    "#             \"metric\": 'auc',\n",
    "#             \"lambda_l1\": lambda_l1,\n",
    "#             \"lambda_l2\": lambda_l2,\n",
    "#             'n_estimators': 1500,\n",
    "#             'boosting' : 'gbdt',\n",
    "#             \"verbosity\": -1,\n",
    "#             'seed':int(2**fold__),\n",
    "#             'bagging_seed':int(2**fold__),\n",
    "#             'drop_seed':int(2**fold__)\n",
    "#         }\n",
    "#         trn_data = lgb.Dataset(train_X.iloc[trn_idx][train_cols], label=train_y.iloc[trn_idx], categorical_feature=category_cols)\n",
    "#         val_data = lgb.Dataset(train_X.iloc[val_idx][train_cols], label=train_y.iloc[val_idx], categorical_feature=category_cols)\n",
    "#         clf = lgb.train(param, trn_data, num_round, feval = lgb_gini, valid_sets = [trn_data, val_data], verbose_eval=100, early_stopping_rounds=500, categorical_feature=category_cols)\n",
    "#         oof[val_idx] = clf.predict(train_X.iloc[val_idx][train_cols], num_iteration=clf.best_iteration)\n",
    "#         score_arr[fold_] = 2*roc_auc_score(train_y.iloc[val_idx], oof[val_idx]) - 1\n",
    "# #         gc.collect()\n",
    "        \n",
    "#     return np.mean(score_arr)\n",
    "# LGB_BO = BayesianOptimization(LGB_CV, {\n",
    "#     'max_depth': (4, 10),\n",
    "#     'num_leaves': (5, 130),\n",
    "#     'min_data_in_leaf': (10, 150),\n",
    "#     'feature_fraction': (0.7, 1.0),\n",
    "#     'bagging_fraction': (0.7, 1.0),\n",
    "#     'lambda_l1': (0, 1),\n",
    "#     'lambda_l2': (0, 6),\n",
    "#     'learning_rate':(0.005, 0.01)\n",
    "# })\n",
    "\n",
    "# LGB_BO.maximize(init_points=2, n_iter=30, acq='ei', xi=0.0)"
   ]
  },
  {
   "cell_type": "code",
   "execution_count": 28,
   "metadata": {},
   "outputs": [],
   "source": [
    "# LGB_BO.max"
   ]
  },
  {
   "cell_type": "markdown",
   "metadata": {},
   "source": [
    "<h2>Training model </h2>"
   ]
  },
  {
   "cell_type": "code",
   "execution_count": 29,
   "metadata": {},
   "outputs": [
    {
     "name": "stdout",
     "output_type": "stream",
     "text": [
      "Fold 0\n",
      "Training until validation scores don't improve for 500 rounds.\n",
      "[100]\ttraining's auc: 0.894416\ttraining's gini: 0.788832\tvalid_1's auc: 0.666293\tvalid_1's gini: 0.332586\n",
      "[200]\ttraining's auc: 0.916443\ttraining's gini: 0.832887\tvalid_1's auc: 0.669717\tvalid_1's gini: 0.339435\n",
      "[300]\ttraining's auc: 0.924094\ttraining's gini: 0.848187\tvalid_1's auc: 0.674812\tvalid_1's gini: 0.349623\n",
      "[400]\ttraining's auc: 0.92943\ttraining's gini: 0.858861\tvalid_1's auc: 0.666889\tvalid_1's gini: 0.333779\n",
      "[500]\ttraining's auc: 0.932875\ttraining's gini: 0.865749\tvalid_1's auc: 0.662381\tvalid_1's gini: 0.324762\n",
      "[600]\ttraining's auc: 0.936228\ttraining's gini: 0.872456\tvalid_1's auc: 0.659\tvalid_1's gini: 0.318\n",
      "[700]\ttraining's auc: 0.939295\ttraining's gini: 0.878589\tvalid_1's auc: 0.655181\tvalid_1's gini: 0.310363\n",
      "Early stopping, best iteration is:\n",
      "[299]\ttraining's auc: 0.923902\ttraining's gini: 0.847804\tvalid_1's auc: 0.675754\tvalid_1's gini: 0.351508\n",
      "Fold 1\n",
      "Training until validation scores don't improve for 500 rounds.\n",
      "[100]\ttraining's auc: 0.885338\ttraining's gini: 0.770676\tvalid_1's auc: 0.638968\tvalid_1's gini: 0.277937\n",
      "[200]\ttraining's auc: 0.910978\ttraining's gini: 0.821956\tvalid_1's auc: 0.656118\tvalid_1's gini: 0.312237\n",
      "[300]\ttraining's auc: 0.923422\ttraining's gini: 0.846843\tvalid_1's auc: 0.653085\tvalid_1's gini: 0.30617\n",
      "[400]\ttraining's auc: 0.92902\ttraining's gini: 0.858041\tvalid_1's auc: 0.653125\tvalid_1's gini: 0.30625\n",
      "[500]\ttraining's auc: 0.93348\ttraining's gini: 0.86696\tvalid_1's auc: 0.647919\tvalid_1's gini: 0.295838\n",
      "[600]\ttraining's auc: 0.936499\ttraining's gini: 0.872999\tvalid_1's auc: 0.642098\tvalid_1's gini: 0.284196\n",
      "Early stopping, best iteration is:\n",
      "[189]\ttraining's auc: 0.909256\ttraining's gini: 0.818511\tvalid_1's auc: 0.657292\tvalid_1's gini: 0.314584\n",
      "Fold 2\n",
      "Training until validation scores don't improve for 500 rounds.\n",
      "[100]\ttraining's auc: 0.8888\ttraining's gini: 0.7776\tvalid_1's auc: 0.593961\tvalid_1's gini: 0.187923\n",
      "[200]\ttraining's auc: 0.914444\ttraining's gini: 0.828889\tvalid_1's auc: 0.589164\tvalid_1's gini: 0.178328\n",
      "[300]\ttraining's auc: 0.926059\ttraining's gini: 0.852117\tvalid_1's auc: 0.584499\tvalid_1's gini: 0.168998\n",
      "[400]\ttraining's auc: 0.93162\ttraining's gini: 0.86324\tvalid_1's auc: 0.579939\tvalid_1's gini: 0.159879\n",
      "[500]\ttraining's auc: 0.93503\ttraining's gini: 0.87006\tvalid_1's auc: 0.57586\tvalid_1's gini: 0.151719\n",
      "Early stopping, best iteration is:\n",
      "[11]\ttraining's auc: 0.831269\ttraining's gini: 0.662538\tvalid_1's auc: 0.614753\tvalid_1's gini: 0.229506\n",
      "Fold 3\n",
      "Training until validation scores don't improve for 500 rounds.\n",
      "[100]\ttraining's auc: 0.886766\ttraining's gini: 0.773531\tvalid_1's auc: 0.592011\tvalid_1's gini: 0.184021\n",
      "[200]\ttraining's auc: 0.916619\ttraining's gini: 0.833238\tvalid_1's auc: 0.590758\tvalid_1's gini: 0.181517\n",
      "[300]\ttraining's auc: 0.927594\ttraining's gini: 0.855187\tvalid_1's auc: 0.587025\tvalid_1's gini: 0.174049\n",
      "[400]\ttraining's auc: 0.932295\ttraining's gini: 0.864589\tvalid_1's auc: 0.586392\tvalid_1's gini: 0.172785\n",
      "[500]\ttraining's auc: 0.935909\ttraining's gini: 0.871818\tvalid_1's auc: 0.586768\tvalid_1's gini: 0.173536\n",
      "[600]\ttraining's auc: 0.938513\ttraining's gini: 0.877025\tvalid_1's auc: 0.588205\tvalid_1's gini: 0.17641\n",
      "Early stopping, best iteration is:\n",
      "[110]\ttraining's auc: 0.892013\ttraining's gini: 0.784026\tvalid_1's auc: 0.594223\tvalid_1's gini: 0.188447\n",
      "Fold 4\n",
      "Training until validation scores don't improve for 500 rounds.\n",
      "[100]\ttraining's auc: 0.890466\ttraining's gini: 0.780932\tvalid_1's auc: 0.608546\tvalid_1's gini: 0.217092\n",
      "[200]\ttraining's auc: 0.911722\ttraining's gini: 0.823445\tvalid_1's auc: 0.622574\tvalid_1's gini: 0.245148\n",
      "[300]\ttraining's auc: 0.922933\ttraining's gini: 0.845867\tvalid_1's auc: 0.626911\tvalid_1's gini: 0.253823\n",
      "[400]\ttraining's auc: 0.92806\ttraining's gini: 0.85612\tvalid_1's auc: 0.628124\tvalid_1's gini: 0.256247\n",
      "[500]\ttraining's auc: 0.933035\ttraining's gini: 0.866069\tvalid_1's auc: 0.630054\tvalid_1's gini: 0.260108\n",
      "Early stopping, best iteration is:\n",
      "[3]\ttraining's auc: 0.79554\ttraining's gini: 0.59108\tvalid_1's auc: 0.631318\tvalid_1's gini: 0.262635\n",
      "CV mean score: 0.26934 \n",
      "STD: 0.05826 \n"
     ]
    }
   ],
   "source": [
    "num_round = 10000\n",
    "kfold = 5\n",
    "folds = StratifiedKFold(n_splits=kfold, shuffle=True, random_state=33)\n",
    "oof = np.zeros(len(train_X))\n",
    "prediction = np.zeros(len(test))\n",
    "score_arr = np.zeros(kfold)\n",
    "feature_importance_df = pd.DataFrame()\n",
    "for fold_, (trn_idx, val_idx) in enumerate(folds.split(train_X.values, train_y.values)):\n",
    "    print(\"Fold {}\".format(fold_))\n",
    "    param = {'num_leaves': int(127.46944213018052),\n",
    "            'min_data_in_leaf': int(142.8216562633925), \n",
    "            'objective':'binary',\n",
    "            'max_depth': int(9.542177995080976),\n",
    "            'learning_rate': 0.006001371601578423,\n",
    "            \"feature_fraction\": 0.7106289550077538,\n",
    "            \"bagging_freq\": 1,\n",
    "            \"bagging_fraction\":  0.7896193631865245 ,\n",
    "            \"metric\": 'auc',\n",
    "            \"lambda_l1\": 0.27253575066409175,\n",
    "            'n_estimators': 1500,\n",
    "            'boosting' : 'gbdt',\n",
    "            \"verbosity\": -1}\n",
    "    trn_data = lgb.Dataset(train_X.iloc[trn_idx][train_cols], label=train_y.iloc[trn_idx])#, categorical_feature=category_cols)\n",
    "    val_data = lgb.Dataset(train_X.iloc[val_idx][train_cols], label=train_y.iloc[val_idx])#, categorical_feature=category_cols)\n",
    "    clf = lgb.train(param, trn_data, num_round, feval = lgb_gini, valid_sets = [trn_data, val_data], verbose_eval=100, early_stopping_rounds=500)#, categorical_feature=category_cols)\n",
    "    oof[val_idx] = clf.predict(train_X.iloc[val_idx][train_cols], num_iteration=clf.best_iteration)\n",
    "#     prediction += clf.predict(test[train_cols], num_iteration=clf.best_iteration)\n",
    "    score_arr[fold_] = 2*roc_auc_score(train_y.iloc[val_idx], oof[val_idx]) - 1\n",
    "    fold_importance_df = pd.DataFrame()\n",
    "    fold_importance_df[\"feature\"] = train_cols\n",
    "    fold_importance_df[\"importance\"] = clf.feature_importance()\n",
    "    fold_importance_df[\"fold\"] = fold_ + 1\n",
    "    feature_importance_df = pd.concat([feature_importance_df, fold_importance_df], axis=0)\n",
    "    if fold_ != 3:\n",
    "        prediction += clf.predict(test[train_cols], num_iteration=clf.best_iteration) / (folds.n_splits - 1)\n",
    "print(\"CV mean score: {:<8.5f}\".format(np.mean(score_arr)))\n",
    "print(\"STD: {:<8.5f}\".format(np.std(score_arr)))"
   ]
  },
  {
   "cell_type": "code",
   "execution_count": 30,
   "metadata": {},
   "outputs": [
    {
     "data": {
      "image/png": "[encoded data removed]",
      "text/plain": [
       "<Figure size 1008x1872 with 1 Axes>"
      ]
     },
     "metadata": {
      "needs_background": "light"
     },
     "output_type": "display_data"
    }
   ],
   "source": [
    "\n",
    "cols = (feature_importance_df[[\"feature\", \"importance\"]]\n",
    "        .groupby(\"feature\")\n",
    "        .mean()\n",
    "        .sort_values(by=\"importance\", ascending=False)[:1000].index)\n",
    "best_features = feature_importance_df.loc[feature_importance_df.feature.isin(cols)]\n",
    "\n",
    "plt.figure(figsize=(14,26))\n",
    "sns.barplot(x=\"importance\", y=\"feature\", data=best_features.sort_values(by=\"importance\",ascending=False))\n",
    "plt.title('LightGBM Features (averaged over folds)')\n",
    "plt.tight_layout()\n",
    "plt.savefig('lgbm_importances.png')"
   ]
  },
  {
   "cell_type": "code",
   "execution_count": 31,
   "metadata": {},
   "outputs": [],
   "source": [
    "\n",
    "submission = pd.read_csv('input/sample_submission.csv')\n",
    "submission['label'] = prediction\n",
    "submission.to_csv('input/submission_bad_fold.csv', index=False)"
   ]
  },
  {
   "cell_type": "code",
   "execution_count": null,
   "metadata": {},
   "outputs": [],
   "source": []
  }
 ],
 "metadata": {
  "kernelspec": {
   "display_name": "Python 3",
   "language": "python",
   "name": "python3"
  },
  "language_info": {
   "codemirror_mode": {
    "name": "ipython",
    "version": 3
   },
   "file_extension": ".py",
   "mimetype": "text/x-python",
   "name": "python",
   "nbconvert_exporter": "python",
   "pygments_lexer": "ipython3",
   "version": "3.5.4"
  }
 },
 "nbformat": 4,
 "nbformat_minor": 2
}
